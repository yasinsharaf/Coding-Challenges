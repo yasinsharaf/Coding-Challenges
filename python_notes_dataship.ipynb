{
 "cells": [
  {
   "cell_type": "markdown",
   "metadata": {},
   "source": [
    "# Assessment"
   ]
  },
  {
   "cell_type": "markdown",
   "metadata": {},
   "source": [
    "### Conditionals & Control Structures\n",
    "- `enumerate(list,startValue)` iterates and indexes over elements in a collection\n",
    "  - 1 Variable in for loop returns tuple `(index, element)`\n",
    "  - 2 Variables in for loop returns index and element seperately\n",
    "- `iter(list)` converts list/string into iterable\n",
    "  - Each element can be printed using `next(list)`\n",
    "  \n",
    "### Data Structures\n",
    "Data Collections\n",
    "- Casting any data collection to a **set** will only keep distinct values\n",
    "  - The length of `set([1,1,2,3,3,3,4])` will be 4\n",
    "\n",
    "### Functions\n",
    "Special Keywords\n",
    "- `*args` allows you to pass in any number of arguments as an iterable collection\n",
    "- `**kwargs` allows for user defined keyword arguments\n",
    "  - Use Cases: Creating your own dictionary\n",
    "- `*`: unpacks data collection\n",
    "- `range()` returns a sequence of numbers starting from 0 until 1 less than input. `range(4)` = 0-3.\n",
    "\n",
    "### OOP\n",
    "Classes\n",
    "- A class is like an object factory which has methods and constructors\n",
    "- `__init__(self, ...)` is not a constructor, but a default method which initializes and sets up the class\n",
    "  - Any objects given values under this is going to set their default value until argument is passed in when calling function\n",
    "Inheritance\n",
    "- `class myClass(parentClass)` is used to inherit parent attributes\n",
    "  - Can use `pass` keyword in child class if you do not wish to add any more attributes"
   ]
  },
  {
   "cell_type": "code",
   "execution_count": null,
   "metadata": {},
   "outputs": [],
   "source": [
    "#enumerate example\n",
    "l1 = [\"eat\", \"sleep\", \"repeat\"]\n",
    "for ele in enumerate(l1, 5):\n",
    "    print(ele)\n",
    "\n",
    "for count, ele in enumerate(l1, 100):\n",
    "    print(count, ele)"
   ]
  },
  {
   "cell_type": "code",
   "execution_count": null,
   "metadata": {},
   "outputs": [],
   "source": [
    "#making a dictionary using **kwargs\n",
    "def make_dict(**kwargs):\n",
    "  return kwargs\n",
    "\n",
    "make_dict(a=1,b=2,c=3)"
   ]
  },
  {
   "cell_type": "markdown",
   "metadata": {},
   "source": [
    "# Rapid Foundations: Python"
   ]
  },
  {
   "cell_type": "markdown",
   "metadata": {},
   "source": [
    "### Day 1 - Intro"
   ]
  },
  {
   "cell_type": "markdown",
   "metadata": {},
   "source": [
    "#### Notes"
   ]
  },
  {
   "cell_type": "markdown",
   "metadata": {},
   "source": [
    "- **For Loops**: iterates over a sequence (list/tuple/dict/set/string)\n",
    "  - Does not need iterator like while loop\n",
    "  - **Control statements**: directs flow of execution\n",
    "    - `break`: stops loop based on condition in body\n",
    "    - `continue`: skip an element of the sequence\n",
    "    - `pass`: when you do not want a block of code in for loop\n",
    "  - `range(start, stop, increment)`: starts @ start, ends @ end-1, increments by #\n",
    "  - `else`: block which executes after final loop\n",
    "    - Does not execute if `break` is used in loop body\n",
    "  - **Nested Loops**: inner loop executes 1x for each iteration of outer loop (cartesian product)\n",
    "    - If only inner loop is in `print()`, then it will print for each iteration of outer loop\n",
    "- **Conditions/If Statements**: uses logical conditions from math\n",
    "  - `if`\n",
    "    - nested if: if yes(a) and if yes(b) else\n",
    "  - `elif`\n",
    "  - `else`\n",
    "  - `and`\\ `or` \\ `not` operators within if\n",
    "  - **Shorthands (Conditional Expressions)**: for one-liner statements\n",
    "    - if: `if` [condition] `print()`\n",
    "    - if-else: `print() if` [expression] `else print()`\n",
    "    - Multiple Else: `print() if` [expression] `else print() if` [expression] `else print()`"
   ]
  },
  {
   "cell_type": "code",
   "execution_count": null,
   "metadata": {},
   "outputs": [],
   "source": [
    "#draw basic shape (triangle)\n",
    "print(\"   /|\")\n",
    "print(\"  / |\")\n",
    "print(\" /  |\")\n",
    "print(\"/___|\")"
   ]
  },
  {
   "cell_type": "markdown",
   "metadata": {},
   "source": [
    "#### HackerRank"
   ]
  },
  {
   "cell_type": "markdown",
   "metadata": {},
   "source": [
    "Notes:\n",
    "- Python files are called modules (.py) which define functions, classes, variables\n",
    "- `__main__`: special variable which indicates the module in use is called \"main\", or the main module.\n",
    "  - If you would like to use a different module, you can import\n",
    "  - HackerRank uses the main module for its exercises\n",
    "- STDIN (standard input): used for I/O programming to accepts standard input methods\n",
    "  - accepts input from user, file, and data streams"
   ]
  },
  {
   "cell_type": "code",
   "execution_count": null,
   "metadata": {},
   "outputs": [],
   "source": [
    "#1: print\n",
    "if __name__ == '__main__':\n",
    "    print(\"Hello, World!\")"
   ]
  },
  {
   "cell_type": "code",
   "execution_count": null,
   "metadata": {},
   "outputs": [],
   "source": [
    "#2: if-else\n",
    "import math\n",
    "import os\n",
    "import random\n",
    "import re\n",
    "import sys\n",
    "\n",
    "if __name__ == '__main__':\n",
    "    n = int(input().strip())\n",
    "    if n % 2 != 0 and n >= 1:\n",
    "        print(\"Weird\")\n",
    "    elif n >= 2 and n <= 5:\n",
    "        print(\"Not Weird\")\n",
    "    elif n >= 6 and n <= 20:\n",
    "        print(\"Weird\")\n",
    "    elif n % 2 == 0 and n > 20:\n",
    "        print(\"Not Weird\")\n",
    "\n",
    "#can also use range(2,6) etc"
   ]
  },
  {
   "cell_type": "code",
   "execution_count": null,
   "metadata": {},
   "outputs": [],
   "source": [
    "#3: arithmetic operators\n",
    "if __name__ == '__main__':\n",
    "    a = int(input())\n",
    "    b = int(input())\n",
    "    print(a+b)\n",
    "    print(a-b)\n",
    "    print(a*b)"
   ]
  },
  {
   "cell_type": "code",
   "execution_count": null,
   "metadata": {},
   "outputs": [],
   "source": [
    "#4: division\n",
    "if __name__ == '__main__':\n",
    "    a = int(input())\n",
    "    b = int(input())\n",
    "    print(a//b)\n",
    "    print(a/b)\n",
    "\n",
    "#output: division result int, division result float"
   ]
  },
  {
   "cell_type": "code",
   "execution_count": null,
   "metadata": {},
   "outputs": [],
   "source": [
    "#5: loops\n",
    "if __name__ == '__main__':\n",
    "    n = int(input())\n",
    "    for i in range(0,n):\n",
    "        print(i*i)\n",
    "\n",
    "#output: square of non-negative numbers less than input"
   ]
  },
  {
   "cell_type": "markdown",
   "metadata": {},
   "source": [
    "### Day 2 - Variables and Data Types"
   ]
  },
  {
   "cell_type": "markdown",
   "metadata": {},
   "source": [
    "#### Notes"
   ]
  },
  {
   "cell_type": "markdown",
   "metadata": {},
   "source": [
    "- **Variables:**\n",
    "  - **Text**: \n",
    "    - str (immutable)\n",
    "  - **Numeric**:\n",
    "    - int: `12`\n",
    "    - float: `1.5` or scientific/power of 10 `10E3`\n",
    "    - complex: imaginary number `1j`\n",
    "      - cannot convert\n",
    "    - random: has its own module `random` with function `randrange()`\n",
    "  - **Sequence**:\n",
    "    - list: `[1,2]`\n",
    "    - tuple (immutable): `(1,2)`\n",
    "    - range: `range(start,stop)`\n",
    "  - **Mapping**:\n",
    "    - dictionary: `{a:1,b:2}`\n",
    "  - **Set**:\n",
    "    - set (distinct): `{1,2}`\n",
    "    - frozenset (immutable): `frozenset({1,2})`\n",
    "  - **Bool**: \n",
    "    - `True,False`\n",
    "  - **Binary**:\n",
    "    - bytes (immutable 0 - 256): `b\"Hello\"`\n",
    "    - bytearray (mutable 0 - 256): returns elements which can be changed `bytearray(5)`\n",
    "    - memoryview: returns object how its stored in memory\n",
    "  - **None**"
   ]
  },
  {
   "cell_type": "markdown",
   "metadata": {},
   "source": [
    "#### HackerRank"
   ]
  },
  {
   "cell_type": "markdown",
   "metadata": {},
   "source": [
    "List Comprehension: creates new list based on values of existing list\n",
    "- Inputs: 4 ints\n",
    "  - 1,2,3: these set end of their ranges\n",
    "  - 4: sum of values in each range which sets exclusive limit for ranges\n",
    "- Syntax: new list = '[x for x in fruits if \"a\" in x]' \n",
    "- Permutations: all possible combinations of a list of elements"
   ]
  },
  {
   "cell_type": "code",
   "execution_count": 21,
   "metadata": {},
   "outputs": [
    {
     "name": "stdout",
     "output_type": "stream",
     "text": [
      "[[0, 0, 0], [0, 0, 1], [0, 0, 2], [0, 0, 3], [0, 1, 0], [0, 1, 1], [0, 1, 2], [0, 1, 3], [0, 2, 0], [0, 2, 1], [0, 2, 2], [1, 0, 0], [1, 0, 1], [1, 0, 2], [1, 0, 3], [1, 1, 0], [1, 1, 1], [1, 1, 2], [1, 2, 0], [1, 2, 1], [1, 2, 3]]\n"
     ]
    }
   ],
   "source": [
    "def cartesian_product(x,y,z,n):\n",
    "    perms = [[i,j,k] for i in range(x+1) for j in range(y+1) for k in range(z+1) if i+j+k != n]\n",
    "    print(perms)\n",
    "\n",
    "cartesian_product(1,2,3,5)\n",
    "\n",
    "#output: all combinations of the numbers between each range which do not add up to n"
   ]
  },
  {
   "cell_type": "markdown",
   "metadata": {},
   "source": [
    "Find the Runner-Up: print second highest number from given list\n",
    "- Inputs:\n",
    "  - 1: int\n",
    "  - 2: str (numbers spaced out) --> split by space --> map int() to each number --> map object\n",
    "- Steps:\n",
    "  - sort input into asc order\n",
    "  - `sorted()` can be used on a set, but to call `.sort()` off object it needs to be a list\n",
    "  - can also use reverse=True kwarg to use positive index\n",
    "  - convert arr to set to avoid fetching a duplicate max\n",
    "  - fetch second to last number using index"
   ]
  },
  {
   "cell_type": "code",
   "execution_count": 23,
   "metadata": {},
   "outputs": [
    {
     "name": "stdout",
     "output_type": "stream",
     "text": [
      "5\n"
     ]
    }
   ],
   "source": [
    "def runner_up(num, arr):\n",
    "    num = int(num)\n",
    "    arr = map(int, arr.split())\n",
    "    arr = sorted(set(arr))              #convert into set and sort asc\n",
    "    print(arr[-2])                      #print second to last number\n",
    "\n",
    "runner_up(5, \"2 3 6 6 5\")"
   ]
  },
  {
   "cell_type": "markdown",
   "metadata": {},
   "source": [
    "Nested Lists: Print name of student from list who scored second-lowest. List tied students alphabetically\n",
    "- Inputs: \n",
    "  - 1: # of students(int) --> range()\n",
    "  - 2: name (str)\n",
    "  - 3: score --> float\n",
    "- Steps:\n",
    "    - Make 3 empty lists: names, scores, and records (nested list)\n",
    "    - Loop 1:\n",
    "      - Append names to names list\n",
    "      - Append scores to scores list\n",
    "      - Append names + scores to records list\n",
    "      - Remove duplicate scores from list and sort asc\n",
    "      - Store target score (2nd Lowest)\n",
    "      - Make a list of students who match target score using records list\n",
    "      - Sort this list alphabetically\n",
    "    - Loop 2: Print names"
   ]
  },
  {
   "cell_type": "code",
   "execution_count": null,
   "metadata": {},
   "outputs": [],
   "source": [
    "if __name__ == '__main__':\n",
    "    names = []\n",
    "    scores = []\n",
    "    records = []\n",
    "    for _ in range(int(input())):\n",
    "        name = input()\n",
    "        score = float(input())\n",
    "        \n",
    "        names.append(name)\n",
    "        scores.append(score)\n",
    "        records.append([name,score])\n",
    "        \n",
    "    scores = sorted(set(scores))\n",
    "    target_score = scores[1]\n",
    "    target_students = sorted([i[0] for i in records if i[1] == target_score])\n",
    "    \n",
    "    for student in target_students:\n",
    "        print(student)"
   ]
  },
  {
   "cell_type": "markdown",
   "metadata": {},
   "source": [
    "Dictionaries: Find average score of students whose grades are listed in dictionary.\n",
    "- Input 1: # of records\n",
    "- Input 2: name and scores\n",
    "   - name is split from from scores (can be multiple)\n",
    "   - `*`: splat operator, unpacks multiple input values from list\n",
    "scores --> floats --> list\n",
    "dictionary: key = name, value = scores\n",
    "- Input 3: name of desired student\n",
    "  \n",
    "- Steps:\n",
    "   - Pull scores from dictionary by name key\n",
    "   - sum scores and divide by length\n",
    "   - format to 2 dec places"
   ]
  },
  {
   "cell_type": "code",
   "execution_count": null,
   "metadata": {},
   "outputs": [],
   "source": [
    "if __name__ == '__main__':\n",
    "    n = int(input())\n",
    "    student_marks = {}\n",
    "    for _ in range(n):\n",
    "        name, *line = input().split()\n",
    "        scores = list(map(float, line))\n",
    "        student_marks[name] = scores\n",
    "    query_name = input()\n",
    "    \n",
    "    scores = student_marks[query_name]\n",
    "    avg = sum(scores)/len(scores)\n",
    "    print(format(avg, \".2F\"))"
   ]
  },
  {
   "cell_type": "markdown",
   "metadata": {},
   "source": [
    "Tuples: Create tuple t from ints and find hash\n",
    "- Inputs: \n",
    "  - 1: int\n",
    "  - 2: list of nums --> split --> map int()\n",
    "- Steps:\n",
    "  - Convert map object --> tuple\n",
    "  - hash tuple\n",
    "  - `hash()`: returns hash value (int) of tuple, which is used to compare dict keys"
   ]
  },
  {
   "cell_type": "code",
   "execution_count": null,
   "metadata": {},
   "outputs": [],
   "source": [
    "if __name__ == '__main__':\n",
    "    n = int(input())\n",
    "    integer_list = map(int, input().split())\n",
    "    \n",
    "    myTuple = tuple(integer_list)\n",
    "    print(hash(myTuple))"
   ]
  },
  {
   "cell_type": "markdown",
   "metadata": {},
   "source": [
    "List: Update list based on functions passed in\n",
    "   - Input 1: int (# of commands)\n",
    "   - Input *N: lines containing commands\n",
    "   - Steps:\n",
    "     - For Loop:\n",
    "       - Fetch Commands: split input --> map `str()` to convert type --> list\n",
    "       - each if statement corresponds to command, and body executes command which matches user string\n",
    "       - numbers inserted/removed/appended must be of `int` data type"
   ]
  },
  {
   "cell_type": "code",
   "execution_count": null,
   "metadata": {},
   "outputs": [],
   "source": [
    "if __name__ == '__main__':\n",
    "    N = int(input())\n",
    "    myList = []\n",
    "    for _ in range(N):\n",
    "        commands = list(map(str, input().split()))\n",
    "        if commands[0] == 'insert':\n",
    "            myList.insert(int(commands[1]), int(commands[2]))\n",
    "        elif commands[0] == 'print':\n",
    "            print(myList)\n",
    "        elif commands[0] == 'remove':\n",
    "            myList.remove(int(commands[1]))\n",
    "        elif commands[0] == 'append':\n",
    "            myList.append(int(commands[1]))\n",
    "        elif commands[0] == 'sort':\n",
    "            myList.sort()\n",
    "        elif commands[0] == 'pop':\n",
    "            myList.pop()\n",
    "        elif commands[0] == 'reverse':\n",
    "            myList.reverse()"
   ]
  },
  {
   "cell_type": "markdown",
   "metadata": {},
   "source": [
    "### Day 3 - Strings"
   ]
  },
  {
   "cell_type": "markdown",
   "metadata": {},
   "source": [
    "#### Notes"
   ]
  },
  {
   "cell_type": "markdown",
   "metadata": {},
   "source": [
    "- **strings**: an array/sequence of chars\n",
    "  - can use single or double quote enclosing\n",
    "  - **nested string**\n",
    "    - `\"im 'bored'\"`, `'im \"bored\"'`\n",
    "  - **multiline**\n",
    "    - \"\"\"str\"\"\"\n",
    "  - **loop**\n",
    "    - `for x in \"yasin\":`\n",
    "  - **word/char check**\n",
    "    - `print(\"yasin\" in/not in list)` = t/f\n",
    "    - `if \"yasin\" in/not in text:`\n",
    "  - **slicing/indexing**\n",
    "    - `str[2:5]`: does not include end position\n",
    "    - `str[:5]`: start to 5\n",
    "    - `str[2:]`: 2 to end\n",
    "      - **neg indexing**\n",
    "        - `str[-5:-2]`: counts from end: between 5th char from end to 2nd char from end\n",
    "  - **concat**\n",
    "    - `a + \" \" + b`: combine these strings\n",
    "  - **format**: \n",
    "    - f-string: `str = f\"str\"` or `print(f\"str\")`\n",
    "      - variables: `f\"hi {name}`\n",
    "      - modifier: `f\"price: ${price:.2F}\"`\n",
    "      - operations: `f\"i am {today - birth} years old\"`\n",
    "- **carriage returns/operators**\n",
    "  - `\\n`: newline\n",
    "  - `\\`: escape (next character is printed, not used as a delim)\n",
    "  - `+`: concatenate 2 strings\n",
    "  - `\\b`: erases a char\n",
    "  - `\\[octal]`: octal value (letter) of 3 digits\n",
    "  - `\\[hex]`: 2 digits and a letter which represents hex of a character\n",
    "- **methods**\n",
    "  - **modification**\n",
    "    - `str.strip()`: remove whitespace\n",
    "    - `str.replace(\"a\",\"b\")`: replace part of str\n",
    "    - `str.split(\",\")`: split by delimiter --> output is list\n",
    "    - `\"-\".join(list)`: list --> string\n",
    "    - `str.lower(), str.upper()` = case change\n",
    "    - `str.title()` = capitalize words\n",
    "  - **validation**\n",
    "    - `str.islower(), str.isupper()` = true/false\n",
    "    - `str.isalnum(), .isalpha(), isdigit()`: checks if str is alphanumeric, digits, or letters\n",
    "  - **combinations**\n",
    "    - `str.upper().isupper()`\n",
    "- **functions**\n",
    "  - **counting**\n",
    "    - `len()`: prints length int\n",
    "- **index**\n",
    "  - `str[0]`: starts w 0\n",
    "  - `str.index(\"a\")`: index of character/word/part of word\n",
    "- **unpack**: `*str` --> list"
   ]
  },
  {
   "cell_type": "markdown",
   "metadata": {},
   "source": [
    "#### HackerRank"
   ]
  },
  {
   "cell_type": "markdown",
   "metadata": {},
   "source": [
    "- **Swap Case:** switch upper chars to lower and lower to upper\n",
    "  - Input: str\n",
    "  - Steps:\n",
    "    - make new empty string\n",
    "    - for loop\n",
    "      - swap case based on whether its upper/lower\n",
    "      - append modified char into string\n",
    "    - return string\n",
    "  \n",
    "    *note: don't use == \"True\" for bool return function in if statement. use function itself as condition."
   ]
  },
  {
   "cell_type": "code",
   "execution_count": 20,
   "metadata": {},
   "outputs": [
    {
     "data": {
      "text/plain": [
       "'pYtEST'"
      ]
     },
     "execution_count": 20,
     "metadata": {},
     "output_type": "execute_result"
    }
   ],
   "source": [
    "def swap_case(s):\n",
    "    swapped = \"\"\n",
    "    for char in s:\n",
    "        if char.isupper():  #dont use == true\n",
    "            swapped += char.lower()\n",
    "        else:\n",
    "            swapped += char.upper()\n",
    "    \n",
    "    return swapped\n",
    "\n",
    "swap_case(\"PyTest\")"
   ]
  },
  {
   "cell_type": "markdown",
   "metadata": {},
   "source": [
    "- **String Split and Join**: split string on space delim and join using hyphen\n",
    "  - Input: str\n",
    "  - Steps:\n",
    "      - split string --> returns list\n",
    "      - join items using -"
   ]
  },
  {
   "cell_type": "code",
   "execution_count": null,
   "metadata": {},
   "outputs": [
    {
     "data": {
      "text/plain": [
       "'file-name'"
      ]
     },
     "metadata": {},
     "output_type": "display_data"
    }
   ],
   "source": [
    "def split_and_join(line):\n",
    "    modified = line.split()\n",
    "    modified = \"-\".join(modified)\n",
    "    return modified\n",
    "\n",
    "split_and_join(\"file name\")"
   ]
  },
  {
   "cell_type": "markdown",
   "metadata": {},
   "source": [
    "- **What's Your Name?:** read two lines and print into given sentence\n",
    "  - Inputs: \n",
    "    - 1: fName str\n",
    "    - 2: lName str\n",
    "  - Steps:\n",
    "    - format using f string and print\n"
   ]
  },
  {
   "cell_type": "code",
   "execution_count": null,
   "metadata": {},
   "outputs": [
    {
     "name": "stdout",
     "output_type": "stream",
     "text": [
      "Hello Yasin Sharaf! You just delved into python.\n"
     ]
    }
   ],
   "source": [
    "\n",
    "def print_full_name(first, last):\n",
    "    welcome = f\"Hello {first} {last}! You just delved into python.\"\n",
    "    print(welcome)\n",
    "\n",
    "print_full_name(\"Yasin\", \"Sharaf\")"
   ]
  },
  {
   "cell_type": "markdown",
   "metadata": {},
   "source": [
    "- **Mutations:** change character in a string, an immutable data tyoe\n",
    "  - Inputs: \n",
    "    - 1: str\n",
    "    - 2: \"index\" space \"char\" --> splits into list(index, char)\n",
    "  - Steps:\n",
    "    - make vars:\n",
    "      - index to insert at\n",
    "      - index after insertion\n",
    "      - character parameter\n",
    "      - new string\n",
    "    - slice the string into two parts:\n",
    "      - before change index\n",
    "      - after change index (index + 1)\n",
    "    - add in new char between both slices\n",
    "    - print"
   ]
  },
  {
   "cell_type": "code",
   "execution_count": null,
   "metadata": {},
   "outputs": [
    {
     "data": {
      "text/plain": [
       "'yaseen'"
      ]
     },
     "metadata": {},
     "output_type": "display_data"
    }
   ],
   "source": [
    "def mutate_string(string, position, character):\n",
    "    i = position\n",
    "    j = i + 1\n",
    "    char = character\n",
    "    mutated_str = string[:i] + char + string[j:]\n",
    "    \n",
    "    return mutated_str\n",
    "\n",
    "mutate_string(\"yasin\",3, \"ee\")"
   ]
  },
  {
   "cell_type": "markdown",
   "metadata": {},
   "source": [
    "- **Find a string**: count substring occurrences in given string\n",
    "  - Inputs: \n",
    "    - 1: str\n",
    "    - 2: substr\n",
    "  - Steps:\n",
    "    - you need to store and use two values:\n",
    "      - substring length: for sliding window in for loop (uses counter position to move starting point traverse over string)\n",
    "      - remainder(string - substring): this is the inclusive range to traverse over (so add 1)\n",
    "    - in each iteration, compare sliding window (size of substring, starts from iterator position) to substring\n",
    "    - tally number of matches"
   ]
  },
  {
   "cell_type": "code",
   "execution_count": null,
   "metadata": {},
   "outputs": [
    {
     "data": {
      "text/plain": [
       "2"
      ]
     },
     "metadata": {},
     "output_type": "display_data"
    }
   ],
   "source": [
    "def count_substring(string, sub_string):\n",
    "    traverse_over =len(string) - len(sub_string)\n",
    "    count = 0\n",
    "    \n",
    "    for i in range(0,traverse_over+1):\n",
    "        block_end = i+len(sub_string)\n",
    "\n",
    "        if(string[i:block_end] == sub_string):\n",
    "            count += 1\n",
    "    return count\n",
    "\n",
    "count_substring(\"xiexie!\", \"xie\")"
   ]
  },
  {
   "cell_type": "markdown",
   "metadata": {},
   "source": [
    "- **String Validators**: validate whether each char type exists in the given string\n",
    "  - Input: str\n",
    "  - Steps:\n",
    "    - list comprehension: loops validation methods over each char\n",
    "    - validation must return true if any chars in string match"
   ]
  },
  {
   "cell_type": "code",
   "execution_count": null,
   "metadata": {},
   "outputs": [
    {
     "name": "stdout",
     "output_type": "stream",
     "text": [
      "True\n",
      "True\n",
      "True\n",
      "True\n",
      "True\n"
     ]
    }
   ],
   "source": [
    "def str_validation(string):\n",
    "    print(any(char.isalnum() for char in string))\n",
    "    print(any(char.isalpha() for char in string))\n",
    "    print(any(char.isdigit() for char in string))\n",
    "    print(any(char.islower() for char in string))\n",
    "    print(any(char.isupper() for char in string))\n",
    "\n",
    "str_validation(\"Cub4n$$\")"
   ]
  },
  {
   "cell_type": "markdown",
   "metadata": {},
   "source": [
    "- **Text Wrap:** wrap given str into paragraph of given width\n",
    "  - Inputs: \n",
    "    - 1: string\n",
    "    - 2: width int\n",
    "  - Modules:\n",
    "    - textwrap: uses `fill()` which wraps text based on max width for each line\n",
    "      - `wrap()` returns list\n"
   ]
  },
  {
   "cell_type": "code",
   "execution_count": null,
   "metadata": {},
   "outputs": [
    {
     "data": {
      "text/plain": [
       "'I\\nwent\\nto\\nthe\\nmoon'"
      ]
     },
     "metadata": {},
     "output_type": "display_data"
    }
   ],
   "source": [
    "import textwrap\n",
    "\n",
    "def wrap(string, max_width):\n",
    "    mywidth = int(max_width)\n",
    "    return textwrap.fill(string, max_width)\n",
    "\n",
    "wrap(\"I went to the moon\",4)"
   ]
  },
  {
   "cell_type": "markdown",
   "metadata": {},
   "source": [
    "### Day 4 - Sets"
   ]
  },
  {
   "cell_type": "markdown",
   "metadata": {},
   "source": [
    "#### Notes"
   ]
  },
  {
   "cell_type": "markdown",
   "metadata": {},
   "source": [
    "Sets `{}`\n",
    "- **Key Facts**\n",
    "  - Initialize using `()`\n",
    "  - distinct elements, regardless of input\n",
    "  - No index, so cannot fetch elements using `set[i]`\n",
    "  - Immutable, but can add/remove items\n",
    "  - No order\n",
    "  - `False` and `0` considered equal values\n",
    "  - `True` and `1` considered equal values\n",
    "  - Can be any data type\n",
    "- **Functions**\n",
    "  - `len(set)`\n",
    "  - `sorted(set)`\n",
    "- **Constructor**\n",
    "  - `set((list))`: converts list to set\n",
    "- **Methods**\n",
    "  - **Comparisons**\n",
    "    - `set.symmetric_difference(set2)`: Values only existing in one set\n",
    "      - or `print(set1^set2)`\n",
    "    - `set.union(set2)`: Union distinct (combine both)\n",
    "      - or `print(set1 | set2)`\n",
    "    - `set.intersection(set2)`: Inner join (matching elements) \n",
    "      - or `print(set1 & set 2)`\n",
    "    - `set.difference(set2)`: Remove set 2 elements from set 1\n",
    "      -  `print(set1 - set2)`\n",
    "  - **Adding**\n",
    "     - `set.add(i)`: adds element\n",
    "     - `set.update([collection])`: add a collection of elements (iterable) to set\n",
    "  - **Removing**\n",
    "    - `set.discard(i)`: removes value\n",
    "    - `set.remove(i)`: removes value and returns KeyError if that value does not exist\n",
    "    - `set.pop([index])`: removes value at given index (last element by default)\n",
    "  \n",
    "  \n",
    "  *note: a constructor function creates new object (ie a set) and has no return value"
   ]
  },
  {
   "cell_type": "markdown",
   "metadata": {},
   "source": [
    "#### HackerRank"
   ]
  },
  {
   "cell_type": "markdown",
   "metadata": {},
   "source": [
    "Intro to Sets: Compute avg of all plants w distinct heights\n",
    "- Inputs:\n",
    "  - 1: size of arr (int)\n",
    "  - 2: space-seperated ints (str) --> arr\n",
    "- Steps:\n",
    "  - convert arr --> set\n",
    "  - use for loop to add all elements and find avg"
   ]
  },
  {
   "cell_type": "code",
   "execution_count": 2,
   "metadata": {},
   "outputs": [
    {
     "data": {
      "text/plain": [
       "3.5"
      ]
     },
     "execution_count": 2,
     "metadata": {},
     "output_type": "execute_result"
    }
   ],
   "source": [
    "def average(array):\n",
    "    array = list(map(int,array.split()))\n",
    "    mySet = set(array)\n",
    "    \n",
    "    total = 0\n",
    "    for i in mySet:\n",
    "        total += i\n",
    "        avg = total/len(mySet)\n",
    "    return avg\n",
    "\n",
    "average(\"1 2 3 4 5 6\")"
   ]
  },
  {
   "cell_type": "markdown",
   "metadata": {},
   "source": [
    "Apply Set Methods\n",
    "- `_` is a var which holds `input()`, but doesnt need to be named since it will not be used\n",
    "- Use an integer input to allow user to set range of a list of inputs\n",
    "- Use `sorted()` to sort set\n",
    "- print elements of set using loop"
   ]
  },
  {
   "cell_type": "code",
   "execution_count": null,
   "metadata": {},
   "outputs": [],
   "source": [
    "_, eng = input(), set(input().split())\n",
    "_, french = input(), set(input().split())\n",
    "\n",
    "symmetric_difference = eng.symmetric_difference(french)\n",
    "print(len(unique_vals))\n",
    "\n",
    "union = eng.union(french)\n",
    "print(len(union))\n",
    "\n",
    "intersection = eng.intersection(french)\n",
    "print(len(intersection))\n",
    "\n",
    "difference = eng.difference(french)\n",
    "print(len(difference))"
   ]
  },
  {
   "cell_type": "code",
   "execution_count": null,
   "metadata": {},
   "outputs": [],
   "source": [
    "n = int(input())     #number of country inputs\n",
    "\n",
    "set1 = set()\n",
    "for country in range(n):\n",
    "    set1.add(input())  \n",
    "\n",
    "print(len(set1))"
   ]
  },
  {
   "cell_type": "code",
   "execution_count": null,
   "metadata": {},
   "outputs": [],
   "source": [
    "#sort and print values unique to each set\n",
    "input()\n",
    "set1 = set(map(int,input().split()))\n",
    "input()\n",
    "set2 = set(map(int,input().split()))\n",
    "\n",
    "symmetric_difference = sorted(set1^set2)\n",
    "for i in symmetric_difference:\n",
    "    print(i)"
   ]
  },
  {
   "cell_type": "code",
   "execution_count": null,
   "metadata": {},
   "outputs": [],
   "source": [
    "# discard, remove, pop\n",
    "n = int(input())                          #num of elements in set\n",
    "s = set(map(int, input().split()))        #spaced out chars in str --> int(chars) --> set\n",
    "N = int(input())                          #num of commands\n",
    "\n",
    "for item in range(0, N):\n",
    "    cmd = input().split()                 #str \"command #\" --> list with index command = 0 and # = 1\n",
    "    if cmd[0] == \"pop\":\n",
    "        s.pop()\n",
    "    if cmd[0] == \"remove\":\n",
    "        try:\n",
    "            s.remove(int(cmd[1]))\n",
    "        finally:\n",
    "            continue\n",
    "    if cmd[0] == \"discard\":\n",
    "        try:\n",
    "            s.discard(int(cmd[1]))\n",
    "        finally:\n",
    "            continue\n",
    "            \n",
    "print(sum(s))"
   ]
  },
  {
   "cell_type": "markdown",
   "metadata": {},
   "source": [
    "### Day 5 - Math & Itertools"
   ]
  },
  {
   "cell_type": "markdown",
   "metadata": {},
   "source": [
    "#### Notes"
   ]
  },
  {
   "cell_type": "markdown",
   "metadata": {},
   "source": [
    "- **Facts**\n",
    "  - Itertools: module for working with iterables\n",
    "- **Functions**\n",
    "  - `product(a,b)`: cartesian product of iters. returns itertools object (convert to list)\n",
    "    - kwargs: `repeat=`\n",
    "  - `permutations(a)`: all possible orderings of iter\n",
    "    - args: length (int)\n",
    "  - `combinations(a)`: all possible combinatons of elements in iter\n",
    "    - args: length (int)\n",
    "  - `combinations_with_replacement(a)`: combines element with itself as well\n",
    "  - `accumulate(a)`: running totals for each element\n",
    "    - kwargs: `func=[operator.mul, max]`\n",
    "  - `groupby(a)`: seperates elements into groups based on condition. returns dict {key = condition t/f, value = subset}\n",
    "    - kwargs: `key= [func/lambda]`\n",
    "    - **Infinite Loop**\n",
    "      - `count(a)`: repeats loop until stop condition, starts at a\n",
    "      - `cycle(a)`: cycles over iterable until stop condition\n",
    "      - `repeat(a, [stop]): repeats a number until break`"
   ]
  },
  {
   "cell_type": "markdown",
   "metadata": {},
   "source": [
    "#### HackerRank"
   ]
  },
  {
   "cell_type": "code",
   "execution_count": null,
   "metadata": {},
   "outputs": [],
   "source": [
    "#permutation: string into permutations\n",
    "from itertools import permutations\n",
    "S,k = input().split()\n",
    "\n",
    "k = int(k)\n",
    "\n",
    "perms = list(permutations(sorted(S),int(k)))\n",
    "\n",
    "for perm in perms:\n",
    "    print(''.join(perm))"
   ]
  }
 ],
 "metadata": {
  "kernelspec": {
   "display_name": "base",
   "language": "python",
   "name": "python3"
  },
  "language_info": {
   "codemirror_mode": {
    "name": "ipython",
    "version": 3
   },
   "file_extension": ".py",
   "mimetype": "text/x-python",
   "name": "python",
   "nbconvert_exporter": "python",
   "pygments_lexer": "ipython3",
   "version": "3.9.12"
  }
 },
 "nbformat": 4,
 "nbformat_minor": 2
}
