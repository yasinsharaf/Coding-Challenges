{
 "cells": [
  {
   "cell_type": "markdown",
   "metadata": {},
   "source": [
    "# Assessments"
   ]
  },
  {
   "cell_type": "markdown",
   "metadata": {},
   "source": [
    "### Results:\n",
    "Take 1: 67th percentile (intermediate)\n",
    "\n",
    "Take 2: 87th percentile (advanced)\n"
   ]
  },
  {
   "cell_type": "markdown",
   "metadata": {},
   "source": [
    "### Take 1"
   ]
  },
  {
   "cell_type": "markdown",
   "metadata": {},
   "source": [
    "#### Conditionals & Control Structures\n",
    "- `enumerate(list,startValue)` iterates and indexes over elements in a collection\n",
    "  - 1 Variable in for loop returns tuple `(index, element)`\n",
    "  - 2 Variables in for loop returns index and element seperately\n",
    "- `iter(list)` converts list/string into iterable\n",
    "  - Each element can be printed using `next(list)`\n",
    "  \n",
    "#### Data Structures\n",
    "Data Collections\n",
    "- Casting any data collection to a **set** will only keep distinct values\n",
    "  - The length of `set([1,1,2,3,3,3,4])` will be 4\n",
    "\n",
    "#### Functions\n",
    "Special Keywords\n",
    "- `*args` allows you to pass in any number of arguments as an iterable collection\n",
    "- `**kwargs` allows for user defined keyword arguments\n",
    "  - Use Cases: Creating your own dictionary\n",
    "- `*`: unpacks data collection\n",
    "- `range()` returns a sequence of numbers starting from 0 until 1 less than input. `range(4)` = 0-3.\n",
    "\n",
    "#### OOP\n",
    "Classes\n",
    "- A class is like an object factory which has methods and constructors\n",
    "- `__init__(self, ...)` is not a constructor, but a default method which initializes and sets up the class\n",
    "  - Any objects given values under this is going to set their default value until argument is passed in when calling function\n",
    "Inheritance\n",
    "- `class myClass(parentClass)` is used to inherit parent attributes\n",
    "  - Can use `pass` keyword in child class if you do not wish to add any more attributes"
   ]
  },
  {
   "cell_type": "code",
   "execution_count": null,
   "metadata": {},
   "outputs": [],
   "source": [
    "#enumerate example\n",
    "l1 = [\"eat\", \"sleep\", \"repeat\"]\n",
    "for ele in enumerate(l1, 5):\n",
    "    print(ele)\n",
    "\n",
    "for count, ele in enumerate(l1, 100):\n",
    "    print(count, ele)"
   ]
  },
  {
   "cell_type": "code",
   "execution_count": null,
   "metadata": {},
   "outputs": [],
   "source": [
    "#making a dictionary using **kwargs\n",
    "def make_dict(**kwargs):\n",
    "  return kwargs\n",
    "\n",
    "make_dict(a=1,b=2,c=3)"
   ]
  },
  {
   "cell_type": "markdown",
   "metadata": {},
   "source": [
    "### Take 2"
   ]
  },
  {
   "cell_type": "markdown",
   "metadata": {},
   "source": [
    "#### Conditionals and Control Structures\n",
    "- Enumerate\n",
    "   - Dont forget second variable used in body to include in for clause:\n",
    "   - `for ii, x in enumerate(list):`\n",
    "    - `print(ii, : , x)`\n",
    "- List Comprehensions\n",
    "  - study conditionals in this section\n",
    "- Generator\n",
    "  - Made from list using list comprehension in for loop in () brackets\n",
    "  - This is a function which creates iterator object and can generate elements using next()\n",
    "\n",
    "#### Functions\n",
    "- Lambda\n",
    "  - treat variable as function call as `x = lambda a,b: a+b` = `x(a,b)`\n",
    "  - `x = lambda: \"str\"` is just a function with no parameters, and is called using `x()` to fetch result\n",
    "- Classes and Docstrings\n",
    "  - Docstring of a function stored in its class using triple quotes\n",
    "    - called using `func.__doc__`\n",
    "- Function\n",
    "  - Name called using `func.__name__`"
   ]
  },
  {
   "cell_type": "code",
   "execution_count": 3,
   "metadata": {},
   "outputs": [
    {
     "name": "stdout",
     "output_type": "stream",
     "text": [
      "<class 'generator'>\n"
     ]
    }
   ],
   "source": [
    "#create generator from list\n",
    "l1 = ['a','b','c']\n",
    "\n",
    "list_gen = (val for val in l1)\n",
    "\n",
    "print(type(list_gen))\n",
    "\n",
    "#next(list_gen) prints 'a' and so on"
   ]
  },
  {
   "cell_type": "markdown",
   "metadata": {},
   "source": [
    "# Rapid Foundations: Python"
   ]
  },
  {
   "cell_type": "markdown",
   "metadata": {},
   "source": [
    "### Day 1 - Intro"
   ]
  },
  {
   "cell_type": "markdown",
   "metadata": {},
   "source": [
    "#### Notes"
   ]
  },
  {
   "cell_type": "markdown",
   "metadata": {},
   "source": [
    "- **For Loops**: iterates over a sequence (list/tuple/dict/set/string)\n",
    "  - Does not need iterator like while loop\n",
    "  - **Control statements**: directs flow of execution\n",
    "    - `break`: stops loop based on condition in body\n",
    "    - `continue`: skip an element of the sequence\n",
    "    - `pass`: when you do not want a block of code in for loop\n",
    "  - `range(start, stop, increment)`: starts @ start, ends @ end-1, increments by #\n",
    "  - `else`: block which executes after final loop\n",
    "    - Does not execute if `break` is used in loop body\n",
    "  - **Nested Loops**: inner loop executes 1x for each iteration of outer loop (cartesian product)\n",
    "    - If only inner loop is in `print()`, then it will print for each iteration of outer loop\n",
    "- **Conditions/If Statements**: uses logical conditions from math\n",
    "  - `if`\n",
    "    - nested if: if yes(a) and if yes(b) else\n",
    "  - `elif`\n",
    "  - `else`\n",
    "  - `and`\\ `or` \\ `not` operators within if\n",
    "  - **Shorthands (Conditional Expressions)**: for one-liner statements\n",
    "    - if: `if` [condition] `print()`\n",
    "    - if-else: `print() if` [expression] `else print()`\n",
    "    - Multiple Else: `print() if` [expression] `else print() if` [expression] `else print()`"
   ]
  },
  {
   "cell_type": "code",
   "execution_count": null,
   "metadata": {},
   "outputs": [],
   "source": [
    "#draw basic shape (triangle)\n",
    "print(\"   /|\")\n",
    "print(\"  / |\")\n",
    "print(\" /  |\")\n",
    "print(\"/___|\")"
   ]
  },
  {
   "cell_type": "markdown",
   "metadata": {},
   "source": [
    "#### HackerRank"
   ]
  },
  {
   "cell_type": "markdown",
   "metadata": {},
   "source": [
    "Notes:\n",
    "- Python files are called modules (.py) which define functions, classes, variables\n",
    "- `__main__`: special variable which indicates the module in use is called \"main\", or the main module.\n",
    "  - If you would like to use a different module, you can import\n",
    "  - HackerRank uses the main module for its exercises\n",
    "- STDIN (standard input): used for I/O programming to accepts standard input methods\n",
    "  - accepts input from user, file, and data streams"
   ]
  },
  {
   "cell_type": "code",
   "execution_count": null,
   "metadata": {},
   "outputs": [],
   "source": [
    "#1: print\n",
    "if __name__ == '__main__':\n",
    "    print(\"Hello, World!\")"
   ]
  },
  {
   "cell_type": "code",
   "execution_count": null,
   "metadata": {},
   "outputs": [],
   "source": [
    "#2: if-else\n",
    "import math\n",
    "import os\n",
    "import random\n",
    "import re\n",
    "import sys\n",
    "\n",
    "if __name__ == '__main__':\n",
    "    n = int(input().strip())\n",
    "    if n % 2 != 0 and n >= 1:\n",
    "        print(\"Weird\")\n",
    "    elif n >= 2 and n <= 5:\n",
    "        print(\"Not Weird\")\n",
    "    elif n >= 6 and n <= 20:\n",
    "        print(\"Weird\")\n",
    "    elif n % 2 == 0 and n > 20:\n",
    "        print(\"Not Weird\")\n",
    "\n",
    "#can also use range(2,6) etc"
   ]
  },
  {
   "cell_type": "code",
   "execution_count": null,
   "metadata": {},
   "outputs": [],
   "source": [
    "#3: arithmetic operators\n",
    "if __name__ == '__main__':\n",
    "    a = int(input())\n",
    "    b = int(input())\n",
    "    print(a+b)\n",
    "    print(a-b)\n",
    "    print(a*b)"
   ]
  },
  {
   "cell_type": "code",
   "execution_count": null,
   "metadata": {},
   "outputs": [],
   "source": [
    "#4: division\n",
    "if __name__ == '__main__':\n",
    "    a = int(input())\n",
    "    b = int(input())\n",
    "    print(a//b)\n",
    "    print(a/b)\n",
    "\n",
    "#output: division result int, division result float"
   ]
  },
  {
   "cell_type": "code",
   "execution_count": null,
   "metadata": {},
   "outputs": [],
   "source": [
    "#5: loops\n",
    "if __name__ == '__main__':\n",
    "    n = int(input())\n",
    "    for i in range(0,n):\n",
    "        print(i*i)\n",
    "\n",
    "#output: square of non-negative numbers less than input"
   ]
  },
  {
   "cell_type": "markdown",
   "metadata": {},
   "source": [
    "### Day 2 - Variables and Data Types"
   ]
  },
  {
   "cell_type": "markdown",
   "metadata": {},
   "source": [
    "#### Notes"
   ]
  },
  {
   "cell_type": "markdown",
   "metadata": {},
   "source": [
    "- **Variables:**\n",
    "  - **Text**: \n",
    "    - str (immutable)\n",
    "  - **Numeric**:\n",
    "    - int: `12`\n",
    "    - float: `1.5` or scientific/power of 10 `10E3`\n",
    "    - complex: imaginary number `1j`\n",
    "      - cannot convert\n",
    "    - random: has its own module `random` with function `randrange()`\n",
    "  - **Collection**:\n",
    "    - list: `[1,2]`\n",
    "    - tuple (immutable): `(1,2)`\n",
    "    - range: `range(start,stop)`\n",
    "    - **Mapping**:\n",
    "      - dictionary: `{a:1,b:2}`\n",
    "  - **Set**:\n",
    "    - set (distinct): `{1,2}`\n",
    "    - frozenset (immutable): `frozenset({1,2})`\n",
    "  - **Bool**: \n",
    "    - `True,False`\n",
    "  - **Binary**:\n",
    "    - bytes (immutable 0 - 256): `b\"Hello\"`\n",
    "    - bytearray (mutable 0 - 256): returns elements which can be changed `bytearray(5)`\n",
    "    - memoryview: returns object how its stored in memory\n",
    "  - **None**"
   ]
  },
  {
   "cell_type": "markdown",
   "metadata": {},
   "source": [
    "#### HackerRank"
   ]
  },
  {
   "cell_type": "markdown",
   "metadata": {},
   "source": [
    "List Comprehension: creates new list based on values of existing list\n",
    "- Inputs: 4 ints\n",
    "  - 1,2,3: these set end of their ranges\n",
    "  - 4: sum of values in each range which sets exclusive limit for ranges\n",
    "- Syntax: new list = '[x for x in fruits if \"a\" in x]' \n",
    "- Permutations: all possible combinations of a list of elements"
   ]
  },
  {
   "cell_type": "code",
   "execution_count": 21,
   "metadata": {},
   "outputs": [
    {
     "name": "stdout",
     "output_type": "stream",
     "text": [
      "[[0, 0, 0], [0, 0, 1], [0, 0, 2], [0, 0, 3], [0, 1, 0], [0, 1, 1], [0, 1, 2], [0, 1, 3], [0, 2, 0], [0, 2, 1], [0, 2, 2], [1, 0, 0], [1, 0, 1], [1, 0, 2], [1, 0, 3], [1, 1, 0], [1, 1, 1], [1, 1, 2], [1, 2, 0], [1, 2, 1], [1, 2, 3]]\n"
     ]
    }
   ],
   "source": [
    "def cartesian_product(x,y,z,n):\n",
    "    perms = [[i,j,k] for i in range(x+1) for j in range(y+1) for k in range(z+1) if i+j+k != n]\n",
    "    print(perms)\n",
    "\n",
    "cartesian_product(1,2,3,5)\n",
    "\n",
    "#output: all combinations of the numbers between each range which do not add up to n"
   ]
  },
  {
   "cell_type": "markdown",
   "metadata": {},
   "source": [
    "Find the Runner-Up: print second highest number from given list\n",
    "- Inputs:\n",
    "  - 1: int\n",
    "  - 2: str (numbers spaced out) --> split by space --> map int() to each number --> map object\n",
    "- Steps:\n",
    "  - sort input into asc order\n",
    "  - `sorted()` can be used on a set, but to call `.sort()` off object it needs to be a list\n",
    "  - can also use reverse=True kwarg to use positive index\n",
    "  - convert arr to set to avoid fetching a duplicate max\n",
    "  - fetch second to last number using index"
   ]
  },
  {
   "cell_type": "code",
   "execution_count": 23,
   "metadata": {},
   "outputs": [
    {
     "name": "stdout",
     "output_type": "stream",
     "text": [
      "5\n"
     ]
    }
   ],
   "source": [
    "def runner_up(num, arr):\n",
    "    num = int(num)\n",
    "    arr = map(int, arr.split())\n",
    "    arr = sorted(set(arr))              #convert into set and sort asc\n",
    "    print(arr[-2])                      #print second to last number\n",
    "\n",
    "runner_up(5, \"2 3 6 6 5\")"
   ]
  },
  {
   "cell_type": "markdown",
   "metadata": {},
   "source": [
    "Nested Lists: Print name of student from list who scored second-lowest. List tied students alphabetically\n",
    "- Inputs: \n",
    "  - 1: # of students(int) --> range()\n",
    "  - 2: name (str)\n",
    "  - 3: score --> float\n",
    "- Steps:\n",
    "    - Make 3 empty lists: names, scores, and records (nested list)\n",
    "    - Loop 1:\n",
    "      - Append names to names list\n",
    "      - Append scores to scores list\n",
    "      - Append names + scores to records list\n",
    "      - Remove duplicate scores from list and sort asc\n",
    "      - Store target score (2nd Lowest)\n",
    "      - Make a list of students who match target score using records list\n",
    "      - Sort this list alphabetically\n",
    "    - Loop 2: Print names"
   ]
  },
  {
   "cell_type": "code",
   "execution_count": null,
   "metadata": {},
   "outputs": [],
   "source": [
    "if __name__ == '__main__':\n",
    "    names = []\n",
    "    scores = []\n",
    "    records = []\n",
    "    for _ in range(int(input())):\n",
    "        name = input()\n",
    "        score = float(input())\n",
    "        \n",
    "        names.append(name)\n",
    "        scores.append(score)\n",
    "        records.append([name,score])\n",
    "        \n",
    "    scores = sorted(set(scores))\n",
    "    target_score = scores[1]\n",
    "    target_students = sorted([i[0] for i in records if i[1] == target_score])\n",
    "    \n",
    "    for student in target_students:\n",
    "        print(student)"
   ]
  },
  {
   "cell_type": "markdown",
   "metadata": {},
   "source": [
    "Dictionaries: Find average score of students whose grades are listed in dictionary.\n",
    "- Input 1: # of records\n",
    "- Input 2: name and scores\n",
    "   - name is split from from scores (can be multiple)\n",
    "   - `*`: splat operator, unpacks multiple input values from list\n",
    "scores --> floats --> list\n",
    "dictionary: key = name, value = scores\n",
    "- Input 3: name of desired student\n",
    "  \n",
    "- Steps:\n",
    "   - Pull scores from dictionary by name key\n",
    "   - sum scores and divide by length\n",
    "   - format to 2 dec places"
   ]
  },
  {
   "cell_type": "code",
   "execution_count": null,
   "metadata": {},
   "outputs": [],
   "source": [
    "if __name__ == '__main__':\n",
    "    n = int(input())\n",
    "    student_marks = {}\n",
    "    for _ in range(n):\n",
    "        name, *line = input().split()\n",
    "        scores = list(map(float, line))\n",
    "        student_marks[name] = scores\n",
    "    query_name = input()\n",
    "    \n",
    "    scores = student_marks[query_name]\n",
    "    avg = sum(scores)/len(scores)\n",
    "    print(format(avg, \".2F\"))"
   ]
  },
  {
   "cell_type": "markdown",
   "metadata": {},
   "source": [
    "Tuples: Create tuple t from ints and find hash\n",
    "- Inputs: \n",
    "  - 1: int\n",
    "  - 2: list of nums --> split --> map int()\n",
    "- Steps:\n",
    "  - Convert map object --> tuple\n",
    "  - hash tuple\n",
    "  - `hash()`: returns hash value (int) of tuple, which is used to compare dict keys"
   ]
  },
  {
   "cell_type": "code",
   "execution_count": null,
   "metadata": {},
   "outputs": [],
   "source": [
    "if __name__ == '__main__':\n",
    "    n = int(input())\n",
    "    integer_list = map(int, input().split())\n",
    "    \n",
    "    myTuple = tuple(integer_list)\n",
    "    print(hash(myTuple))"
   ]
  },
  {
   "cell_type": "markdown",
   "metadata": {},
   "source": [
    "List: Update list based on functions passed in\n",
    "   - Input 1: int (# of commands)\n",
    "   - Input *N: lines containing commands\n",
    "   - Steps:\n",
    "     - For Loop:\n",
    "       - Fetch Commands: split input --> map `str()` to convert type --> list\n",
    "       - each if statement corresponds to command, and body executes command which matches user string\n",
    "       - numbers inserted/removed/appended must be of `int` data type"
   ]
  },
  {
   "cell_type": "code",
   "execution_count": null,
   "metadata": {},
   "outputs": [],
   "source": [
    "if __name__ == '__main__':\n",
    "    N = int(input())\n",
    "    myList = []\n",
    "    for _ in range(N):\n",
    "        commands = list(map(str, input().split()))\n",
    "        if commands[0] == 'insert':\n",
    "            myList.insert(int(commands[1]), int(commands[2]))\n",
    "        elif commands[0] == 'print':\n",
    "            print(myList)\n",
    "        elif commands[0] == 'remove':\n",
    "            myList.remove(int(commands[1]))\n",
    "        elif commands[0] == 'append':\n",
    "            myList.append(int(commands[1]))\n",
    "        elif commands[0] == 'sort':\n",
    "            myList.sort()\n",
    "        elif commands[0] == 'pop':\n",
    "            myList.pop()\n",
    "        elif commands[0] == 'reverse':\n",
    "            myList.reverse()"
   ]
  },
  {
   "cell_type": "markdown",
   "metadata": {},
   "source": [
    "### Day 3 - Strings"
   ]
  },
  {
   "cell_type": "markdown",
   "metadata": {},
   "source": [
    "#### Notes"
   ]
  },
  {
   "cell_type": "markdown",
   "metadata": {},
   "source": [
    "- **strings**: an array/sequence of chars\n",
    "  - can use single or double quote enclosing\n",
    "  - **nested string**\n",
    "    - `\"im 'bored'\"`, `'im \"bored\"'`\n",
    "  - **multiline**\n",
    "    - \"\"\"str\"\"\"\n",
    "  - **loop**\n",
    "    - `for x in \"yasin\":`\n",
    "  - **word/char check**\n",
    "    - `print(\"yasin\" in/not in list)` = t/f\n",
    "    - `if \"yasin\" in/not in text:`\n",
    "  - **slicing/indexing**\n",
    "    - `str[2:5]`: does not include end position\n",
    "    - `str[:5]`: start to 5\n",
    "    - `str[2:]`: 2 to end\n",
    "      - **neg indexing**\n",
    "        - `str[-5:-2]`: counts from end: between 5th char from end to 2nd char from end\n",
    "  - **concat**\n",
    "    - `a + \" \" + b`: combine these strings\n",
    "  - **format**: \n",
    "    - f-string: `str = f\"str\"` or `print(f\"str\")`\n",
    "      - variables: `f\"hi {name}`\n",
    "      - modifier: `f\"price: ${price:.2F}\"`\n",
    "      - operations: `f\"i am {today - birth} years old\"`\n",
    "- **carriage returns/operators**\n",
    "  - `\\n`: newline\n",
    "  - `\\`: escape (next character is printed, not used as a delim)\n",
    "  - `+`: concatenate 2 strings\n",
    "  - `\\b`: erases a char\n",
    "  - `\\[octal]`: octal value (letter) of 3 digits\n",
    "  - `\\[hex]`: 2 digits and a letter which represents hex of a character\n",
    "- **methods**\n",
    "  - **modification**\n",
    "    - `str.strip()`: remove whitespace\n",
    "    - `str.replace(\"a\",\"b\")`: replace part of str\n",
    "    - `str.split(\",\")`: split by delimiter --> output is list\n",
    "    - `\"-\".join(list)`: list --> string\n",
    "    - `str.lower(), str.upper()` = case change\n",
    "    - `str.title()` = capitalize words\n",
    "  - **validation**\n",
    "    - `str.islower(), str.isupper()` = true/false\n",
    "    - `str.isalnum(), .isalpha(), isdigit()`: checks if str is alphanumeric, digits, or letters\n",
    "  - **combinations**\n",
    "    - `str.upper().isupper()`\n",
    "- **functions**\n",
    "  - **counting**\n",
    "    - `len()`: prints length int\n",
    "- **index**\n",
    "  - `str[0]`: starts w 0\n",
    "  - `str.index(\"a\")`: index of character/word/part of word\n",
    "- **unpack**: `*str` --> list"
   ]
  },
  {
   "cell_type": "markdown",
   "metadata": {},
   "source": [
    "#### HackerRank"
   ]
  },
  {
   "cell_type": "markdown",
   "metadata": {},
   "source": [
    "- **Swap Case:** switch upper chars to lower and lower to upper\n",
    "  - Input: str\n",
    "  - Steps:\n",
    "    - make new empty string\n",
    "    - for loop\n",
    "      - swap case based on whether its upper/lower\n",
    "      - append modified char into string\n",
    "    - return string\n",
    "  \n",
    "    *note: don't use == \"True\" for bool return function in if statement. use function itself as condition."
   ]
  },
  {
   "cell_type": "code",
   "execution_count": 20,
   "metadata": {},
   "outputs": [
    {
     "data": {
      "text/plain": [
       "'pYtEST'"
      ]
     },
     "execution_count": 20,
     "metadata": {},
     "output_type": "execute_result"
    }
   ],
   "source": [
    "def swap_case(s):\n",
    "    swapped = \"\"\n",
    "    for char in s:\n",
    "        if char.isupper():  #dont use == true\n",
    "            swapped += char.lower()\n",
    "        else:\n",
    "            swapped += char.upper()\n",
    "    \n",
    "    return swapped\n",
    "\n",
    "swap_case(\"PyTest\")"
   ]
  },
  {
   "cell_type": "markdown",
   "metadata": {},
   "source": [
    "- **String Split and Join**: split string on space delim and join using hyphen\n",
    "  - Input: str\n",
    "  - Steps:\n",
    "      - split string --> returns list\n",
    "      - join items using -"
   ]
  },
  {
   "cell_type": "code",
   "execution_count": null,
   "metadata": {},
   "outputs": [
    {
     "data": {
      "text/plain": [
       "'file-name'"
      ]
     },
     "metadata": {},
     "output_type": "display_data"
    }
   ],
   "source": [
    "def split_and_join(line):\n",
    "    modified = line.split()\n",
    "    modified = \"-\".join(modified)\n",
    "    return modified\n",
    "\n",
    "split_and_join(\"file name\")"
   ]
  },
  {
   "cell_type": "markdown",
   "metadata": {},
   "source": [
    "- **What's Your Name?:** read two lines and print into given sentence\n",
    "  - Inputs: \n",
    "    - 1: fName str\n",
    "    - 2: lName str\n",
    "  - Steps:\n",
    "    - format using f string and print\n"
   ]
  },
  {
   "cell_type": "code",
   "execution_count": null,
   "metadata": {},
   "outputs": [
    {
     "name": "stdout",
     "output_type": "stream",
     "text": [
      "Hello Yasin Sharaf! You just delved into python.\n"
     ]
    }
   ],
   "source": [
    "\n",
    "def print_full_name(first, last):\n",
    "    welcome = f\"Hello {first} {last}! You just delved into python.\"\n",
    "    print(welcome)\n",
    "\n",
    "print_full_name(\"Yasin\", \"Sharaf\")"
   ]
  },
  {
   "cell_type": "markdown",
   "metadata": {},
   "source": [
    "- **Mutations:** change character in a string, an immutable data tyoe\n",
    "  - Inputs: \n",
    "    - 1: str\n",
    "    - 2: \"index\" space \"char\" --> splits into list(index, char)\n",
    "  - Steps:\n",
    "    - make vars:\n",
    "      - index to insert at\n",
    "      - index after insertion\n",
    "      - character parameter\n",
    "      - new string\n",
    "    - slice the string into two parts:\n",
    "      - before change index\n",
    "      - after change index (index + 1)\n",
    "    - add in new char between both slices\n",
    "    - print"
   ]
  },
  {
   "cell_type": "code",
   "execution_count": null,
   "metadata": {},
   "outputs": [
    {
     "data": {
      "text/plain": [
       "'yaseen'"
      ]
     },
     "metadata": {},
     "output_type": "display_data"
    }
   ],
   "source": [
    "def mutate_string(string, position, character):\n",
    "    i = position\n",
    "    j = i + 1\n",
    "    char = character\n",
    "    mutated_str = string[:i] + char + string[j:]\n",
    "    \n",
    "    return mutated_str\n",
    "\n",
    "mutate_string(\"yasin\",3, \"ee\")"
   ]
  },
  {
   "cell_type": "markdown",
   "metadata": {},
   "source": [
    "- **Find a string**: count substring occurrences in given string\n",
    "  - Inputs: \n",
    "    - 1: str\n",
    "    - 2: substr\n",
    "  - Steps:\n",
    "    - you need to store and use two values:\n",
    "      - substring length: for sliding window in for loop (uses counter position to move starting point traverse over string)\n",
    "      - remainder(string - substring): this is the inclusive range to traverse over (so add 1)\n",
    "    - in each iteration, compare sliding window (size of substring, starts from iterator position) to substring\n",
    "    - tally number of matches"
   ]
  },
  {
   "cell_type": "code",
   "execution_count": null,
   "metadata": {},
   "outputs": [
    {
     "data": {
      "text/plain": [
       "2"
      ]
     },
     "metadata": {},
     "output_type": "display_data"
    }
   ],
   "source": [
    "def count_substring(string, sub_string):\n",
    "    traverse_over =len(string) - len(sub_string)\n",
    "    count = 0\n",
    "    \n",
    "    for i in range(0,traverse_over+1):\n",
    "        block_end = i+len(sub_string)\n",
    "\n",
    "        if(string[i:block_end] == sub_string):\n",
    "            count += 1\n",
    "    return count\n",
    "\n",
    "count_substring(\"xiexie!\", \"xie\")"
   ]
  },
  {
   "cell_type": "markdown",
   "metadata": {},
   "source": [
    "- **String Validators**: validate whether each char type exists in the given string\n",
    "  - Input: str\n",
    "  - Steps:\n",
    "    - list comprehension: loops validation methods over each char\n",
    "    - validation must return true if any chars in string match"
   ]
  },
  {
   "cell_type": "code",
   "execution_count": null,
   "metadata": {},
   "outputs": [
    {
     "name": "stdout",
     "output_type": "stream",
     "text": [
      "True\n",
      "True\n",
      "True\n",
      "True\n",
      "True\n"
     ]
    }
   ],
   "source": [
    "def str_validation(string):\n",
    "    print(any(char.isalnum() for char in string))\n",
    "    print(any(char.isalpha() for char in string))\n",
    "    print(any(char.isdigit() for char in string))\n",
    "    print(any(char.islower() for char in string))\n",
    "    print(any(char.isupper() for char in string))\n",
    "\n",
    "str_validation(\"Cub4n$$\")"
   ]
  },
  {
   "cell_type": "markdown",
   "metadata": {},
   "source": [
    "- **Text Wrap:** wrap given str into paragraph of given width\n",
    "  - Inputs: \n",
    "    - 1: string\n",
    "    - 2: width int\n",
    "  - Modules:\n",
    "    - textwrap: uses `fill()` which wraps text based on max width for each line\n",
    "      - `wrap()` returns list\n"
   ]
  },
  {
   "cell_type": "code",
   "execution_count": null,
   "metadata": {},
   "outputs": [
    {
     "data": {
      "text/plain": [
       "'I\\nwent\\nto\\nthe\\nmoon'"
      ]
     },
     "metadata": {},
     "output_type": "display_data"
    }
   ],
   "source": [
    "import textwrap\n",
    "\n",
    "def wrap(string, max_width):\n",
    "    mywidth = int(max_width)\n",
    "    return textwrap.fill(string, max_width)\n",
    "\n",
    "wrap(\"I went to the moon\",4)"
   ]
  },
  {
   "cell_type": "markdown",
   "metadata": {},
   "source": [
    "### Day 4 - Sets"
   ]
  },
  {
   "cell_type": "markdown",
   "metadata": {},
   "source": [
    "#### Notes"
   ]
  },
  {
   "cell_type": "markdown",
   "metadata": {},
   "source": [
    "Sets `{}`\n",
    "- **Key Facts**\n",
    "  - Initialize using `()`\n",
    "  - distinct elements, regardless of input\n",
    "  - No index, so cannot fetch elements using `set[i]`\n",
    "  - Immutable, but can add/remove items\n",
    "  - No order\n",
    "  - `False` and `0` considered equal values\n",
    "  - `True` and `1` considered equal values\n",
    "  - Can be any data type\n",
    "- **Functions**\n",
    "  - `len(set)`\n",
    "  - `sorted(set)`\n",
    "- **Constructor**\n",
    "  - `set((list))`: converts list to set\n",
    "- **Methods**\n",
    "  - **Comparisons**\n",
    "    - `set.symmetric_difference(set2)`: Values only existing in one set\n",
    "      - or `print(set1^set2)`\n",
    "    - `set.union(set2)`: Union distinct (combine both)\n",
    "      - or `print(set1 | set2)`\n",
    "    - `set.intersection(set2)`: Inner join (matching elements) \n",
    "      - or `print(set1 & set 2)`\n",
    "    - `set.difference(set2)`: Remove set 2 elements from set 1\n",
    "      -  `print(set1 - set2)`\n",
    "  - **Adding**\n",
    "     - `set.add(i)`: adds element\n",
    "     - `set.update([collection])`: add a collection of elements (iterable) to set\n",
    "  - **Removing**\n",
    "    - `set.discard(i)`: removes value\n",
    "    - `set.remove(i)`: removes value and returns KeyError if that value does not exist\n",
    "    - `set.pop([index])`: removes value at given index (last element by default)\n",
    "  \n",
    "  \n",
    "  *note: a constructor function creates new object (ie a set) and has no return value"
   ]
  },
  {
   "cell_type": "markdown",
   "metadata": {},
   "source": [
    "#### HackerRank"
   ]
  },
  {
   "cell_type": "markdown",
   "metadata": {},
   "source": [
    "Intro to Sets: Compute avg of all plants w distinct heights\n",
    "- Inputs:\n",
    "  - 1: size of arr (int)\n",
    "  - 2: space-seperated ints (str) --> arr\n",
    "- Steps:\n",
    "  - convert arr --> set\n",
    "  - use for loop to add all elements and find avg"
   ]
  },
  {
   "cell_type": "code",
   "execution_count": 2,
   "metadata": {},
   "outputs": [
    {
     "data": {
      "text/plain": [
       "3.5"
      ]
     },
     "execution_count": 2,
     "metadata": {},
     "output_type": "execute_result"
    }
   ],
   "source": [
    "def average(array):\n",
    "    array = list(map(int,array.split()))\n",
    "    mySet = set(array)\n",
    "    \n",
    "    total = 0\n",
    "    for i in mySet:\n",
    "        total += i\n",
    "        avg = total/len(mySet)\n",
    "    return avg\n",
    "\n",
    "average(\"1 2 3 4 5 6\")"
   ]
  },
  {
   "cell_type": "markdown",
   "metadata": {},
   "source": [
    "Apply Set Methods\n",
    "- `_` is a var which holds `input()`, but doesnt need to be named since it will not be used\n",
    "- Use an integer input to allow user to set range of a list of inputs\n",
    "- Use `sorted()` to sort set\n",
    "- print elements of set using loop"
   ]
  },
  {
   "cell_type": "code",
   "execution_count": null,
   "metadata": {},
   "outputs": [],
   "source": [
    "_, eng = input(), set(input().split())\n",
    "_, french = input(), set(input().split())\n",
    "\n",
    "symmetric_difference = eng.symmetric_difference(french)\n",
    "print(len(unique_vals))\n",
    "\n",
    "union = eng.union(french)\n",
    "print(len(union))\n",
    "\n",
    "intersection = eng.intersection(french)\n",
    "print(len(intersection))\n",
    "\n",
    "difference = eng.difference(french)\n",
    "print(len(difference))"
   ]
  },
  {
   "cell_type": "code",
   "execution_count": null,
   "metadata": {},
   "outputs": [],
   "source": [
    "n = int(input())     #number of country inputs\n",
    "\n",
    "set1 = set()\n",
    "for country in range(n):\n",
    "    set1.add(input())  \n",
    "\n",
    "print(len(set1))"
   ]
  },
  {
   "cell_type": "code",
   "execution_count": null,
   "metadata": {},
   "outputs": [],
   "source": [
    "#sort and print values unique to each set\n",
    "input()\n",
    "set1 = set(map(int,input().split()))\n",
    "input()\n",
    "set2 = set(map(int,input().split()))\n",
    "\n",
    "symmetric_difference = sorted(set1^set2)\n",
    "for i in symmetric_difference:\n",
    "    print(i)"
   ]
  },
  {
   "cell_type": "code",
   "execution_count": null,
   "metadata": {},
   "outputs": [],
   "source": [
    "# discard, remove, pop\n",
    "n = int(input())                          #num of elements in set\n",
    "s = set(map(int, input().split()))        #spaced out chars in str --> int(chars) --> set\n",
    "N = int(input())                          #num of commands\n",
    "\n",
    "for item in range(0, N):\n",
    "    cmd = input().split()                 #str \"command #\" --> list with index command = 0 and # = 1\n",
    "    if cmd[0] == \"pop\":\n",
    "        s.pop()\n",
    "    if cmd[0] == \"remove\":\n",
    "        try:\n",
    "            s.remove(int(cmd[1]))\n",
    "        finally:\n",
    "            continue\n",
    "    if cmd[0] == \"discard\":\n",
    "        try:\n",
    "            s.discard(int(cmd[1]))\n",
    "        finally:\n",
    "            continue\n",
    "            \n",
    "print(sum(s))"
   ]
  },
  {
   "cell_type": "markdown",
   "metadata": {},
   "source": [
    "### Day 5 - Math & Itertools"
   ]
  },
  {
   "cell_type": "markdown",
   "metadata": {},
   "source": [
    "#### Notes"
   ]
  },
  {
   "cell_type": "markdown",
   "metadata": {},
   "source": [
    "- **Facts**\n",
    "  - Itertools: module for working with iterable containers (lists, sets, tuples, strings, etc)\n",
    "  - Makes iterator operations more effective vs loops\n",
    "- **Functions**\n",
    "  - **Combinators**: either combines iterable with itself or with others\n",
    "    - `product(a,b)`: cartesian product of iters. returns itertools object (convert to list)\n",
    "      - kwargs: `repeat=` repeats product function n times\n",
    "      - args: either 2 iterables or 1 iterable with itself\n",
    "    - `permutations(a)`: all possible orderings of iter\n",
    "      - args: length (int)\n",
    "    - `combinations(a)`: all possible combinatons of elements in iter\n",
    "      - args: length (int)\n",
    "    - `combinations_with_replacement(a)`: combines element with itself as well\n",
    "  - **Terminating**: transformation to a loop based on function\n",
    "      - `accumulate(a)`: running totals for each element\n",
    "          - kwargs: `func=[operator.mul, max]`\n",
    "      - `groupby(a)`: seperates elements into groups based on condition. returns dict {key = condition t/f, value = subset}\n",
    "        - kwargs: `key= [func/lambda]`\n",
    "      - `chain(a,b,c)`: joins multiple iterables\n",
    "        - chain_from_iterable(n): takes in nested list of iterables `n = [a,b,c]`\n",
    "      - `compress(a,[1,0,0,1])`: keep elements based on t/f for each index and skip the rest\n",
    "      - `dropwhile(func(), li)`: prints remaining elements after first false is met\n",
    "      - `takewhile(func(), li)`: prints elements before first false is met\n",
    "      - \n",
    "      - `filterfalse(func(),li)`: prints all elements which return false\n",
    "      - `islice(li, [i],[i], ...)`: keeps specified elements\n",
    "        - index slice\n",
    "      - `starmap(func, tuple list)`: returns values from each tuple based on condition in function\n",
    "      - `zip_longest(l1,l2)`: makes a pair of alternating values from both iterables\n",
    "        - kwargs:`fill_value`: fills part of the pair when a list is shorter than the other\n",
    "    - **Infinite**: used with a loop and continues until stop condition\n",
    "      - `count(a)`: repeats loop until stop condition, starts at a\n",
    "      - `cycle(a)`: cycles over iterable until stop condition\n",
    "      - `repeat(a, [stop]):` repeats an element given time`\n",
    "      - `next(a)`: can be used instead of increment variable to move to next element in loop.\n",
    "  - **Constructor**:\n",
    "    - `Iter(iterable)`: creates iterator object (can use next()) from iterable container\n",
    "      - `reversed(iterable)`: reverses itrerable object and creates iterator."
   ]
  },
  {
   "cell_type": "markdown",
   "metadata": {},
   "source": [
    "#### HackerRank"
   ]
  },
  {
   "cell_type": "markdown",
   "metadata": {},
   "source": [
    "Notes:\n",
    "- when length of a combinator is up to a size, place combinator for loop inside range for loop\n",
    "- outputting to 2 variables: use `a,b =`  syntax\n",
    "- to join 2 elements in list and print together, use `''.join(elements)` method in for loop"
   ]
  },
  {
   "cell_type": "code",
   "execution_count": null,
   "metadata": {},
   "outputs": [],
   "source": [
    "#permutation: string into permutations\n",
    "from itertools import permutations\n",
    "S,k = input().split()\n",
    "\n",
    "k = int(k)\n",
    "\n",
    "perms = list(permutations(sorted(S),int(k)))\n",
    "\n",
    "for perm in perms:\n",
    "    print(''.join(perm))"
   ]
  },
  {
   "cell_type": "code",
   "execution_count": null,
   "metadata": {},
   "outputs": [],
   "source": [
    "#product()\n",
    "from itertools import product\n",
    "\n",
    "A = list(map(int, input().split()))\n",
    "B = list(map(int, input().split()))\n",
    "\n",
    "product = product(A, B)\n",
    "\n",
    "for i in product:\n",
    "    print(i, end=\" \")"
   ]
  },
  {
   "cell_type": "code",
   "execution_count": null,
   "metadata": {},
   "outputs": [],
   "source": [
    "#combinations()\n",
    "from itertools import combinations\n",
    "\n",
    "S, k = input().split()\n",
    "S = sorted(S)                             #lexicographic order\n",
    "k = int(k)     \n",
    "\n",
    "for i in range(1, k+1):                   #1 to size k\n",
    "    for combo in combinations(S, i):      #repeat combos until size k is reached\n",
    "        print(''.join(combo))"
   ]
  },
  {
   "cell_type": "code",
   "execution_count": null,
   "metadata": {},
   "outputs": [],
   "source": [
    "#combinations with replacement\n",
    "from itertools import combinations_with_replacement\n",
    "\n",
    "S, k = input().split()\n",
    "S = sorted(S)\n",
    "k = int(k)\n",
    "\n",
    "combos = list(combinations_with_replacement(S,k))\n",
    "\n",
    "for i in combos:\n",
    "    print(''.join(i))"
   ]
  },
  {
   "cell_type": "markdown",
   "metadata": {},
   "source": [
    "### Day 6 - Collections, date/time"
   ]
  },
  {
   "cell_type": "markdown",
   "metadata": {},
   "source": [
    "#### Notes"
   ]
  },
  {
   "cell_type": "markdown",
   "metadata": {},
   "source": [
    "Collections\n",
    "- Lists\n",
    "   - starts from index[0], but from end it starts from [-1], similar to string\n",
    "   - changing element: `list[1] = 'yasin'`\n",
    "   - **Methods**\n",
    "   - **Adding Elements**\n",
    "      - `extend(list2): appends another list to end\n",
    "      - `append(a)`: appends another element to end\n",
    "      - `insert(index, value)`: inserts value at position\n",
    "   - **Deleting Elements**\n",
    "      - `remove(a)`: removes value\n",
    "      - `clear()`: truncates list\n",
    "      - `pop()`: removes the last element unless index specified\n",
    "      - `popleft()`: removes first element in a deque\n",
    "   - **Indexing**\n",
    "      - `index(a)`: find index of value\n",
    "      - `count(a)`: counts value occurrences\n",
    "   - **Sorting**\n",
    "      - `sort()`: sorts in asc order\n",
    "      - `reverse()`: sorts in desc order\n",
    "      - **Duplicating**\n",
    "      - `copy()`: copies list w attributes\n",
    "- Tuples\n",
    "      - initialize with `()`\n",
    "      - immutable\n",
    "      - contains a pair of values\n",
    "      - Use cases: coordinated, etc which store data that you do not want to change\n",
    "- Dictionaries\n",
    "  - Initialize with `{}`\n",
    "  - Populate using `d[key] = \"value\"`\n",
    "  - **Methods**\n",
    "    - `values()/keys()`: fetch all values or keys\n",
    "- Collections Module\n",
    "  - **Special Collections**\n",
    "    - **Dictionaries**\n",
    "      - `Counter()`: type of dictionary which stores count of each element\n",
    "         - can be initialized using list of items, dictionary (item: count), or kwargs (a=,b=,c=)\n",
    "         - Attributes: most_common\n",
    "         - Functions: sorted()\n",
    "      - `OrderedDict()`: stores values according to creation order\n",
    "      - `Defaultdict(default_factory)`: gives missing keys a value so errors are not raised. Useful when using a counter variable for dict key in loop, and there is no 0 key.\n",
    "      - `ChainMap(d1,d2,...)`: makes nested dict\n",
    "        - uses original keys/values for accessing values\n",
    "    - **Tuples**\n",
    "      - `namedTuple()`: creates a tuple with names for positions which can be accessed using name attribute\n",
    "    - **List**\n",
    "      - `deque()`: double ended queue, optimized for append/pop from both sides.\n",
    "        - O(n) linear --> O(1) constant time complexity aka size does not affect algorithm speed.\n",
    "      - `UserList()/Dict/Str`: allows user modifications to these inputs.\n",
    "\n",
    "Date/Time\n",
    "- `datetime.now()`: current date/time\n",
    "  - **Attributes**\n",
    "    - `year`\n",
    "    - `strftime(\"format\")`: formats date object --> str\n",
    "  - **Constructor**\n",
    "    - datetime(year,month,day,[hour, minute, second, microsecond, tzone])\n",
    "\n"
   ]
  },
  {
   "cell_type": "markdown",
   "metadata": {},
   "source": [
    "#### HackerRank"
   ]
  },
  {
   "cell_type": "code",
   "execution_count": null,
   "metadata": {},
   "outputs": [],
   "source": [
    "#counter from list\n",
    "from collections import Counter\n",
    "\n",
    "X = int(input()) #shoes\n",
    "sizes = Counter(map(int, input().split())) #shoe sizes\n",
    "N = int(input()) #customers\n",
    "\n",
    "total = 0       #init counter\n",
    "for i in range(N):\n",
    "    c_size, price = map(int,input().split())       #space-seperated str --> int vars\n",
    "    if sizes[c_size]:       #if customer size is in the size list\n",
    "        sizes[c_size] -=1   #update inventory for that size after sale\n",
    "        total += price      #add sale price to total\n",
    "\n",
    "print(total)\n"
   ]
  },
  {
   "cell_type": "markdown",
   "metadata": {},
   "source": [
    "### Day 7 - Errors, Exceptions, and Classes"
   ]
  },
  {
   "cell_type": "markdown",
   "metadata": {},
   "source": [
    "#### Notes"
   ]
  },
  {
   "cell_type": "markdown",
   "metadata": {},
   "source": [
    "- Errors\n",
    "  - **Syntax Error**\n",
    "    - TypeError: adding str and int\n",
    "    - NameError: using undefined variable\n",
    "    - ValueError: removing a nonexistent element from list\n",
    "    - IndexError: calling on index nonexistent in list\n",
    "    - Import Errors\n",
    "     - ModuleNotFoundError: Importing module which does not exist\n",
    "     - FileNotFoundError: Calling on file which does not exist\n",
    "  - **Exceptions**\n",
    "    - **Assertion**\n",
    "     - AssertionError: when expression in `assert()` is false\n",
    "   - **Raise**\n",
    "     - this raises an exception or error based on if statement with print\n",
    "    - **Try/Except Block**\n",
    "      - Used to catch any exceptions which raise errors present in the statement\n",
    "        - Can have multiple `except` blocks to test for various errors\n",
    "      - Used to allow program to continue with message vs ending at error\n",
    "      - `Else:` prints if no exceptions throw\n",
    "      - `Finally:` this one always prints\n",
    "      - Common errors to test for:\n",
    "        - ZeroDivisionError: when 0 is in denominator\n",
    "        - TypeError\n",
    "  - **Exception Class**\n",
    "   - Define class and for a specific error and use exception as base class\n",
    "     - Here, you can use pass clause in body and it will be valid, but the benefit is it will describe the specific error\n",
    "     - You can also add attributes (parameters, etc)\n",
    "- Classes\n",
    "  - Class: object constructor, or blueprint\n",
    "  - This class contains built in functions (modify the class), methods, and attributes\n",
    "    - Attributes: These are properties stored as data in the class, which can be called like this: \n",
    "      - x = 5 in MyClass\n",
    "      - Printing MyClass.x will return 5\n",
    "      - These can also be user-defined by setting them equal to the parameters `(self.message = message)`\n",
    "    - Functions:\n",
    "      - `__init__(self, param, ...)`: Gives values to object properties\n",
    "      - `__str__(self)`: returns a string the way you want to format it\n",
    "    - Parameters:\n",
    "      - self: has to be the first parameter of functions in the class which references the current instance\n",
    "   - Can modify and delete properties (MyClass.x = 10) or `del MyClass.x`\n",
    "   - Pass: a fller for class body if you just want to inherit properties from another class or leave it empty"
   ]
  },
  {
   "cell_type": "markdown",
   "metadata": {},
   "source": [
    "#### HackerRank"
   ]
  },
  {
   "cell_type": "markdown",
   "metadata": {},
   "source": [
    "Notes:\n",
    "- to test for zero division and value error based on user input, do int conversions in the try clause, not beforehand, or else error will be raised outside of try clause\n",
    "- `eval()` evaluates an expression, or sees if a keyword is just a string or a function, variable etc."
   ]
  },
  {
   "cell_type": "code",
   "execution_count": null,
   "metadata": {},
   "outputs": [],
   "source": [
    "#exceptions\n",
    "for case in range(T):\n",
    "    a, b = input().split()\n",
    "    try:\n",
    "        print(int(a) // int(b))\n",
    "    except ZeroDivisionError as e1:\n",
    "        print(f\"Error Code: {e1}\")\n",
    "    except ValueError as e2:\n",
    "        print(f\"Error Code: {e2}\")"
   ]
  },
  {
   "cell_type": "code",
   "execution_count": null,
   "metadata": {},
   "outputs": [],
   "source": [
    "#classes\n",
    "import math\n",
    "\n",
    "\n",
    "class Points(object):\n",
    "    def __init__(self, x, y, z):    #params = set 1 (current)\n",
    "        self.x = x\n",
    "        self.y = y\n",
    "        self.z = z\n",
    "\n",
    "    def __sub__(self, no):    #this method returns 3 values: the difference of each matching set\n",
    "        return Points(\n",
    "            (self.x-no.x),\n",
    "            (self.y-no.y),\n",
    "            (self.z-no.z))\n",
    "\n",
    "    def dot(self, no):        #this function returns the dot product (sum of products of matching sets aka sumproduct)\n",
    "        return (self.x*no.x)+(self.y*no.y)+(self.z*no.z)\n",
    "\n",
    "    def cross(self, no):         #difference of cross joins: y1*z2 - z1*y2 and so on\n",
    "        return Points(\n",
    "            (self.y*no.z-self.z*no.y),\n",
    "            (self.z*no.x-self.x*no.z),\n",
    "            (self.x*no.y-self.y*no.x))\n",
    "        \n",
    "    def absolute(self):\n",
    "        return pow((self.x ** 2 + self.y ** 2 + self.z ** 2), 0.5)"
   ]
  },
  {
   "cell_type": "code",
   "execution_count": null,
   "metadata": {},
   "outputs": [],
   "source": [
    "#eval user input expression\n",
    "\n",
    "eval(input())"
   ]
  },
  {
   "cell_type": "markdown",
   "metadata": {},
   "source": [
    "### Day 8 - Functionals, RegEx, Parsing"
   ]
  },
  {
   "cell_type": "markdown",
   "metadata": {},
   "source": [
    "#### Notes"
   ]
  },
  {
   "cell_type": "markdown",
   "metadata": {},
   "source": [
    "Functionals\n",
    "- **Args vs Params**\n",
    "  - Arguments: used when calling a function (argument that is passed to function)\n",
    "  - Parameters: used when defining a function (the arguments it takes in)\n",
    "- **Positional and Kwargs**\n",
    "  - Positional (arg): does not specify names of params, but needs to be in order `(1, 2)`\n",
    "  - Keyword Argument (kwarg): specifies parameters so order does not matter `(a=1, b=2)`\n",
    "    - Can use positional and keyword args, but positional is only before kwarg\n",
    "    - Can predefined in function `def func(a,b,c=1)` which only accepts a and b from user\n",
    "- **Variable Length Args**\n",
    "  - `*args`: any number of args can be passed in\n",
    "  - `**kwargs`: any number of kwargs can be passed in\n",
    "  - Use for loop in function body to print variable length arg and kwarg: `for arg in args print(arg)`\n",
    "  - To fetch arg from *args, use indexing to pick nth user input\n",
    "- **Container Unpacking**\n",
    "  - Can use list/tuple and unpack into function arguments: `func(*list1)`\n",
    "  - can unpack dict into kwargs: `func(**dict1)`\n",
    "- **Local vs Global**\n",
    "  - A local variable in function body will not apply the attribute to your variable\n",
    "  - Var inside func body needs to be defined using `global` for it to transform any variable you apply the function to\n",
    "  - immutable objects cannot be changed, but local mutable objects can be changed via local variable in the function\n",
    "    - For example, a list defined in the function will change a list var, but int or str will not\n",
    "    - Immutable objects within a mutable object (str, int) in list can be changed\n",
    "    - However, be careful not to make a local list variable in the function body, or else the changes will apply to that local variable and not to your variable\n",
    "- **Yield Keyword**: returns a sequence of elements in a generator object (list of values which can be printed using next())\n",
    "\n",
    "RegEx\n",
    "   - **Module**: `re`\n",
    "   - **Functions**\n",
    "     - `findall(letters/word, string)` --> list(matches)\n",
    "     - `search()` --> match object (match anywhere in string)\n",
    "     - `split()` --> list(string split @ matches)\n",
    "     - `sub([replacements])` --> replace matches\n",
    "   - **Characters**\n",
    "     - Metacharacters: has special meaning \n",
    "     - Special Sequences: starts with \\ and followed by letter\n",
    "     - Sets []: set of characters w special meaning\n",
    "   - **Match Object**\n",
    "     - **Methods**\n",
    "       - `Span():` start and end positions\n",
    "       - `string`: original string passed into regex function\n",
    "       - `group()`: parts where there was a match\n",
    "       - `start()/end()`: returns first and final match\n",
    "\n",
    "Parsing\n",
    "   - Split/Extract Substrings\n",
    "   - **Modules (String)**\n",
    "     - `split([delim], [max splits])`\n",
    "       - max splits splits the first x amount of words based on delim, and the rest is its own string\n",
    "     - `strip([chars])`: strips whitespaces by default, or can pass in set of chars as string\n",
    "\n",
    "Mapping\n",
    "   - can map functions to a variable or multiple variables based on the parameters it takes"
   ]
  },
  {
   "cell_type": "markdown",
   "metadata": {},
   "source": [
    "#### HackerRank"
   ]
  },
  {
   "cell_type": "code",
   "execution_count": 1,
   "metadata": {},
   "outputs": [
    {
     "name": "stdout",
     "output_type": "stream",
     "text": [
      "[0, 1, 1, 8, 27]\n"
     ]
    }
   ],
   "source": [
    "#map and lambda\n",
    "cube = lambda x: x**3   #x cubed\n",
    "\n",
    "def fibonacci(n):                      #fibonacci: a[i] = sum(a[i-1] + a[i-2])\n",
    "    n = int(n)                      \n",
    "    l1 = [0, 1]                        #starting 2 numbers\n",
    "    for i in range(2, n):              #start fibonnaci at 3rd number: need 2 numbers before it\n",
    "       l1.append(l1[i-1] + l1[i-2])    #add sum of previous numbers to list\n",
    "    return l1[0:n]                     #return all numbers from list till specified range\n",
    "\n",
    "fibonacci_sequence = (list(map(cube, fibonacci(5))))     #map cube lambda function to each element\n",
    "print(fibonacci_sequence)"
   ]
  },
  {
   "cell_type": "code",
   "execution_count": 4,
   "metadata": {},
   "outputs": [
    {
     "name": "stdout",
     "output_type": "stream",
     "text": [
      "100\n",
      "000\n",
      "000\n",
      "000\n"
     ]
    }
   ],
   "source": [
    "#regex split: re.split()\n",
    "import re\n",
    "regex_pattern = r\"[,.]\"                #split on dot and comma\n",
    "num = \"100,000,000.000\"\n",
    "\n",
    "parsed = re.split(regex_pattern, num)\n",
    "print(\"\\n\".join(parsed))               #print each part on new line\n"
   ]
  },
  {
   "cell_type": "markdown",
   "metadata": {},
   "source": [
    "### Day 9: XML, Closures & Decorators"
   ]
  },
  {
   "cell_type": "markdown",
   "metadata": {},
   "source": [
    "#### Notes"
   ]
  },
  {
   "cell_type": "markdown",
   "metadata": {},
   "source": [
    "XML\n",
    "- eXtensible Markup Language\n",
    "- Designed to store/transport data, unlike HTML which displays data\n",
    "- has similar style to HTML, can set own tags\n",
    "- usually used with HTML which presents the data, since XML does not define presentation\n",
    "- CSS then contains info on the styling of the data hierarchy in dictionaries\n",
    "- Benefits: can manipulate HTML data without editing the  HTML file, you can just read and update XML data with JS.\n",
    "- Has specifications for use cases including news, weather service, etc.\n",
    "- Tree Structure: root --> child --> subchild --> text\n",
    "- **Standards**: AJAX (JS + XML), DOM, XPath, XLST (stylesheet language)\n",
    "- **Parsing**: use ElementTree library\n",
    "  - `parse(\"XML File\")`: entry point, parses entire doc at once --> list object (child elements)\n",
    "    - `attrib`: fetches attribute of a specific element in list using its index\n",
    "  - `getroot()`: gets root element"
   ]
  },
  {
   "cell_type": "code",
   "execution_count": 5,
   "metadata": {},
   "outputs": [],
   "source": [
    "#XML Tree\n",
    "#each element is a node\n",
    "# <?xml version = \"\" encoding = \"\">\n",
    "# <root element>: bookstore\n",
    "#     <element [attribute]=>: book [category]\n",
    "#         <element [attribute]=> title [lang] Harry Potter </element>\n",
    "#     </element>\n",
    "# <root element>"
   ]
  },
  {
   "cell_type": "markdown",
   "metadata": {},
   "source": [
    "Closures\n",
    "- Function that returns output of inner function (hides complex code)\n",
    "- Nested Function: in a nested function, the inner function can only be accessed within the scope.\n",
    "- Closures access inner functions by returning the inner function in the outer function clause\n",
    "  - Use return ithout parenthesis\n",
    "- Benefits:\n",
    "  - As it calls an inner function, it reduces use of global variables and hides data (outer function is clean)\n",
    "  - Kind of like using a core sql model for complex queries, then wrapping it in a final query\n",
    "  - May be used instead of class if you have 1 method in it - good for code readability\n",
    "\n",
    "Decorators\n",
    "- Used with @ symbol\n",
    "- Decorators is a function that does the following:\n",
    "  - Takes in a func as an arg\n",
    "  - Passes it to inner func --> modifies func arg\n",
    "  - Returns output of inner func\n",
    "- aka a closure with func arg\n",
    "- if the function passed in has a return, include it in inner func body\n",
    "- Can also chain decorators"
   ]
  },
  {
   "cell_type": "markdown",
   "metadata": {},
   "source": [
    "#### HackerRank"
   ]
  },
  {
   "cell_type": "code",
   "execution_count": 3,
   "metadata": {},
   "outputs": [
    {
     "name": "stdout",
     "output_type": "stream",
     "text": [
      "100\n",
      "000\n",
      "000\n",
      "00\n",
      "Total time taken in :  thousands_split 689.6331927776337\n"
     ]
    }
   ],
   "source": [
    "#decorator to calculate execution time\n",
    "import time\n",
    "import math\n",
    "import re\n",
    "\n",
    "def calculate_time(func):                 #closure takes in func\n",
    "   def inner1(*args, **kwargs):          #we want it to work w any func, so args and kwargs are variable\n",
    "        begin = time.time()               #start time\n",
    "        func(*args, **kwargs)             #run function with its args/keyword args\n",
    "        end = time.time()                 #end time\n",
    "        print(\"Total time taken in : \", func.__name__, end - begin)\n",
    "   return inner1\n",
    "\n",
    "@calculate_time\n",
    "def thousands_split(num):\n",
    "   time.sleep(2)\n",
    "   regex_pattern = r\"[,.]\"                \n",
    "   num = str(num)\n",
    "\n",
    "   parsed = re.split(regex_pattern, num)\n",
    "   print(\"\\n\".join(parsed))\n",
    "\n",
    "thousands_split(\"100,000,000.00\")\n"
   ]
  },
  {
   "cell_type": "code",
   "execution_count": 4,
   "metadata": {},
   "outputs": [],
   "source": [
    "#XML Score: Sum of attributes\n",
    "def get_attr_number(node):                                                    \n",
    "    score_root = len(node.attrib)                                            #fetches length of root element\n",
    "    score_childs = sum(get_attr_number(child) for child in node)             #this list comprehension applies the len(node.attrib) function to each child element\n",
    "    return(score_root+score_childs)                                          #root element attr + child element attr's"
   ]
  },
  {
   "cell_type": "markdown",
   "metadata": {},
   "source": [
    "### Day 10-11 NumPy"
   ]
  },
  {
   "cell_type": "markdown",
   "metadata": {},
   "source": [
    "#### Notes"
   ]
  },
  {
   "cell_type": "markdown",
   "metadata": {},
   "source": [
    "Numpy = Numerical Python (library that works with arrays)\n",
    "- A NumPy array stores values as a single data type\n",
    "- NumPy is MATLAB replacement due to math heavy\n",
    "- Backend for Pandas\n",
    "- Helps understand ML libraries like TensorFlow\n",
    "- Written in C or C++, and Python\n",
    "- Check version: `np.__version__`\n",
    "\n",
    "Advantages vs Lists\n",
    "- List stores additional metadata for each value, which use 8 bytes each. So NumPy reads less memory\n",
    "- No type checking (all the same dtype)\n",
    "- Memory of numbers are not scattered (continuous place memory), so computations are quicker\n",
    "- Faster cache loading\n",
    "- Up to 50x faster than lists, so its ideal for data science\n",
    "\n",
    "Difference vs Lists\n",
    "- Can perform operations between lists\n",
    "\n",
    "Functions\n",
    "**Making Array**\n",
    "- `array([list], dtype=\"\")`: numpy array constructor (can pass in list/tuple/etc)\n",
    "  - 2-D array: `([l1],[l2])` (has arrays as its elements)\n",
    "  - **kwargs**\n",
    "    - `ndmin=`: number of dimensions\n",
    "    - `dtype=`: sets data type (S, i4, i32, i, m , M, O, U, b, f)\n",
    "  - **Attributes**\n",
    "    - `ndim`: dimensions (level of array depth)\n",
    "    - `shape`: dimensions, elements\n",
    "    - `dtype`: datatype\n",
    "    - `itemsize`: size of each element in bytes\n",
    "    - `nbytes`: total bytes in array\n",
    "  - **Indexing**: starts from 0, neg indexing starts from -1\n",
    "    - 1-D: `array[i]`\n",
    "    - 2-D: `array[row,col]`\n",
    "      - `[:,2]`: this will be 3rd column both rows\n",
    "      - `[0,1:-1:2]`: first row(middle numbers skip by 2)\n",
    "      - think of 2d arrays as stacked rows\n",
    "    - 3-D:`array([[[l1],[l2]],[[l3],[l4]]])`: Elements are 2D arrays\n",
    "      - `array[array,array,element]`\n",
    "    - **Advanced**\n",
    "      - `arr expression`: checking if expression is true for each element\n",
    "        - can also check for any or all data\n",
    "      - can index\n",
    "    - **Slicing**\n",
    "      - `arr[start:end:step]`\n",
    "        - start inclusive, end exclusive\n",
    "        - can also do `[::2]` for skipping numbers from entire array\n",
    "        - 2-D Arrays: `arr[arr:arr, start:end:step]`\n",
    "  - **Changing Elements**:\n",
    "    - `array[row,col]` = new number\n",
    "    - `array[:,2]` = [1,2]: changes all rows of 3nd column\n",
    "  - **Methods**\n",
    "    - **Shaping Array**\n",
    "      - `zeroes((shape))`\n",
    "      - `ones((shape))`\n",
    "      - `full((shape),num)`: creates an array of that number\n",
    "      - `full-like(array,num)`: creates arr in shape of other array\n",
    "      - `reshape(arr, arr, ...., element)`: reshapes current array\n",
    "        - elements must be equal in both shapes (cannot shape 8 elements into 3x3)\n",
    "        - returns a view\n",
    "        - can have an unknown dimension (-1)\n",
    "        - Flatten: `reshape(-1)`\n",
    "        - or use `flatten()`\n",
    "    - `np.random.rand(shape)`: random nums\n",
    "    - `astype('type' or type)`: changes data type of array\n",
    "    - **Creating Copies**\n",
    "      - `copy()`: creates copy of original, which is not affected by changes to original\n",
    "      - `view()`: view of original (is not new dataset), so changes affect view, and view changes affect original\n",
    "      - `base()`: checks if the array owns the data (copy or view). Should return base if does not own\n",
    "**Math**\n",
    "- **Operations**\n",
    "  - simple math operations on arr and between arrays\n",
    "- **Linear Alg**\n",
    "  - `matmul()`: matrix mult\n",
    "   - determinants etc\n",
    "  - **Stats**\n",
    "   - min, max, sum\n",
    "  - **Loading Data**\n",
    "    - `np.genfromtext(file, delim=)`\n",
    "    - `data.astype()`\n",
    "  - **Iterating**\n",
    "    - Use for loop with counter to go thru all elements. In 2d arrays, returns subdimensions\n",
    "    - To return elements from subdimensions in 2d array, iterate on counter in nested for loop (to retrieve scalars/values)\n",
    "**Joining Arrays**\n",
    "- `concatenate(arr1,arr2)`\n",
    "      - **kwargs**: axis=1 (2d array join across rows)\n",
    "- `stack(arr1,arr2, )`: stacks on top of each other\n",
    "      - **kwargs**: axis = 1 (lays out each array vertically and combines side by side)\n",
    "      - `hstack(), vstack()`: horiz, vertical stacking\n",
    "**Splitting Arrays**\n",
    "- `array_split(arr, parts)`: if parts cannot be equal, it adjusts from the end\n",
    "   - `split()` does not adjust for unequal elements\n",
    "   - **kwargs**: axis = 1 (stack arrays and split by columns)\n",
    "**Searching Array**\n",
    "- `where(expression)`: returns index of matched values\n",
    "- `searchsorted(arr, value)`: returns index of where value should be inserted in order\n",
    "  - **kwargs**: side=right to give index from right (starts from 0)\n",
    "  - can also pass in an array for value, which would return an array of indices\n",
    "**Sorting Arrays**\n",
    "- `sort(arr)`: works on 2d arrays as well (sorts both arrays)\n",
    "**Filtering Arrays**\n",
    "- must use new array of boolean values and pass array into index\n",
    "- `arr[bool arr]`\n",
    "- can also use a for loop with boolean values based on conditions and append to empty array\n",
    "- can also make array out of the result of an array expression `newarr = arr%2 == 0`\n",
    "  - this returns an array of t/f, which can be used to index the original array\n",
    "- Notes\n",
    "  - setting a second arr to 1st arr will make them identical in memory, so make sure to reference a copy not the actual array\n",
    "  - can perform arithmetics between 2 arrays, simple math operations, sin/cos, etc\n",
    "  - Array breakdown\n",
    "    - 5th dim: elements\n",
    "    - 4th dim: vector\n",
    "    - 3rd dim: matrix with vector\n",
    "    - 2nd dim: 1 element (3d array)\n",
    "    - 1st dim: 1 element (4d array)\n",
    "    - etc"
   ]
  },
  {
   "cell_type": "code",
   "execution_count": 2,
   "metadata": {},
   "outputs": [
    {
     "name": "stdout",
     "output_type": "stream",
     "text": [
      "[[1 2 3]\n",
      " [4 5 6]\n",
      " [7 8 9]]\n"
     ]
    }
   ],
   "source": [
    "#reshape array\n",
    "import numpy as np\n",
    "\n",
    "\n",
    "\n",
    "myList = list(map(int, input().split()))\n",
    "\n",
    "arr = np.array(myList).reshape(3,3)\n",
    "print(arr)"
   ]
  },
  {
   "cell_type": "markdown",
   "metadata": {},
   "source": [
    "### Day 12 - Debugging"
   ]
  },
  {
   "cell_type": "markdown",
   "metadata": {},
   "source": [
    "#### Notes"
   ]
  },
  {
   "cell_type": "markdown",
   "metadata": {},
   "source": [
    "Debugging (VSCode)\n",
    "- Run and Debug button in side bar\n",
    "  - **Custom JSON file**: if you make JSON file here, set current directory to file directory not root, as this will cause the file to not find your code\n",
    "  - configs to make in file:\n",
    "    - `cwd = ${fileDirname}`: change dir to project dir\n",
    "    - `justMyCode = false\"`: debugs code under the hood of libraries you used as the bug might be here\n",
    "- **Breakpoint**: bookmark for where to debug\n",
    "  - See which command the issue starts at, and place there\n",
    "- **Sidebar View**\n",
    "  - Variables\n",
    "  - Watches: expressions that keep getting evaluated at pause\n",
    "  - Call Stack: records every time a script/function calls a function, starting from top (most current), then moves down to previous steps\n",
    "  - Greyed out = unused var\n",
    "- Debug Console\n",
    "  - can print out vars to see output (check var list in sidebar)\n",
    "- Controle Menu (top)\n",
    "  - use to step over/step into line and hover over var to see output as well\n",
    "  - restart after making changes\n",
    "- **In a Professional Setting**\n",
    "  - Write tests in big project for each function, then debug each function\n",
    "  - aka, break down project and debug right after a test fails\n",
    "\n",
    "**Notes**: make sure you are in the correct folder in the explorer section for the json config to work"
   ]
  },
  {
   "cell_type": "markdown",
   "metadata": {},
   "source": [
    "#### HackerRank"
   ]
  },
  {
   "cell_type": "code",
   "execution_count": null,
   "metadata": {},
   "outputs": [],
   "source": [
    "#debug this code: adds total score of vowels in each word in user input (list)\n",
    "#should score 2x for words with even vowels\n",
    "#'programming is awesome' should = 4, but prints out score of 2\n",
    "#issue is most likely in incrementation, since score should at least be 3\n",
    "#for loop counted 3 vowels in 1st word: passed\n",
    "#but did not add 1 to score, and problem was in the incrementor else clause\n",
    "\n",
    "def is_vowel(letter):\n",
    "    return letter in ['a', 'e', 'i', 'o', 'u', 'y']\n",
    "\n",
    "def score_words(words):                 #input = list of words <-- split str\n",
    "    score = 0                           #score counter (total score of list)\n",
    "    for word in words:                  #loops over words in list\n",
    "        num_vowels = 0                  #vowel counter in words\n",
    "        for letter in word:             #loops over each letter in user word\n",
    "            if is_vowel(letter):        #add 1 point if matches vowel list\n",
    "                num_vowels += 1\n",
    "        if num_vowels % 2 == 0:         #if even num of vowels in the word\n",
    "            score += 2                  #add 2x points\n",
    "        else:\n",
    "            score += 1                     #else assign score to word and move to next word\n",
    "    return score\n",
    "\n",
    "\n",
    "n = int(input())\n",
    "words = input().split()\n",
    "print(score_words(words))"
   ]
  }
 ],
 "metadata": {
  "kernelspec": {
   "display_name": "base",
   "language": "python",
   "name": "python3"
  },
  "language_info": {
   "codemirror_mode": {
    "name": "ipython",
    "version": 3
   },
   "file_extension": ".py",
   "mimetype": "text/x-python",
   "name": "python",
   "nbconvert_exporter": "python",
   "pygments_lexer": "ipython3",
   "version": "3.9.12"
  }
 },
 "nbformat": 4,
 "nbformat_minor": 2
}
