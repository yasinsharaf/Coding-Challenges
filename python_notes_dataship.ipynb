{
 "cells": [
  {
   "cell_type": "markdown",
   "metadata": {},
   "source": [
    "# Assessments: Python"
   ]
  },
  {
   "cell_type": "markdown",
   "metadata": {},
   "source": [
    "### Results:\n",
    "Take 1: 67th percentile (intermediate)\n",
    "\n",
    "Take 2: 87th percentile (advanced)\n",
    "\n",
    "Take 3: 97th percentile (advanced)\n"
   ]
  },
  {
   "cell_type": "markdown",
   "metadata": {},
   "source": [
    "### Take 1"
   ]
  },
  {
   "cell_type": "markdown",
   "metadata": {},
   "source": [
    "#### Conditionals & Control Structures\n",
    "- `enumerate(list,startValue)` iterates and indexes over elements in a collection\n",
    "  - 1 Variable in for loop returns tuple `(index, element)`\n",
    "  - 2 Variables in for loop returns index and element seperately\n",
    "- `iter(list)` converts list/string into iterable\n",
    "  - Each element can be printed using `next(list)`\n",
    "  \n",
    "#### Data Structures\n",
    "Data Collections\n",
    "- Casting any data collection to a **set** will only keep distinct values\n",
    "  - The length of `set([1,1,2,3,3,3,4])` will be 4\n",
    "\n",
    "#### Functions\n",
    "Special Keywords\n",
    "- `*args` allows you to pass in any number of arguments as an iterable collection\n",
    "- `**kwargs` allows for user defined keyword arguments\n",
    "  - Use Cases: Creating your own dictionary\n",
    "- `*`: unpacks data collection\n",
    "- `range()` returns a sequence of numbers starting from 0 until 1 less than input. `range(4)` = 0-3.\n",
    "\n",
    "#### OOP\n",
    "Classes\n",
    "- A class is like an object factory which has methods and constructors\n",
    "- `__init__(self, ...)` is not a constructor, but a default method which initializes and sets up the class\n",
    "  - Any objects given values under this is going to set their default value until argument is passed in when calling function\n",
    "Inheritance\n",
    "- `class myClass(parentClass)` is used to inherit parent attributes\n",
    "  - Can use `pass` keyword in child class if you do not wish to add any more attributes"
   ]
  },
  {
   "cell_type": "code",
   "execution_count": null,
   "metadata": {},
   "outputs": [],
   "source": [
    "#enumerate example\n",
    "l1 = [\"eat\", \"sleep\", \"repeat\"]\n",
    "for ele in enumerate(l1, 5):\n",
    "    print(ele)\n",
    "\n",
    "for count, ele in enumerate(l1, 100):\n",
    "    print(count, ele)"
   ]
  },
  {
   "cell_type": "code",
   "execution_count": null,
   "metadata": {},
   "outputs": [],
   "source": [
    "#making a dictionary using **kwargs\n",
    "#kwargs are key/value arguments, so all you are doing is passing in a dictionary of values\n",
    "def make_dict(**kwargs):\n",
    "  return kwargs\n",
    "\n",
    "make_dict(a=1,b=2,c=3)"
   ]
  },
  {
   "cell_type": "markdown",
   "metadata": {},
   "source": [
    "### Take 2"
   ]
  },
  {
   "cell_type": "markdown",
   "metadata": {},
   "source": [
    "#### Conditionals and Control Structures\n",
    "- Enumerate\n",
    "   - Dont forget second variable used in body to include in for clause:\n",
    "   - `for ii, x in enumerate(list):`\n",
    "    - `print(ii, : , x)`\n",
    "- List Comprehensions\n",
    "  - study conditionals in this section\n",
    "- Generator\n",
    "  - Made from list using list comprehension in for loop in () brackets\n",
    "  - This is a function which creates iterator object and can generate elements using next()\n",
    "\n",
    "#### Functions\n",
    "- Lambda\n",
    "  - treat variable as function call as `x = lambda a,b: a+b` = `x(a,b)`\n",
    "  - `x = lambda: \"str\"` is just a function with no parameters, and is called using `x()` to fetch result\n",
    "- Classes and Docstrings\n",
    "  - Docstring of a function stored in its class using triple quotes\n",
    "    - called using `func.__doc__`\n",
    "- Function\n",
    "  - Name called using `func.__name__`"
   ]
  },
  {
   "cell_type": "code",
   "execution_count": null,
   "metadata": {},
   "outputs": [],
   "source": [
    "#create generator from list\n",
    "l1 = ['a','b','c']\n",
    "\n",
    "list_gen = (val for val in l1)\n",
    "\n",
    "print(type(list_gen))\n",
    "\n",
    "#next(list_gen) prints 'a' and so on"
   ]
  },
  {
   "cell_type": "markdown",
   "metadata": {},
   "source": [
    "### Take 3"
   ]
  },
  {
   "cell_type": "markdown",
   "metadata": {},
   "source": [
    "#### Data Structures\n",
    "- Combining 2 Lists: `union(l2)`\n",
    "- Finding matching elements in 2 lists: `l1 & l2`\n",
    "- Adding whitespace to both sides equally to string: `center(spaces)`\n",
    "  \n",
    "#### Functions\n",
    "- defining parameter data type and output data type\n",
    "  - `def add_two(x: int) -> int:`"
   ]
  },
  {
   "cell_type": "markdown",
   "metadata": {},
   "source": [
    "# Assessments - SQL"
   ]
  },
  {
   "cell_type": "markdown",
   "metadata": {},
   "source": [
    "### Take 2"
   ]
  },
  {
   "cell_type": "markdown",
   "metadata": {},
   "source": [
    "Notes:\n",
    "- Can use `SUM() OVER(partition_by)` which groups records for aggregation\n",
    "- Case insensitivity: `WHERE UPPER/LOWER(col) = 'val'`\n",
    "  - Useful to filter records based on strings which mean the same thing\n",
    "- `INITCAP()`: For Proper Case in Oracle SQL\n",
    "- Arrays: Can fetch values from an array in column by using col[index] - starts from 1"
   ]
  },
  {
   "cell_type": "markdown",
   "metadata": {},
   "source": [
    "# Rapid Foundations: Python"
   ]
  },
  {
   "cell_type": "markdown",
   "metadata": {},
   "source": [
    "### Day 1 - Intro"
   ]
  },
  {
   "cell_type": "markdown",
   "metadata": {},
   "source": [
    "#### Notes"
   ]
  },
  {
   "cell_type": "markdown",
   "metadata": {},
   "source": [
    "- **For Loops**: iterates over a sequence (list/tuple/dict/set/string)\n",
    "  - Does not need iterator like while loop\n",
    "  - **Control statements**: directs flow of execution\n",
    "    - `break`: stops loop based on condition in body\n",
    "    - `continue`: skip an element of the sequence\n",
    "    - `pass`: when you do not want a block of code in for loop\n",
    "  - `range(start, stop, increment)`: starts @ start, ends @ end-1, increments by #\n",
    "  - `else`: block which executes after final loop\n",
    "    - Does not execute if `break` is used in loop body\n",
    "  - **Nested Loops**: inner loop executes 1x for each iteration of outer loop (cartesian product)\n",
    "    - If only inner loop is in `print()`, then it will print for each iteration of outer loop\n",
    "- **Conditions/If Statements**: uses logical conditions from math\n",
    "  - `if`\n",
    "    - nested if: if yes(a) and if yes(b) else\n",
    "  - `elif`\n",
    "  - `else`\n",
    "  - `and`\\ `or` \\ `not` operators within if\n",
    "  - **Shorthands (Conditional Expressions)**: for one-liner statements\n",
    "    - if: `if` [condition] `print()`\n",
    "    - if-else: `print() if` [expression] `else print()`\n",
    "    - Multiple Else: `print() if` [expression] `else print() if` [expression] `else print()`"
   ]
  },
  {
   "cell_type": "code",
   "execution_count": null,
   "metadata": {},
   "outputs": [],
   "source": [
    "#draw basic shape (triangle)\n",
    "print(\"   /|\")\n",
    "print(\"  / |\")\n",
    "print(\" /  |\")\n",
    "print(\"/___|\")"
   ]
  },
  {
   "cell_type": "markdown",
   "metadata": {},
   "source": [
    "#### HackerRank"
   ]
  },
  {
   "cell_type": "markdown",
   "metadata": {},
   "source": [
    "Notes:\n",
    "- Python files are called modules (.py) which define functions, classes, variables\n",
    "- `__main__`: special variable which indicates the module in use is called \"main\", or the main module.\n",
    "  - If you would like to use a different module, you can import\n",
    "  - HackerRank uses the main module for its exercises\n",
    "- STDIN (standard input): used for I/O programming to accepts standard input methods\n",
    "  - accepts input from user, file, and data streams"
   ]
  },
  {
   "cell_type": "code",
   "execution_count": null,
   "metadata": {},
   "outputs": [],
   "source": [
    "#1: print\n",
    "if __name__ == '__main__':\n",
    "    print(\"Hello, World!\")"
   ]
  },
  {
   "cell_type": "code",
   "execution_count": null,
   "metadata": {},
   "outputs": [],
   "source": [
    "#2: if-else\n",
    "import math\n",
    "import os\n",
    "import random\n",
    "import re\n",
    "import sys\n",
    "\n",
    "if __name__ == '__main__':\n",
    "    n = int(input().strip())\n",
    "    if n % 2 != 0 and n >= 1:\n",
    "        print(\"Weird\")\n",
    "    elif n >= 2 and n <= 5:\n",
    "        print(\"Not Weird\")\n",
    "    elif n >= 6 and n <= 20:\n",
    "        print(\"Weird\")\n",
    "    elif n % 2 == 0 and n > 20:\n",
    "        print(\"Not Weird\")\n",
    "\n",
    "#can also use range(2,6) etc"
   ]
  },
  {
   "cell_type": "code",
   "execution_count": null,
   "metadata": {},
   "outputs": [],
   "source": [
    "#3: arithmetic operators\n",
    "if __name__ == '__main__':\n",
    "    a = int(input())\n",
    "    b = int(input())\n",
    "    print(a+b)\n",
    "    print(a-b)\n",
    "    print(a*b)"
   ]
  },
  {
   "cell_type": "code",
   "execution_count": null,
   "metadata": {},
   "outputs": [],
   "source": [
    "#4: division\n",
    "if __name__ == '__main__':\n",
    "    a = int(input())\n",
    "    b = int(input())\n",
    "    print(a//b)\n",
    "    print(a/b)\n",
    "\n",
    "#output: division result int, division result float"
   ]
  },
  {
   "cell_type": "code",
   "execution_count": null,
   "metadata": {},
   "outputs": [],
   "source": [
    "#5: loops\n",
    "if __name__ == '__main__':\n",
    "    n = int(input())\n",
    "    for i in range(0,n):\n",
    "        print(i*i)\n",
    "\n",
    "#output: square of non-negative numbers less than input"
   ]
  },
  {
   "cell_type": "markdown",
   "metadata": {},
   "source": [
    "### Day 2 - Variables and Data Types"
   ]
  },
  {
   "cell_type": "markdown",
   "metadata": {},
   "source": [
    "#### Notes"
   ]
  },
  {
   "cell_type": "markdown",
   "metadata": {},
   "source": [
    "- **Variables:**\n",
    "  - **Text**: \n",
    "    - str (immutable)\n",
    "  - **Numeric**:\n",
    "    - int: `12`\n",
    "    - float: `1.5` or scientific/power of 10 `10E3`\n",
    "    - complex: imaginary number `1j`\n",
    "      - cannot convert\n",
    "    - random: has its own module `random` with function `randrange()`\n",
    "  - **Collection**:\n",
    "    - list: `[1,2]`\n",
    "    - tuple (immutable): `(1,2)`\n",
    "    - range: `range(start,stop)`\n",
    "    - **Mapping**:\n",
    "      - dictionary: `{a:1,b:2}`\n",
    "  - **Set**:\n",
    "    - set (distinct): `{1,2}`\n",
    "    - frozenset (immutable): `frozenset({1,2})`\n",
    "  - **Bool**: \n",
    "    - `True,False`\n",
    "  - **Binary**:\n",
    "    - bytes (immutable 0 - 256): `b\"Hello\"`\n",
    "    - bytearray (mutable 0 - 256): returns elements which can be changed `bytearray(5)`\n",
    "    - memoryview: returns object how its stored in memory\n",
    "  - **None**"
   ]
  },
  {
   "cell_type": "markdown",
   "metadata": {},
   "source": [
    "#### HackerRank"
   ]
  },
  {
   "cell_type": "markdown",
   "metadata": {},
   "source": [
    "List Comprehension: creates new list based on values of existing list\n",
    "- Inputs: 4 ints\n",
    "  - 1,2,3: these set end of their ranges\n",
    "  - 4: sum of values in each range which sets exclusive limit for ranges\n",
    "- Syntax: new list = '[x for x in fruits if \"a\" in x]' \n",
    "- Permutations: all possible combinations of a list of elements"
   ]
  },
  {
   "cell_type": "code",
   "execution_count": null,
   "metadata": {},
   "outputs": [],
   "source": [
    "def cartesian_product(x,y,z,n):\n",
    "    perms = [[i,j,k] for i in range(x+1) for j in range(y+1) for k in range(z+1) if i+j+k != n]\n",
    "    print(perms)\n",
    "\n",
    "cartesian_product(1,2,3,5)\n",
    "\n",
    "#output: all combinations of the numbers between each range which do not add up to n\n",
    "#this is achieved using 3 nested for loops, and each loop generates a list which includes a number from each range specified by user"
   ]
  },
  {
   "cell_type": "markdown",
   "metadata": {},
   "source": [
    "Find the Runner-Up: print second highest number from given list\n",
    "- Inputs:\n",
    "  - 1: int\n",
    "  - 2: str (numbers spaced out) --> split by space --> map int() to each number --> map object\n",
    "- Steps:\n",
    "  - sort input into asc order\n",
    "  - `sorted()` can be used on a set, but to call `.sort()` off object it needs to be a list\n",
    "  - can also use reverse=True kwarg to use positive index\n",
    "  - convert arr to set to avoid fetching a duplicate max\n",
    "  - fetch second to last number using index"
   ]
  },
  {
   "cell_type": "code",
   "execution_count": null,
   "metadata": {},
   "outputs": [],
   "source": [
    "def runner_up(num, arr):\n",
    "    num = int(num)\n",
    "    arr = map(int, arr.split())\n",
    "    arr = sorted(set(arr))              #convert into set and sort asc\n",
    "    print(arr[-2])                      #print second to last number\n",
    "\n",
    "runner_up(5, \"2 3 6 6 5\")"
   ]
  },
  {
   "cell_type": "markdown",
   "metadata": {},
   "source": [
    "Nested Lists: Print name of student from list who scored second-lowest. List tied students alphabetically\n",
    "- Inputs: \n",
    "  - 1: # of students(int) --> range()\n",
    "  - 2: name (str)\n",
    "  - 3: score --> float\n",
    "- Steps:\n",
    "    - Make 3 empty lists: names, scores, and records (nested list)\n",
    "    - Loop 1:\n",
    "      - Append names to names list\n",
    "      - Append scores to scores list\n",
    "      - Append names + scores to records list\n",
    "      - Remove duplicate scores from list and sort asc\n",
    "      - Store target score (2nd Lowest)\n",
    "      - Make a list of students who match target score using records list\n",
    "      - Sort this list alphabetically\n",
    "    - Loop 2: Print names"
   ]
  },
  {
   "cell_type": "code",
   "execution_count": null,
   "metadata": {},
   "outputs": [],
   "source": [
    "if __name__ == '__main__':\n",
    "    names = []\n",
    "    scores = []\n",
    "    records = []\n",
    "    for _ in range(int(input())):\n",
    "        name = input()\n",
    "        score = float(input())\n",
    "        \n",
    "        names.append(name)\n",
    "        scores.append(score)\n",
    "        records.append([name,score])\n",
    "        \n",
    "    scores = sorted(set(scores))\n",
    "    target_score = scores[1]\n",
    "    target_students = sorted([i[0] for i in records if i[1] == target_score])\n",
    "    \n",
    "    for student in target_students:\n",
    "        print(student)"
   ]
  },
  {
   "cell_type": "markdown",
   "metadata": {},
   "source": [
    "Dictionaries: Find average score of students whose grades are listed in dictionary.\n",
    "- Input 1: # of records\n",
    "- Input 2: name and scores\n",
    "   - name is split from from scores (can be multiple)\n",
    "   - `*`: splat operator, unpacks multiple input values from list\n",
    "scores --> floats --> list\n",
    "dictionary: key = name, value = scores\n",
    "- Input 3: name of desired student\n",
    "  \n",
    "- Steps:\n",
    "   - Pull scores from dictionary by name key\n",
    "   - sum scores and divide by length\n",
    "   - format to 2 dec places"
   ]
  },
  {
   "cell_type": "code",
   "execution_count": null,
   "metadata": {},
   "outputs": [],
   "source": [
    "if __name__ == '__main__':\n",
    "    n = int(input())\n",
    "    student_marks = {}\n",
    "    for _ in range(n):\n",
    "        name, *line = input().split()\n",
    "        scores = list(map(float, line))\n",
    "        student_marks[name] = scores\n",
    "    query_name = input()\n",
    "    \n",
    "    scores = student_marks[query_name]\n",
    "    avg = sum(scores)/len(scores)\n",
    "    print(format(avg, \".2F\"))"
   ]
  },
  {
   "cell_type": "markdown",
   "metadata": {},
   "source": [
    "Tuples: Create tuple t from ints and find hash\n",
    "- Inputs: \n",
    "  - 1: int\n",
    "  - 2: list of nums --> split --> map int()\n",
    "- Steps:\n",
    "  - Convert map object --> tuple\n",
    "  - hash tuple\n",
    "  - `hash()`: returns hash value (int) of tuple, which is used to compare dict keys"
   ]
  },
  {
   "cell_type": "code",
   "execution_count": null,
   "metadata": {},
   "outputs": [],
   "source": [
    "if __name__ == '__main__':\n",
    "    n = int(input())\n",
    "    integer_list = map(int, input().split())\n",
    "    \n",
    "    myTuple = tuple(integer_list)\n",
    "    print(hash(myTuple))"
   ]
  },
  {
   "cell_type": "markdown",
   "metadata": {},
   "source": [
    "List: Update list based on functions passed in\n",
    "   - Input 1: int (# of commands)\n",
    "   - Input *N: lines containing commands\n",
    "   - Steps:\n",
    "     - For Loop:\n",
    "       - Fetch Commands: split input --> map `str()` to convert type --> list\n",
    "       - each if statement corresponds to command, and body executes command which matches user string\n",
    "       - numbers inserted/removed/appended must be of `int` data type"
   ]
  },
  {
   "cell_type": "code",
   "execution_count": null,
   "metadata": {},
   "outputs": [],
   "source": [
    "if __name__ == '__main__':\n",
    "    N = int(input())\n",
    "    myList = []\n",
    "    for _ in range(N):\n",
    "        commands = list(map(str, input().split()))\n",
    "        if commands[0] == 'insert':\n",
    "            myList.insert(int(commands[1]), int(commands[2]))\n",
    "        elif commands[0] == 'print':\n",
    "            print(myList)\n",
    "        elif commands[0] == 'remove':\n",
    "            myList.remove(int(commands[1]))\n",
    "        elif commands[0] == 'append':\n",
    "            myList.append(int(commands[1]))\n",
    "        elif commands[0] == 'sort':\n",
    "            myList.sort()\n",
    "        elif commands[0] == 'pop':\n",
    "            myList.pop()\n",
    "        elif commands[0] == 'reverse':\n",
    "            myList.reverse()"
   ]
  },
  {
   "cell_type": "markdown",
   "metadata": {},
   "source": [
    "### Day 3 - Strings"
   ]
  },
  {
   "cell_type": "markdown",
   "metadata": {},
   "source": [
    "#### Notes"
   ]
  },
  {
   "cell_type": "markdown",
   "metadata": {},
   "source": [
    "- **strings**: an array/sequence of chars\n",
    "  - can use single or double quote enclosing\n",
    "  - **nested string**\n",
    "    - `\"im 'bored'\"`, `'im \"bored\"'`\n",
    "  - **multiline**\n",
    "    - \"\"\"str\"\"\"\n",
    "  - **loop**\n",
    "    - `for x in \"yasin\":`\n",
    "  - **word/char check**\n",
    "    - `print(\"yasin\" in/not in list)` = t/f\n",
    "    - `if \"yasin\" in/not in text:`\n",
    "  - **slicing/indexing**\n",
    "    - `str[2:5]`: does not include end position\n",
    "    - `str[:5]`: start to 5\n",
    "    - `str[2:]`: 2 to end\n",
    "      - **neg indexing**\n",
    "        - `str[-5:-2]`: counts from end: between 5th char from end to 2nd char from end\n",
    "  - **concat**\n",
    "    - `a + \" \" + b`: combine these strings\n",
    "  - **format**: \n",
    "    - f-string: `str = f\"str\"` or `print(f\"str\")`\n",
    "      - variables: `f\"hi {name}`\n",
    "      - modifier: `f\"price: ${price:.2F}\"`\n",
    "      - operations: `f\"i am {today - birth} years old\"`\n",
    "- **carriage returns/operators**\n",
    "  - `\\n`: newline\n",
    "  - `\\`: escape (next character is printed, not used as a delim)\n",
    "  - `+`: concatenate 2 strings\n",
    "  - `\\b`: erases a char\n",
    "  - `\\[octal]`: octal value (letter) of 3 digits\n",
    "  - `\\[hex]`: 2 digits and a letter which represents hex of a character\n",
    "- **methods**\n",
    "  - **modification**\n",
    "    - `str.strip()`: remove whitespace\n",
    "    - `str.replace(\"a\",\"b\")`: replace part of str\n",
    "    - `str.split(\",\")`: split by delimiter --> output is list\n",
    "    - `\"-\".join(list)`: list --> string\n",
    "    - `str.lower(), str.upper()` = case change\n",
    "    - `str.title()` = capitalize words\n",
    "  - **validation**\n",
    "    - `str.islower(), str.isupper()` = true/false\n",
    "    - `str.isalnum(), .isalpha(), isdigit()`: checks if str is alphanumeric, digits, or letters\n",
    "  - **combinations**\n",
    "    - `str.upper().isupper()`\n",
    "- **functions**\n",
    "  - **counting**\n",
    "    - `len()`: prints length int\n",
    "- **index**\n",
    "  - `str[0]`: starts w 0\n",
    "  - `str.index(\"a\")`: index of character/word/part of word\n",
    "- **unpack**: `*str` --> list"
   ]
  },
  {
   "cell_type": "markdown",
   "metadata": {},
   "source": [
    "#### HackerRank"
   ]
  },
  {
   "cell_type": "markdown",
   "metadata": {},
   "source": [
    "- **Swap Case:** switch upper chars to lower and lower to upper\n",
    "  - Input: str\n",
    "  - Steps:\n",
    "    - make new empty string\n",
    "    - for loop\n",
    "      - swap case based on whether its upper/lower\n",
    "      - append modified char into string\n",
    "    - return string\n",
    "  \n",
    "    *note: don't use == \"True\" for bool return function in if statement. use function itself as condition."
   ]
  },
  {
   "cell_type": "code",
   "execution_count": null,
   "metadata": {},
   "outputs": [],
   "source": [
    "def swap_case(s):\n",
    "    swapped = \"\"\n",
    "    for char in s:\n",
    "        if char.isupper():  #dont use == true\n",
    "            swapped += char.lower()\n",
    "        else:\n",
    "            swapped += char.upper()\n",
    "    \n",
    "    return swapped\n",
    "\n",
    "swap_case(\"PyTest\")"
   ]
  },
  {
   "cell_type": "markdown",
   "metadata": {},
   "source": [
    "- **String Split and Join**: split string on space delim and join using hyphen\n",
    "  - Input: str\n",
    "  - Steps:\n",
    "      - split string --> returns list\n",
    "      - join items using -"
   ]
  },
  {
   "cell_type": "code",
   "execution_count": null,
   "metadata": {},
   "outputs": [],
   "source": [
    "def split_and_join(line):\n",
    "    modified = line.split()\n",
    "    modified = \"-\".join(modified)\n",
    "    return modified\n",
    "\n",
    "split_and_join(\"file name\")"
   ]
  },
  {
   "cell_type": "markdown",
   "metadata": {},
   "source": [
    "- **What's Your Name?:** read two lines and print into given sentence\n",
    "  - Inputs: \n",
    "    - 1: fName str\n",
    "    - 2: lName str\n",
    "  - Steps:\n",
    "    - format using f string and print\n"
   ]
  },
  {
   "cell_type": "code",
   "execution_count": null,
   "metadata": {},
   "outputs": [],
   "source": [
    "\n",
    "def print_full_name(first, last):\n",
    "    welcome = f\"Hello {first} {last}! You just delved into python.\"\n",
    "    print(welcome)\n",
    "\n",
    "print_full_name(\"Yasin\", \"Sharaf\")"
   ]
  },
  {
   "cell_type": "markdown",
   "metadata": {},
   "source": [
    "- **Mutations:** change character in a string, an immutable data tyoe\n",
    "  - Inputs: \n",
    "    - 1: str\n",
    "    - 2: \"index\" space \"char\" --> splits into list(index, char)\n",
    "  - Steps:\n",
    "    - make vars:\n",
    "      - index to insert at\n",
    "      - index after insertion\n",
    "      - character parameter\n",
    "      - new string\n",
    "    - slice the string into two parts:\n",
    "      - before change index\n",
    "      - after change index (index + 1)\n",
    "    - add in new char between both slices\n",
    "    - print"
   ]
  },
  {
   "cell_type": "code",
   "execution_count": null,
   "metadata": {},
   "outputs": [],
   "source": [
    "def mutate_string(string, position, character):\n",
    "    i = position\n",
    "    j = i + 1\n",
    "    char = character\n",
    "    mutated_str = string[:i] + char + string[j:]\n",
    "    \n",
    "    return mutated_str\n",
    "\n",
    "mutate_string(\"yasin\",3, \"ee\")"
   ]
  },
  {
   "cell_type": "markdown",
   "metadata": {},
   "source": [
    "- **Find a string**: count substring occurrences in given string\n",
    "  - Inputs: \n",
    "    - 1: str\n",
    "    - 2: substr\n",
    "  - Steps:\n",
    "    - you need to store and use two values:\n",
    "      - substring length: for sliding window in for loop (uses counter position to move starting point traverse over string)\n",
    "      - remainder(string - substring): this is the inclusive range to traverse over (so add 1)\n",
    "    - in each iteration, compare sliding window (size of substring, starts from iterator position) to substring\n",
    "    - tally number of matches"
   ]
  },
  {
   "cell_type": "code",
   "execution_count": null,
   "metadata": {},
   "outputs": [],
   "source": [
    "def count_substring(string, sub_string):\n",
    "    traverse_over =len(string) - len(sub_string)\n",
    "    count = 0\n",
    "    \n",
    "    for i in range(0,traverse_over+1):\n",
    "        block_end = i+len(sub_string)\n",
    "\n",
    "        if(string[i:block_end] == sub_string):\n",
    "            count += 1\n",
    "    return count\n",
    "\n",
    "count_substring(\"xiexie!\", \"xie\")"
   ]
  },
  {
   "cell_type": "markdown",
   "metadata": {},
   "source": [
    "- **String Validators**: validate whether each char type exists in the given string\n",
    "  - Input: str\n",
    "  - Steps:\n",
    "    - list comprehension: loops validation methods over each char\n",
    "    - validation must return true if any chars in string match"
   ]
  },
  {
   "cell_type": "code",
   "execution_count": null,
   "metadata": {},
   "outputs": [],
   "source": [
    "def str_validation(string):\n",
    "    print(any(char.isalnum() for char in string))\n",
    "    print(any(char.isalpha() for char in string))\n",
    "    print(any(char.isdigit() for char in string))\n",
    "    print(any(char.islower() for char in string))\n",
    "    print(any(char.isupper() for char in string))\n",
    "\n",
    "str_validation(\"Cub4n$$\")"
   ]
  },
  {
   "cell_type": "markdown",
   "metadata": {},
   "source": [
    "- **Text Wrap:** wrap given str into paragraph of given width\n",
    "  - Inputs: \n",
    "    - 1: string\n",
    "    - 2: width int\n",
    "  - Modules:\n",
    "    - textwrap: uses `fill()` which wraps text based on max width for each line\n",
    "      - `wrap()` returns list\n"
   ]
  },
  {
   "cell_type": "code",
   "execution_count": null,
   "metadata": {},
   "outputs": [],
   "source": [
    "import textwrap\n",
    "\n",
    "def wrap(string, max_width):\n",
    "    mywidth = int(max_width)\n",
    "    return textwrap.fill(string, max_width)\n",
    "\n",
    "wrap(\"I went to the moon\",4)"
   ]
  },
  {
   "cell_type": "markdown",
   "metadata": {},
   "source": [
    "### Day 4 - Sets"
   ]
  },
  {
   "cell_type": "markdown",
   "metadata": {},
   "source": [
    "#### Notes"
   ]
  },
  {
   "cell_type": "markdown",
   "metadata": {},
   "source": [
    "Sets `{}`\n",
    "- **Key Facts**\n",
    "  - Initialize using `()`\n",
    "  - distinct elements, regardless of input\n",
    "  - No index, so cannot fetch elements using `set[i]`\n",
    "  - Immutable, but can add/remove items\n",
    "  - No order\n",
    "  - `False` and `0` considered equal values\n",
    "  - `True` and `1` considered equal values\n",
    "  - Can be any data type\n",
    "- **Functions**\n",
    "  - `len(set)`\n",
    "  - `sorted(set)`\n",
    "- **Constructor**\n",
    "  - `set((list))`: converts list to set\n",
    "- **Methods**\n",
    "  - **Comparisons**\n",
    "    - `set.symmetric_difference(set2)`: Values only existing in one set\n",
    "      - or `print(set1^set2)`\n",
    "    - `set.union(set2)`: Union distinct (combine both)\n",
    "      - or `print(set1 | set2)`\n",
    "    - `set.intersection(set2)`: Inner join (matching elements) \n",
    "      - or `print(set1 & set 2)`\n",
    "    - `set.difference(set2)`: Remove set 2 elements from set 1\n",
    "      -  `print(set1 - set2)`\n",
    "  - **Adding**\n",
    "     - `set.add(i)`: adds element\n",
    "     - `set.update([collection])`: add a collection of elements (iterable) to set\n",
    "  - **Removing**\n",
    "    - `set.discard(i)`: removes value\n",
    "    - `set.remove(i)`: removes value and returns KeyError if that value does not exist\n",
    "    - `set.pop([index])`: removes value at given index (last element by default)\n",
    "  \n",
    "  \n",
    "  *note: a constructor function creates new object (ie a set) and has no return value"
   ]
  },
  {
   "cell_type": "markdown",
   "metadata": {},
   "source": [
    "#### HackerRank"
   ]
  },
  {
   "cell_type": "markdown",
   "metadata": {},
   "source": [
    "Intro to Sets: Compute avg of all plants w distinct heights\n",
    "- Inputs:\n",
    "  - 1: size of arr (int)\n",
    "  - 2: space-seperated ints (str) --> arr\n",
    "- Steps:\n",
    "  - convert arr --> set\n",
    "  - use for loop to add all elements and find avg"
   ]
  },
  {
   "cell_type": "code",
   "execution_count": null,
   "metadata": {},
   "outputs": [],
   "source": [
    "def average(array):\n",
    "    array = list(map(int,array.split()))\n",
    "    mySet = set(array)\n",
    "    \n",
    "    total = 0\n",
    "    for i in mySet:\n",
    "        total += i\n",
    "        avg = total/len(mySet)\n",
    "    return avg\n",
    "\n",
    "average(\"1 2 3 4 5 6\")"
   ]
  },
  {
   "cell_type": "markdown",
   "metadata": {},
   "source": [
    "Apply Set Methods\n",
    "- `_` is a var which holds `input()`, but doesnt need to be named since it will not be used\n",
    "- Use an integer input to allow user to set range of a list of inputs\n",
    "- Use `sorted()` to sort set\n",
    "- print elements of set using loop"
   ]
  },
  {
   "cell_type": "code",
   "execution_count": null,
   "metadata": {},
   "outputs": [],
   "source": [
    "_, eng = input(), set(input().split())\n",
    "_, french = input(), set(input().split())\n",
    "\n",
    "symmetric_difference = eng.symmetric_difference(french)\n",
    "print(len(unique_vals))\n",
    "\n",
    "union = eng.union(french)\n",
    "print(len(union))\n",
    "\n",
    "intersection = eng.intersection(french)\n",
    "print(len(intersection))\n",
    "\n",
    "difference = eng.difference(french)\n",
    "print(len(difference))"
   ]
  },
  {
   "cell_type": "code",
   "execution_count": null,
   "metadata": {},
   "outputs": [],
   "source": [
    "n = int(input())     #number of country inputs\n",
    "\n",
    "set1 = set()\n",
    "for country in range(n):\n",
    "    set1.add(input())  \n",
    "\n",
    "print(len(set1))"
   ]
  },
  {
   "cell_type": "code",
   "execution_count": null,
   "metadata": {},
   "outputs": [],
   "source": [
    "#sort and print values unique to each set\n",
    "input()\n",
    "set1 = set(map(int,input().split()))\n",
    "input()\n",
    "set2 = set(map(int,input().split()))\n",
    "\n",
    "symmetric_difference = sorted(set1^set2)\n",
    "for i in symmetric_difference:\n",
    "    print(i)"
   ]
  },
  {
   "cell_type": "code",
   "execution_count": null,
   "metadata": {},
   "outputs": [],
   "source": [
    "# discard, remove, pop\n",
    "n = int(input())                          #num of elements in set\n",
    "s = set(map(int, input().split()))        #spaced out chars in str --> int(chars) --> set\n",
    "N = int(input())                          #num of commands\n",
    "\n",
    "for item in range(0, N):\n",
    "    cmd = input().split()                 #str \"command #\" --> list with index command = 0 and # = 1\n",
    "    if cmd[0] == \"pop\":\n",
    "        s.pop()\n",
    "    if cmd[0] == \"remove\":\n",
    "        try:\n",
    "            s.remove(int(cmd[1]))\n",
    "        finally:\n",
    "            continue\n",
    "    if cmd[0] == \"discard\":\n",
    "        try:\n",
    "            s.discard(int(cmd[1]))\n",
    "        finally:\n",
    "            continue\n",
    "            \n",
    "print(sum(s))"
   ]
  },
  {
   "cell_type": "markdown",
   "metadata": {},
   "source": [
    "### Day 5 - Math & Itertools"
   ]
  },
  {
   "cell_type": "markdown",
   "metadata": {},
   "source": [
    "#### Notes"
   ]
  },
  {
   "cell_type": "markdown",
   "metadata": {},
   "source": [
    "- **Facts**\n",
    "  - Itertools: module for working with iterable containers (lists, sets, tuples, strings, etc)\n",
    "  - Makes iterator operations more effective vs loops\n",
    "- **Functions**\n",
    "  - **Combinators**: either combines iterable with itself or with others\n",
    "    - `product(a,b)`: cartesian product of iters. returns itertools object (convert to list)\n",
    "      - kwargs: `repeat=` repeats product function n times\n",
    "      - args: either 2 iterables or 1 iterable with itself\n",
    "    - `permutations(a)`: all possible orderings of iter\n",
    "      - args: length (int)\n",
    "    - `combinations(a)`: all possible combinatons of elements in iter\n",
    "      - args: length (int)\n",
    "    - `combinations_with_replacement(a)`: combines element with itself as well\n",
    "  - **Terminating**: transformation to a loop based on function\n",
    "      - `accumulate(a)`: running totals for each element\n",
    "          - kwargs: `func=[operator.mul, max]`\n",
    "      - `groupby(a)`: seperates elements into groups based on condition. returns dict {key = condition t/f, value = subset}\n",
    "        - kwargs: `key= [func/lambda]`\n",
    "      - `chain(a,b,c)`: joins multiple iterables\n",
    "        - chain_from_iterable(n): takes in nested list of iterables `n = [a,b,c]`\n",
    "      - `compress(a,[1,0,0,1])`: keep elements based on t/f for each index and skip the rest\n",
    "      - `dropwhile(func(), li)`: prints remaining elements after first false is met\n",
    "      - `takewhile(func(), li)`: prints elements before first false is met\n",
    "      - \n",
    "      - `filterfalse(func(),li)`: prints all elements which return false\n",
    "      - `islice(li, [i],[i], ...)`: keeps specified elements\n",
    "        - index slice\n",
    "      - `starmap(func, tuple list)`: returns values from each tuple based on condition in function\n",
    "      - `zip_longest(l1,l2)`: makes a pair of alternating values from both iterables\n",
    "        - kwargs:`fill_value`: fills part of the pair when a list is shorter than the other\n",
    "    - **Infinite**: used with a loop and continues until stop condition\n",
    "      - `count(a)`: repeats loop until stop condition, starts at a\n",
    "      - `cycle(a)`: cycles over iterable until stop condition\n",
    "      - `repeat(a, [stop]):` repeats an element given time`\n",
    "      - `next(a)`: can be used instead of increment variable to move to next element in loop.\n",
    "  - **Constructor**:\n",
    "    - `Iter(iterable)`: creates iterator object (can use next()) from iterable container\n",
    "      - `reversed(iterable)`: reverses itrerable object and creates iterator."
   ]
  },
  {
   "cell_type": "markdown",
   "metadata": {},
   "source": [
    "#### HackerRank"
   ]
  },
  {
   "cell_type": "markdown",
   "metadata": {},
   "source": [
    "Notes:\n",
    "- when length of a combinator is up to a size, place combinator for loop inside range for loop\n",
    "- outputting to 2 variables: use `a,b =`  syntax\n",
    "- to join 2 elements in list and print together, use `''.join(elements)` method in for loop"
   ]
  },
  {
   "cell_type": "code",
   "execution_count": null,
   "metadata": {},
   "outputs": [],
   "source": [
    "#permutation: string into permutations\n",
    "from itertools import permutations\n",
    "S,k = input().split()\n",
    "\n",
    "k = int(k)\n",
    "\n",
    "perms = list(permutations(sorted(S),int(k)))\n",
    "\n",
    "for perm in perms:\n",
    "    print(''.join(perm))"
   ]
  },
  {
   "cell_type": "code",
   "execution_count": null,
   "metadata": {},
   "outputs": [],
   "source": [
    "#product()\n",
    "from itertools import product\n",
    "\n",
    "A = list(map(int, input().split()))\n",
    "B = list(map(int, input().split()))\n",
    "\n",
    "product = product(A, B)\n",
    "\n",
    "for i in product:\n",
    "    print(i, end=\" \")"
   ]
  },
  {
   "cell_type": "code",
   "execution_count": null,
   "metadata": {},
   "outputs": [],
   "source": [
    "#combinations()\n",
    "from itertools import combinations\n",
    "\n",
    "S, k = input().split()\n",
    "S = sorted(S)                             #lexicographic order\n",
    "k = int(k)     \n",
    "\n",
    "for i in range(1, k+1):                   #1 to size k\n",
    "    for combo in combinations(S, i):      #repeat combos until size k is reached\n",
    "        print(''.join(combo))"
   ]
  },
  {
   "cell_type": "code",
   "execution_count": null,
   "metadata": {},
   "outputs": [],
   "source": [
    "#combinations with replacement\n",
    "from itertools import combinations_with_replacement\n",
    "\n",
    "S, k = input().split()\n",
    "S = sorted(S)\n",
    "k = int(k)\n",
    "\n",
    "combos = list(combinations_with_replacement(S,k))\n",
    "\n",
    "for i in combos:\n",
    "    print(''.join(i))"
   ]
  },
  {
   "cell_type": "markdown",
   "metadata": {},
   "source": [
    "### Day 6 - Collections, date/time"
   ]
  },
  {
   "cell_type": "markdown",
   "metadata": {},
   "source": [
    "#### Notes"
   ]
  },
  {
   "cell_type": "markdown",
   "metadata": {},
   "source": [
    "Collections\n",
    "- Lists\n",
    "   - starts from index[0], but from end it starts from [-1], similar to string\n",
    "   - changing element: `list[1] = 'yasin'`\n",
    "   - **Methods**\n",
    "   - **Adding Elements**\n",
    "      - `extend(list2): appends another list to end\n",
    "      - `append(a)`: appends another element to end\n",
    "      - `insert(index, value)`: inserts value at position\n",
    "   - **Deleting Elements**\n",
    "      - `remove(a)`: removes value\n",
    "      - `clear()`: truncates list\n",
    "      - `pop()`: removes the last element unless index specified\n",
    "      - `popleft()`: removes first element in a deque\n",
    "   - **Indexing**\n",
    "      - `index(a)`: find index of value\n",
    "      - `count(a)`: counts value occurrences\n",
    "   - **Sorting**\n",
    "      - `sort()`: sorts in asc order\n",
    "      - `reverse()`: sorts in desc order\n",
    "      - **Duplicating**\n",
    "      - `copy()`: copies list w attributes\n",
    "- Tuples\n",
    "      - initialize with `()`\n",
    "      - immutable\n",
    "      - contains a pair of values\n",
    "      - Use cases: coordinated, etc which store data that you do not want to change\n",
    "- Dictionaries\n",
    "  - Initialize with `{}`\n",
    "  - Populate using `d[key] = \"value\"`\n",
    "  - **Methods**\n",
    "    - `values()/keys()`: fetch all values or keys\n",
    "- Collections Module\n",
    "  - **Special Collections**\n",
    "    - **Dictionaries**\n",
    "      - `Counter()`: type of dictionary which stores count of each element\n",
    "         - can be initialized using list of items, dictionary (item: count), or kwargs (a=,b=,c=)\n",
    "         - Attributes: most_common\n",
    "         - Functions: sorted()\n",
    "      - `OrderedDict()`: stores values according to creation order\n",
    "      - `Defaultdict(default_factory)`: gives missing keys a value so errors are not raised. Useful when using a counter variable for dict key in loop, and there is no 0 key.\n",
    "      - `ChainMap(d1,d2,...)`: makes nested dict\n",
    "        - uses original keys/values for accessing values\n",
    "    - **Tuples**\n",
    "      - `namedTuple()`: creates a tuple with names for positions which can be accessed using name attribute\n",
    "    - **List**\n",
    "      - `deque()`: double ended queue, optimized for append/pop from both sides.\n",
    "        - O(n) linear --> O(1) constant time complexity aka size does not affect algorithm speed.\n",
    "      - `UserList()/Dict/Str`: allows user modifications to these inputs.\n",
    "\n",
    "Date/Time\n",
    "- `datetime.now()`: current date/time\n",
    "  - **Attributes**\n",
    "    - `year`\n",
    "    - `strftime(\"format\")`: formats date object --> str\n",
    "  - **Constructor**\n",
    "    - datetime(year,month,day,[hour, minute, second, microsecond, tzone])\n",
    "\n"
   ]
  },
  {
   "cell_type": "markdown",
   "metadata": {},
   "source": [
    "#### HackerRank"
   ]
  },
  {
   "cell_type": "code",
   "execution_count": null,
   "metadata": {},
   "outputs": [],
   "source": [
    "#counter from list\n",
    "from collections import Counter\n",
    "\n",
    "X = int(input()) #shoes\n",
    "sizes = Counter(map(int, input().split())) #shoe sizes\n",
    "N = int(input()) #customers\n",
    "\n",
    "total = 0       #init counter\n",
    "for i in range(N):\n",
    "    c_size, price = map(int,input().split())       #space-seperated str --> int vars\n",
    "    if sizes[c_size]:       #if customer size is in the size list\n",
    "        sizes[c_size] -=1   #update inventory for that size after sale\n",
    "        total += price      #add sale price to total\n",
    "\n",
    "print(total)\n"
   ]
  },
  {
   "cell_type": "markdown",
   "metadata": {},
   "source": [
    "### Day 7 - Errors, Exceptions, and Classes"
   ]
  },
  {
   "cell_type": "markdown",
   "metadata": {},
   "source": [
    "#### Notes"
   ]
  },
  {
   "cell_type": "markdown",
   "metadata": {},
   "source": [
    "- Errors\n",
    "  - **Syntax Error**\n",
    "    - TypeError: adding str and int\n",
    "    - NameError: using undefined variable\n",
    "    - ValueError: removing a nonexistent element from list\n",
    "    - IndexError: calling on index nonexistent in list\n",
    "    - Import Errors\n",
    "     - ModuleNotFoundError: Importing module which does not exist\n",
    "     - FileNotFoundError: Calling on file which does not exist\n",
    "  - **Exceptions**\n",
    "    - **Assertion**\n",
    "     - AssertionError: when expression in `assert()` is false\n",
    "   - **Raise**\n",
    "     - this raises an exception or error based on if statement with print\n",
    "    - **Try/Except Block**\n",
    "      - Used to catch any exceptions which raise errors present in the statement\n",
    "        - Can have multiple `except` blocks to test for various errors\n",
    "      - Used to allow program to continue with message vs ending at error\n",
    "      - `Else:` prints if no exceptions throw\n",
    "      - `Finally:` this one always prints\n",
    "      - Common errors to test for:\n",
    "        - ZeroDivisionError: when 0 is in denominator\n",
    "        - TypeError\n",
    "  - **Exception Class**\n",
    "   - Define class and for a specific error and use exception as base class\n",
    "     - Here, you can use pass clause in body and it will be valid, but the benefit is it will describe the specific error\n",
    "     - You can also add attributes (parameters, etc)\n",
    "- Classes\n",
    "  - Class: object constructor, or blueprint\n",
    "  - This class contains built in functions (modify the class), methods, and attributes\n",
    "    - Attributes: These are properties stored as data in the class, which can be called like this: \n",
    "      - x = 5 in MyClass\n",
    "      - Printing MyClass.x will return 5\n",
    "      - These can also be user-defined by setting them equal to the parameters `(self.message = message)`\n",
    "    - Functions:\n",
    "      - `__init__(self, param, ...)`: Gives values to object properties\n",
    "      - `__str__(self)`: returns a string the way you want to format it\n",
    "    - Parameters:\n",
    "      - self: has to be the first parameter of functions in the class which references the current instance\n",
    "   - Can modify and delete properties (MyClass.x = 10) or `del MyClass.x`\n",
    "   - Pass: a fller for class body if you just want to inherit properties from another class or leave it empty"
   ]
  },
  {
   "cell_type": "markdown",
   "metadata": {},
   "source": [
    "#### HackerRank"
   ]
  },
  {
   "cell_type": "markdown",
   "metadata": {},
   "source": [
    "Notes:\n",
    "- to test for zero division and value error based on user input, do int conversions in the try clause, not beforehand, or else error will be raised outside of try clause\n",
    "- `eval()` evaluates an expression, or sees if a keyword is just a string or a function, variable etc."
   ]
  },
  {
   "cell_type": "code",
   "execution_count": null,
   "metadata": {},
   "outputs": [],
   "source": [
    "#exceptions\n",
    "for case in range(T):\n",
    "    a, b = input().split()\n",
    "    try:\n",
    "        print(int(a) // int(b))\n",
    "    except ZeroDivisionError as e1:\n",
    "        print(f\"Error Code: {e1}\")\n",
    "    except ValueError as e2:\n",
    "        print(f\"Error Code: {e2}\")"
   ]
  },
  {
   "cell_type": "code",
   "execution_count": null,
   "metadata": {},
   "outputs": [],
   "source": [
    "#classes\n",
    "import math\n",
    "\n",
    "\n",
    "class Points(object):\n",
    "    def __init__(self, x, y, z):    #params = set 1 (current)\n",
    "        self.x = x\n",
    "        self.y = y\n",
    "        self.z = z\n",
    "\n",
    "    def __sub__(self, no):    #this method returns 3 values: the difference of each matching set\n",
    "        return Points(\n",
    "            (self.x-no.x),\n",
    "            (self.y-no.y),\n",
    "            (self.z-no.z))\n",
    "\n",
    "    def dot(self, no):        #this function returns the dot product (sum of products of matching sets aka sumproduct)\n",
    "        return (self.x*no.x)+(self.y*no.y)+(self.z*no.z)\n",
    "\n",
    "    def cross(self, no):         #difference of cross joins: y1*z2 - z1*y2 and so on\n",
    "        return Points(\n",
    "            (self.y*no.z-self.z*no.y),\n",
    "            (self.z*no.x-self.x*no.z),\n",
    "            (self.x*no.y-self.y*no.x))\n",
    "        \n",
    "    def absolute(self):\n",
    "        return pow((self.x ** 2 + self.y ** 2 + self.z ** 2), 0.5)"
   ]
  },
  {
   "cell_type": "code",
   "execution_count": null,
   "metadata": {},
   "outputs": [],
   "source": [
    "#eval user input expression\n",
    "\n",
    "eval(input())"
   ]
  },
  {
   "cell_type": "markdown",
   "metadata": {},
   "source": [
    "### Day 8 - Functionals, RegEx, Parsing"
   ]
  },
  {
   "cell_type": "markdown",
   "metadata": {},
   "source": [
    "#### Notes"
   ]
  },
  {
   "cell_type": "markdown",
   "metadata": {},
   "source": [
    "Functionals\n",
    "- **Args vs Params**\n",
    "  - Arguments: used when calling a function (argument that is passed to function)\n",
    "  - Parameters: used when defining a function (the arguments it takes in)\n",
    "- **Positional and Kwargs**\n",
    "  - Positional (arg): does not specify names of params, but needs to be in order `(1, 2)`\n",
    "  - Keyword Argument (kwarg): specifies parameters so order does not matter `(a=1, b=2)`\n",
    "    - Can use positional and keyword args, but positional is only before kwarg\n",
    "    - Can predefined in function `def func(a,b,c=1)` which only accepts a and b from user\n",
    "- **Variable Length Args**\n",
    "  - `*args`: any number of args can be passed in\n",
    "  - `**kwargs`: any number of kwargs can be passed in\n",
    "  - Use for loop in function body to print variable length arg and kwarg: `for arg in args print(arg)`\n",
    "  - To fetch arg from *args, use indexing to pick nth user input\n",
    "- **Container Unpacking**\n",
    "  - Can use list/tuple and unpack into function arguments: `func(*list1)`\n",
    "  - can unpack dict into kwargs: `func(**dict1)`\n",
    "- **Local vs Global**\n",
    "  - A local variable in function body will not apply the attribute to your variable\n",
    "  - Var inside func body needs to be defined using `global` for it to transform any variable you apply the function to\n",
    "  - immutable objects cannot be changed, but local mutable objects can be changed via local variable in the function\n",
    "    - For example, a list defined in the function will change a list var, but int or str will not\n",
    "    - Immutable objects within a mutable object (str, int) in list can be changed\n",
    "    - However, be careful not to make a local list variable in the function body, or else the changes will apply to that local variable and not to your variable\n",
    "- **Yield Keyword**: returns a sequence of elements in a generator object (list of values which can be printed using next())\n",
    "\n",
    "RegEx\n",
    "   - **Module**: `re`\n",
    "   - **Functions**\n",
    "     - `findall(letters/word, string)` --> list(matches)\n",
    "     - `search()` --> match object (match anywhere in string)\n",
    "     - `split()` --> list(string split @ matches)\n",
    "     - `sub([replacements])` --> replace matches\n",
    "   - **Characters**\n",
    "     - Metacharacters: has special meaning \n",
    "     - Special Sequences: starts with \\ and followed by letter\n",
    "     - Sets []: set of characters w special meaning\n",
    "   - **Match Object**\n",
    "     - **Methods**\n",
    "       - `Span():` start and end positions\n",
    "       - `string`: original string passed into regex function\n",
    "       - `group()`: parts where there was a match\n",
    "       - `start()/end()`: returns first and final match\n",
    "\n",
    "Parsing\n",
    "   - Split/Extract Substrings\n",
    "   - **Modules (String)**\n",
    "     - `split([delim], [max splits])`\n",
    "       - max splits splits the first x amount of words based on delim, and the rest is its own string\n",
    "     - `strip([chars])`: strips whitespaces by default, or can pass in set of chars as string\n",
    "\n",
    "Mapping\n",
    "   - can map functions to a variable or multiple variables based on the parameters it takes"
   ]
  },
  {
   "cell_type": "markdown",
   "metadata": {},
   "source": [
    "#### HackerRank"
   ]
  },
  {
   "cell_type": "code",
   "execution_count": null,
   "metadata": {},
   "outputs": [],
   "source": [
    "#map and lambda\n",
    "cube = lambda x: x**3   #x cubed\n",
    "\n",
    "def fibonacci(n):                      #fibonacci: a[i] = sum(a[i-1] + a[i-2])\n",
    "    n = int(n)                      \n",
    "    l1 = [0, 1]                        #starting 2 numbers\n",
    "    for i in range(2, n):              #start fibonnaci at 3rd number: need 2 numbers before it\n",
    "       l1.append(l1[i-1] + l1[i-2])    #add sum of previous numbers to list\n",
    "    return l1[0:n]                     #return all numbers from list till specified range\n",
    "\n",
    "fibonacci_sequence = (list(map(cube, fibonacci(5))))     #map cube lambda function to each element\n",
    "print(fibonacci_sequence)"
   ]
  },
  {
   "cell_type": "code",
   "execution_count": null,
   "metadata": {},
   "outputs": [],
   "source": [
    "#regex split: re.split()\n",
    "import re\n",
    "regex_pattern = r\"[,.]\"                #split on dot and comma\n",
    "num = \"100,000,000.000\"\n",
    "\n",
    "parsed = re.split(regex_pattern, num)\n",
    "print(\"\\n\".join(parsed))               #print each part on new line\n"
   ]
  },
  {
   "cell_type": "markdown",
   "metadata": {},
   "source": [
    "### Day 9: XML, Closures & Decorators"
   ]
  },
  {
   "cell_type": "markdown",
   "metadata": {},
   "source": [
    "#### Notes"
   ]
  },
  {
   "cell_type": "markdown",
   "metadata": {},
   "source": [
    "XML\n",
    "- eXtensible Markup Language\n",
    "- Designed to store/transport data, unlike HTML which displays data\n",
    "- has similar style to HTML, can set own tags\n",
    "- usually used with HTML which presents the data, since XML does not define presentation\n",
    "- CSS then contains info on the styling of the data hierarchy in dictionaries\n",
    "- Benefits: can manipulate HTML data without editing the  HTML file, you can just read and update XML data with JS.\n",
    "- Has specifications for use cases including news, weather service, etc.\n",
    "- Tree Structure: root --> child --> subchild --> text\n",
    "- **Standards**: AJAX (JS + XML), DOM, XPath, XLST (stylesheet language)\n",
    "- **Parsing**: use ElementTree library\n",
    "  - `parse(\"XML File\")`: entry point, parses entire doc at once --> list object (child elements)\n",
    "    - `attrib`: fetches attribute of a specific element in list using its index\n",
    "  - `getroot()`: gets root element"
   ]
  },
  {
   "cell_type": "code",
   "execution_count": null,
   "metadata": {},
   "outputs": [],
   "source": [
    "#XML Tree\n",
    "#each element is a node\n",
    "# <?xml version = \"\" encoding = \"\">\n",
    "# <root element>: bookstore\n",
    "#     <element [attribute]=>: book [category]\n",
    "#         <element [attribute]=> title [lang] Harry Potter </element>\n",
    "#     </element>\n",
    "# <root element>"
   ]
  },
  {
   "cell_type": "markdown",
   "metadata": {},
   "source": [
    "Closures\n",
    "- Function that returns output of inner function (hides complex code)\n",
    "- Nested Function: in a nested function, the inner function can only be accessed within the scope.\n",
    "- Closures access inner functions by returning the inner function in the outer function clause\n",
    "  - Use return ithout parenthesis\n",
    "- Benefits:\n",
    "  - As it calls an inner function, it reduces use of global variables and hides data (outer function is clean)\n",
    "  - Kind of like using a core sql model for complex queries, then wrapping it in a final query\n",
    "  - May be used instead of class if you have 1 method in it - good for code readability\n",
    "\n",
    "Decorators\n",
    "- Used with @ symbol\n",
    "- Decorators is a function that does the following:\n",
    "  - Takes in a func as an arg\n",
    "  - Passes it to inner func --> modifies func arg\n",
    "  - Returns output of inner func\n",
    "- aka a closure with func arg\n",
    "- if the function passed in has a return, include it in inner func body\n",
    "- Can also chain decorators"
   ]
  },
  {
   "cell_type": "markdown",
   "metadata": {},
   "source": [
    "#### HackerRank"
   ]
  },
  {
   "cell_type": "code",
   "execution_count": null,
   "metadata": {},
   "outputs": [],
   "source": [
    "#decorator to calculate execution time\n",
    "import time\n",
    "import math\n",
    "import re\n",
    "\n",
    "def calculate_time(func):                 #closure takes in func\n",
    "   def inner1(*args, **kwargs):          #we want it to work w any func, so args and kwargs are variable\n",
    "        begin = time.time()               #start time\n",
    "        func(*args, **kwargs)             #run function with its args/keyword args\n",
    "        end = time.time()                 #end time\n",
    "        print(\"Total time taken in : \", func.__name__, end - begin)\n",
    "   return inner1\n",
    "\n",
    "@calculate_time\n",
    "def thousands_split(num):\n",
    "   time.sleep(2)\n",
    "   regex_pattern = r\"[,.]\"                \n",
    "   num = str(num)\n",
    "\n",
    "   parsed = re.split(regex_pattern, num)\n",
    "   print(\"\\n\".join(parsed))\n",
    "\n",
    "thousands_split(\"100,000,000.00\")\n"
   ]
  },
  {
   "cell_type": "code",
   "execution_count": null,
   "metadata": {},
   "outputs": [],
   "source": [
    "#XML Score: Sum of attributes\n",
    "def get_attr_number(node):                                                    \n",
    "    score_root = len(node.attrib)                                            #fetches length of root element\n",
    "    score_childs = sum(get_attr_number(child) for child in node)             #this list comprehension applies the len(node.attrib) function to each child element\n",
    "    return(score_root+score_childs)                                          #root element attr + child element attr's"
   ]
  },
  {
   "cell_type": "markdown",
   "metadata": {},
   "source": [
    "### Day 10-11 NumPy"
   ]
  },
  {
   "cell_type": "markdown",
   "metadata": {},
   "source": [
    "#### Notes"
   ]
  },
  {
   "cell_type": "markdown",
   "metadata": {},
   "source": [
    "Numpy = Numerical Python (library that works with arrays)\n",
    "- A NumPy array stores values as a single data type\n",
    "- NumPy is MATLAB replacement due to math heavy\n",
    "- Backend for Pandas\n",
    "- Helps understand ML libraries like TensorFlow\n",
    "- Written in C or C++, and Python\n",
    "- Check version: `np.__version__`\n",
    "\n",
    "Advantages vs Lists\n",
    "- List stores additional metadata for each value, which use 8 bytes each. So NumPy reads less memory\n",
    "- No type checking (all the same dtype)\n",
    "- Memory of numbers are not scattered (continuous place memory), so computations are quicker\n",
    "- Faster cache loading\n",
    "- Up to 50x faster than lists, so its ideal for data science\n",
    "\n",
    "Difference vs Lists\n",
    "- Can perform operations between lists\n",
    "\n",
    "Functions\n",
    "**Making Array**\n",
    "- `array([list], dtype=\"\")`: numpy array constructor (can pass in list/tuple/etc)\n",
    "  - 2-D array: `([l1],[l2])` (has arrays as its elements)\n",
    "  - **kwargs**\n",
    "    - `ndmin=`: number of dimensions\n",
    "    - `dtype=`: sets data type (S, i4, i32, i, m , M, O, U, b, f)\n",
    "  - **Attributes**\n",
    "    - `ndim`: dimensions (level of array depth)\n",
    "    - `shape`: dimensions, elements\n",
    "    - `dtype`: datatype\n",
    "    - `itemsize`: size of each element in bytes\n",
    "    - `nbytes`: total bytes in array\n",
    "  - **Indexing**: starts from 0, neg indexing starts from -1\n",
    "    - 1-D: `array[i]`\n",
    "    - 2-D: `array[row,col]`\n",
    "      - `[:,2]`: this will be 3rd column both rows\n",
    "      - `[0,1:-1:2]`: first row(middle numbers skip by 2)\n",
    "      - think of 2d arrays as stacked rows\n",
    "    - 3-D:`array([[[l1],[l2]],[[l3],[l4]]])`: Elements are 2D arrays\n",
    "      - `array[array,array,element]`\n",
    "    - **Advanced**\n",
    "      - `arr expression`: checking if expression is true for each element\n",
    "        - can also check for any or all data\n",
    "      - can index\n",
    "    - **Slicing**\n",
    "      - `arr[start:end:step]`\n",
    "        - start inclusive, end exclusive\n",
    "        - can also do `[::2]` for skipping numbers from entire array\n",
    "        - 2-D Arrays: `arr[arr:arr, start:end:step]`\n",
    "  - **Changing Elements**:\n",
    "    - `array[row,col]` = new number\n",
    "    - `array[:,2]` = [1,2]: changes all rows of 3nd column\n",
    "  - **Methods**\n",
    "    - **Shaping Array**\n",
    "      - `zeroes((shape))`\n",
    "      - `ones((shape))`\n",
    "      - `full((shape),num)`: creates an array of that number\n",
    "      - `full-like(array,num)`: creates arr in shape of other array\n",
    "      - `reshape(arr, arr, ...., element)`: reshapes current array\n",
    "        - elements must be equal in both shapes (cannot shape 8 elements into 3x3)\n",
    "        - returns a view\n",
    "        - can have an unknown dimension (-1)\n",
    "        - Flatten: `reshape(-1)`\n",
    "        - or use `flatten()`\n",
    "    - `np.random.rand(shape)`: random nums\n",
    "    - `astype('type' or type)`: changes data type of array\n",
    "    - **Creating Copies**\n",
    "      - `copy()`: creates copy of original, which is not affected by changes to original\n",
    "      - `view()`: view of original (is not new dataset), so changes affect view, and view changes affect original\n",
    "      - `base()`: checks if the array owns the data (copy or view). Should return base if does not own\n",
    "**Math**\n",
    "- **Operations**\n",
    "  - simple math operations on arr and between arrays\n",
    "- **Linear Alg**\n",
    "  - `matmul()`: matrix mult\n",
    "   - determinants etc\n",
    "  - **Stats**\n",
    "   - min, max, sum\n",
    "  - **Loading Data**\n",
    "    - `np.genfromtext(file, delim=)`\n",
    "    - `data.astype()`\n",
    "  - **Iterating**\n",
    "    - Use for loop with counter to go thru all elements. In 2d arrays, returns subdimensions\n",
    "    - To return elements from subdimensions in 2d array, iterate on counter in nested for loop (to retrieve scalars/values)\n",
    "**Joining Arrays**\n",
    "- `concatenate(arr1,arr2)`\n",
    "      - **kwargs**: axis=1 (2d array join across rows)\n",
    "- `stack(arr1,arr2, )`: stacks on top of each other\n",
    "      - **kwargs**: axis = 1 (lays out each array vertically and combines side by side)\n",
    "      - `hstack(), vstack()`: horiz, vertical stacking\n",
    "**Splitting Arrays**\n",
    "- `array_split(arr, parts)`: if parts cannot be equal, it adjusts from the end\n",
    "   - `split()` does not adjust for unequal elements\n",
    "   - **kwargs**: axis = 1 (stack arrays and split by columns)\n",
    "**Searching Array**\n",
    "- `where(expression)`: returns index of matched values\n",
    "- `searchsorted(arr, value)`: returns index of where value should be inserted in order\n",
    "  - **kwargs**: side=right to give index from right (starts from 0)\n",
    "  - can also pass in an array for value, which would return an array of indices\n",
    "**Sorting Arrays**\n",
    "- `sort(arr)`: works on 2d arrays as well (sorts both arrays)\n",
    "**Filtering Arrays**\n",
    "- must use new array of boolean values and pass array into index\n",
    "- `arr[bool arr]`\n",
    "- can also use a for loop with boolean values based on conditions and append to empty array\n",
    "- can also make array out of the result of an array expression `newarr = arr%2 == 0`\n",
    "  - this returns an array of t/f, which can be used to index the original array\n",
    "- Notes\n",
    "  - setting a second arr to 1st arr will make them identical in memory, so make sure to reference a copy not the actual array\n",
    "  - can perform arithmetics between 2 arrays, simple math operations, sin/cos, etc\n",
    "  - Array breakdown\n",
    "    - 5th dim: elements\n",
    "    - 4th dim: vector\n",
    "    - 3rd dim: matrix with vector\n",
    "    - 2nd dim: 1 element (3d array)\n",
    "    - 1st dim: 1 element (4d array)\n",
    "    - etc"
   ]
  },
  {
   "cell_type": "code",
   "execution_count": null,
   "metadata": {},
   "outputs": [],
   "source": [
    "#reshape array\n",
    "import numpy as np\n",
    "\n",
    "\n",
    "\n",
    "myList = list(map(int, input().split()))\n",
    "\n",
    "arr = np.array(myList).reshape(3,3)\n",
    "print(arr)"
   ]
  },
  {
   "cell_type": "markdown",
   "metadata": {},
   "source": [
    "### Day 12 - Debugging"
   ]
  },
  {
   "cell_type": "markdown",
   "metadata": {},
   "source": [
    "#### Notes"
   ]
  },
  {
   "cell_type": "markdown",
   "metadata": {},
   "source": [
    "Debugging (VSCode)\n",
    "- Run and Debug button in side bar\n",
    "  - **Custom JSON file**: if you make JSON file here, set current directory to file directory not root, as this will cause the file to not find your code\n",
    "  - configs to make in file:\n",
    "    - `cwd = ${fileDirname}`: change dir to project dir\n",
    "    - `justMyCode = false\"`: debugs code under the hood of libraries you used as the bug might be here\n",
    "- **Breakpoint**: bookmark for where to debug\n",
    "  - See which command the issue starts at, and place there\n",
    "- **Sidebar View**\n",
    "  - Variables\n",
    "  - Watches: expressions that keep getting evaluated at pause\n",
    "  - Call Stack: records every time a script/function calls a function, starting from top (most current), then moves down to previous steps\n",
    "  - Greyed out = unused var\n",
    "- Debug Console\n",
    "  - can print out vars to see output (check var list in sidebar)\n",
    "- Controle Menu (top)\n",
    "  - use to step over/step into line and hover over var to see output as well\n",
    "  - restart after making changes\n",
    "- **In a Professional Setting**\n",
    "  - Write tests in big project for each function, then debug each function\n",
    "  - aka, break down project and debug right after a test fails\n",
    "\n",
    "**Notes**: make sure you are in the correct folder in the explorer section for the json config to work"
   ]
  },
  {
   "cell_type": "markdown",
   "metadata": {},
   "source": [
    "#### HackerRank"
   ]
  },
  {
   "cell_type": "code",
   "execution_count": null,
   "metadata": {},
   "outputs": [],
   "source": [
    "#debug this code: adds total score of vowels in each word in user input (list)\n",
    "#should score 2x for words with even vowels\n",
    "#'programming is awesome' should = 4, but prints out score of 2\n",
    "#issue is most likely in incrementation, since score should at least be 3\n",
    "#for loop counted 3 vowels in 1st word: passed\n",
    "#but did not add 1 to score, and problem was in the incrementor else clause\n",
    "\n",
    "def is_vowel(letter):\n",
    "    return letter in ['a', 'e', 'i', 'o', 'u', 'y']\n",
    "\n",
    "def score_words(words):                 #input = list of words <-- split str\n",
    "    score = 0                           #score counter (total score of list)\n",
    "    for word in words:                  #loops over words in list\n",
    "        num_vowels = 0                  #vowel counter in words\n",
    "        for letter in word:             #loops over each letter in user word\n",
    "            if is_vowel(letter):        #add 1 point if matches vowel list\n",
    "                num_vowels += 1\n",
    "        if num_vowels % 2 == 0:         #if even num of vowels in the word\n",
    "            score += 2                  #add 2x points\n",
    "        else:\n",
    "            score += 1                     #else assign score to word and move to next word\n",
    "    return score\n",
    "\n",
    "\n",
    "n = int(input())\n",
    "words = input().split()\n",
    "print(score_words(words))"
   ]
  },
  {
   "cell_type": "markdown",
   "metadata": {},
   "source": [
    "### Day 13-14 Pandas"
   ]
  },
  {
   "cell_type": "markdown",
   "metadata": {},
   "source": [
    "#### Notes"
   ]
  },
  {
   "cell_type": "markdown",
   "metadata": {},
   "source": [
    "Pandas\n",
    "- library for working with datasets, analyzing, and making conclusions\n",
    "- clean messy datasets\n",
    "- make data readable and relevant\n",
    "- EDA\n",
    "\n",
    "Data Cleaning\n",
    "- Nulls:\n",
    "  - `dropna()`: drop rows with nulls from dataset (ideal for very large datasets)\n",
    "    - **kwargs:** inplace = change original df, subset= check for nulls in a col\n",
    "  - `fillna()`: replace nulls with a value\n",
    "    - use `df[col].fillna()` to apply to certain column\n",
    "    - can also replace with a function (such as mean) and passing in as variable\n",
    "- Formatting:\n",
    "  - `to_datetime(df[date_col])`\n",
    "- Replace Values\n",
    "  - `loc[row,col]`: fetch by index and set value\n",
    "    - Can replace using conditions with for loop and if\n",
    "    - can use `iloc` if prefer using col index\n",
    "- Duplicates\n",
    "  - `duplicated()`: fetches t/f for each row\n",
    "  - `drop_duplicates(inplace=)`: drops duplicate rows\n",
    "\n",
    "EDA\n",
    "- `corr()`: correlation matrix for columns\n",
    "  \n",
    "Series\n",
    "- `Series(values)`: creates array with customizable index\n",
    "  - **kwargs:**\n",
    "    - list, dict\n",
    "    - index= pass in custom index. can filter keys this way for dict\n",
    "\n",
    "DataFrames\n",
    "- `DataFrame(data)`\n",
    "  - **kwargs:**\n",
    "    - index= use custom index\n",
    "  - `to_string()`: prints entire df\n",
    "  - json can be read in as a dict"
   ]
  },
  {
   "cell_type": "code",
   "execution_count": null,
   "metadata": {},
   "outputs": [],
   "source": [
    "import pandas as pd\n",
    "print(pd.__version__)"
   ]
  },
  {
   "cell_type": "markdown",
   "metadata": {},
   "source": [
    "##### Creating DF"
   ]
  },
  {
   "cell_type": "code",
   "execution_count": null,
   "metadata": {},
   "outputs": [],
   "source": [
    "#from csv\n",
    "df = pd.read_csv(\"Pandasin20Minutes/telco_churn.csv\")"
   ]
  },
  {
   "cell_type": "code",
   "execution_count": null,
   "metadata": {},
   "outputs": [],
   "source": [
    "#from dict\n",
    "tempdict = {'col1':[1,2,3], 'col2':[4,5,6]}\n",
    "dictdf = pd.DataFrame.from_dict(tempdict)"
   ]
  },
  {
   "cell_type": "code",
   "execution_count": null,
   "metadata": {},
   "outputs": [],
   "source": [
    "#check system max rows for any df\n",
    "#can change this\n",
    "print(pd.options.display.max_rows)"
   ]
  },
  {
   "cell_type": "markdown",
   "metadata": {},
   "source": [
    "##### Reading DF"
   ]
  },
  {
   "cell_type": "markdown",
   "metadata": {},
   "source": [
    "###### Show Columns and Data Types"
   ]
  },
  {
   "cell_type": "code",
   "execution_count": null,
   "metadata": {},
   "outputs": [],
   "source": [
    "df.head(10)"
   ]
  },
  {
   "cell_type": "code",
   "execution_count": null,
   "metadata": {},
   "outputs": [],
   "source": [
    "dictdf.head()"
   ]
  },
  {
   "cell_type": "code",
   "execution_count": null,
   "metadata": {},
   "outputs": [],
   "source": [
    "dictdf.tail()"
   ]
  },
  {
   "cell_type": "code",
   "execution_count": null,
   "metadata": {},
   "outputs": [],
   "source": [
    "df.info()"
   ]
  },
  {
   "cell_type": "code",
   "execution_count": null,
   "metadata": {},
   "outputs": [],
   "source": [
    "#all columns\n",
    "df.columns"
   ]
  },
  {
   "cell_type": "code",
   "execution_count": null,
   "metadata": {},
   "outputs": [],
   "source": [
    "#data types\n",
    "df.dtypes"
   ]
  },
  {
   "cell_type": "markdown",
   "metadata": {},
   "source": [
    "###### Summary Statistics"
   ]
  },
  {
   "cell_type": "code",
   "execution_count": null,
   "metadata": {},
   "outputs": [],
   "source": [
    "df.describe()\n",
    "#kwargs:\n",
    "#include= summary on specific datatype"
   ]
  },
  {
   "cell_type": "code",
   "execution_count": null,
   "metadata": {},
   "outputs": [],
   "source": [
    "#unique values in a col\n",
    "df.State.unique()"
   ]
  },
  {
   "cell_type": "code",
   "execution_count": null,
   "metadata": {},
   "outputs": [],
   "source": [
    "df.State\n",
    "#spaced name df['col']\n",
    "#multiple columns df[['col1','col2']]\n"
   ]
  },
  {
   "cell_type": "markdown",
   "metadata": {},
   "source": [
    "###### Filtering"
   ]
  },
  {
   "cell_type": "code",
   "execution_count": null,
   "metadata": {},
   "outputs": [],
   "source": [
    "#row filtering based on value\n",
    "df[(df['International plan']=='No') & (df['Churn']==True)]"
   ]
  },
  {
   "cell_type": "markdown",
   "metadata": {},
   "source": [
    "###### Indexing"
   ]
  },
  {
   "cell_type": "code",
   "execution_count": null,
   "metadata": {},
   "outputs": [],
   "source": [
    "#fetch data with iloc\n",
    "#df.iloc[row,col]\n",
    "#list of rows iloc[[row,row,row]]\n",
    "df.iloc[14] #index 14 = row 15"
   ]
  },
  {
   "cell_type": "code",
   "execution_count": null,
   "metadata": {},
   "outputs": [],
   "source": [
    "#slicing data\n",
    "df.iloc[15:23] #range ends at n-1"
   ]
  },
  {
   "cell_type": "code",
   "execution_count": null,
   "metadata": {},
   "outputs": [],
   "source": [
    "#save a filtered df using loc\n",
    "#first set index on desired filter col\n",
    "state = df.copy()\n",
    "state.set_index('State',inplace=True)\n",
    "#kwargs: inplace = indexes within the df (clustered)\n",
    "#state.head()\n",
    "state.loc['OR']"
   ]
  },
  {
   "cell_type": "code",
   "execution_count": null,
   "metadata": {},
   "outputs": [],
   "source": []
  },
  {
   "cell_type": "markdown",
   "metadata": {},
   "source": [
    "##### Update"
   ]
  },
  {
   "cell_type": "code",
   "execution_count": null,
   "metadata": {},
   "outputs": [],
   "source": [
    "#finding missing values\n",
    "df.isnull().sum()"
   ]
  },
  {
   "cell_type": "code",
   "execution_count": null,
   "metadata": {},
   "outputs": [],
   "source": [
    "#dropping missing values\n",
    "df.dropna(inplace=True)"
   ]
  },
  {
   "cell_type": "code",
   "execution_count": null,
   "metadata": {},
   "outputs": [],
   "source": [
    "#drop a column\n",
    "df.drop('Area code', axis=1)\n",
    "#kwargs: axis= 0row, 1col"
   ]
  },
  {
   "cell_type": "code",
   "execution_count": null,
   "metadata": {},
   "outputs": [],
   "source": [
    "#create calculated column\n",
    "df['New Column'] = df['Total night minutes'] + df['Total intl minutes']\n",
    "df.head()"
   ]
  },
  {
   "cell_type": "code",
   "execution_count": null,
   "metadata": {},
   "outputs": [],
   "source": [
    "#update entire column\n",
    "df['New Column'] = 100\n",
    "df.head()"
   ]
  },
  {
   "cell_type": "code",
   "execution_count": null,
   "metadata": {},
   "outputs": [],
   "source": [
    "#update single value using iloc indexing\n",
    "df.iloc[0,-1] = 10 #first row, last col\n",
    "df.head()"
   ]
  },
  {
   "cell_type": "code",
   "execution_count": null,
   "metadata": {},
   "outputs": [],
   "source": [
    "#updating using condition (lambda expression) aka map\n",
    "df['Churn binary'] = df['Churn'].apply(lambda x: 1 if x==True else 0)\n",
    "df.head()"
   ]
  },
  {
   "cell_type": "markdown",
   "metadata": {},
   "source": [
    "##### Delete/Output DF"
   ]
  },
  {
   "cell_type": "code",
   "execution_count": null,
   "metadata": {},
   "outputs": [],
   "source": [
    "#df.to_csv('output.csv')\n",
    "#df.to_json()\n",
    "#df.to_html()"
   ]
  },
  {
   "cell_type": "code",
   "execution_count": null,
   "metadata": {},
   "outputs": [],
   "source": [
    "#delete df\n",
    "del df"
   ]
  },
  {
   "cell_type": "markdown",
   "metadata": {},
   "source": [
    "#### Exercises"
   ]
  },
  {
   "cell_type": "code",
   "execution_count": null,
   "metadata": {},
   "outputs": [],
   "source": [
    "#make series from list\n",
    "l1 = [1,2,3]\n",
    "s1 = pd.Series(l1)\n",
    "s2 = pd.Series([10,10,10])\n",
    "print(type(s1), type(s2))"
   ]
  },
  {
   "cell_type": "code",
   "execution_count": null,
   "metadata": {},
   "outputs": [],
   "source": [
    "#convert back to list\n",
    "print(type(list(s1)))"
   ]
  },
  {
   "cell_type": "code",
   "execution_count": null,
   "metadata": {},
   "outputs": [],
   "source": [
    "type(s1)"
   ]
  },
  {
   "cell_type": "code",
   "execution_count": null,
   "metadata": {},
   "outputs": [],
   "source": [
    "a = sum(s1,s2)\n",
    "b = s2-s1\n",
    "c = s1*s2\n",
    "d = round(s2/s1, 0)\n",
    "\n",
    "series = (a,b,c,d)\n",
    "df = pd.DataFrame(series, index=[\"sum\", \"difference\", \"product\", \"divide\"])\n",
    "print(df)"
   ]
  },
  {
   "cell_type": "code",
   "execution_count": null,
   "metadata": {},
   "outputs": [],
   "source": [
    "#convert dict to series\n",
    "seriesfromdict = pd.Series({'a': 100, 'b': 200, 'c': 300, 'd': 400, 'e': 800})\n",
    "print(seriesfromdict)"
   ]
  },
  {
   "cell_type": "markdown",
   "metadata": {},
   "source": [
    "# Rapid Foundations - SQL"
   ]
  },
  {
   "cell_type": "markdown",
   "metadata": {},
   "source": [
    "### Day 1-4 - Basic Queries"
   ]
  },
  {
   "cell_type": "markdown",
   "metadata": {},
   "source": [
    "#### Notes"
   ]
  },
  {
   "cell_type": "markdown",
   "metadata": {},
   "source": [
    "SELECT\n",
    "- TOP `N` [PERCENT] (SQL Server)\n",
    "- DISTINCT\n",
    "- **Functions**\n",
    "  - **Aggregation:** Use group by with these\n",
    "    - COUNT()\n",
    "    - AVG()\n",
    "    - SUM()\n",
    "    - MAX/MIN()\n",
    "    - LEN()\n",
    "  - **Splicing:**\n",
    "    - SUBSTRING(str,start,len)\n",
    "    - RIGHT/LEFT(len): fetch substring from right/left\n",
    "\n",
    "FROM\n",
    "\n",
    "WHERE\n",
    "- **Operators:** \n",
    "  - `<>`, `!=`: not equal\n",
    "  - `%`: modulus\n",
    "  - NOT, `!`: can specify any above condition after\n",
    "  - BETWEEN(): within a range\n",
    "  - IN(a,b,c): matches these values\n",
    "    - IN(SELECT): subquery\n",
    "  - OR/AND\n",
    "  - LIKE\n",
    "    - `%`: any number of characters placeholder\n",
    "    - `_`: one character placeholder\n",
    "    - `[]`: one character from list [a,b,c] or range [a-c]\n",
    "      - `[!A-z]`, `[^A-Z]`(SQL Server): character not in list or range\n",
    "\n",
    "GROUP BY: can use expressions, cannot use aliases\n",
    "\n",
    "ORDER BY\n",
    "- ASC/DESC: can use several columns in order, and use both asc/desc for each column\n",
    "- Can also use expressions\n",
    "\n",
    "LIMIT (MySQL)/FETCH `first/last n rows only` (Oracle)"
   ]
  },
  {
   "cell_type": "markdown",
   "metadata": {},
   "source": [
    "#### HackerRank"
   ]
  },
  {
   "cell_type": "markdown",
   "metadata": {},
   "source": [
    "##### Basic Select"
   ]
  },
  {
   "cell_type": "code",
   "execution_count": null,
   "metadata": {},
   "outputs": [],
   "source": [
    "--cities in usa with population > 100000\n",
    "SELECT * FROM CITY WHERE COUNTRYCODE = \"USA\" AND POPULATION > 100000;\n",
    "\n",
    "--time 4 min"
   ]
  },
  {
   "cell_type": "code",
   "execution_count": null,
   "metadata": {},
   "outputs": [],
   "source": [
    "--name of cities in usa with population > 120000\n",
    "SELECT NAME FROM CITY WHERE POPULATION > 120000 AND COUNTRYCODE = 'USA'\n",
    "\n",
    "--time 1 min"
   ]
  },
  {
   "cell_type": "code",
   "execution_count": null,
   "metadata": {},
   "outputs": [],
   "source": [
    "--cities with id 1661\n",
    "SELECT * FROM CITY WHERE ID = 1661;\n",
    "\n",
    "--time 20 sec"
   ]
  },
  {
   "cell_type": "code",
   "execution_count": null,
   "metadata": {},
   "outputs": [],
   "source": [
    "--all records\n",
    "SELECT * FROM CITY;\n",
    "\n",
    "--time 15 sec"
   ]
  },
  {
   "cell_type": "code",
   "execution_count": null,
   "metadata": {},
   "outputs": [],
   "source": [
    "-- Query all attributes of every Japanese city in the CITY table. The COUNTRYCODE for Japan is JPN.\n",
    "SELECT * FROM CITY WHERE COUNTRYCODE = 'JPN';\n",
    "\n",
    "--time 20 sec"
   ]
  },
  {
   "cell_type": "code",
   "execution_count": null,
   "metadata": {},
   "outputs": [],
   "source": [
    "-- Query the names of all the Japanese cities in the CITY table. The COUNTRYCODE for Japan is JPN.\n",
    "SELECT NAME FROM CITY WHERE COUNTRYCODE = 'JPN';\n",
    "\n",
    "--time 25 seconds"
   ]
  },
  {
   "cell_type": "code",
   "execution_count": null,
   "metadata": {},
   "outputs": [],
   "source": [
    "-- count - distinct count\n",
    "SELECT COUNT(CITY) - COUNT(DISTINCT CITY) FROM STATION;\n",
    "\n",
    "--time 9 min"
   ]
  },
  {
   "cell_type": "code",
   "execution_count": null,
   "metadata": {},
   "outputs": [],
   "source": [
    "-- longest and shortest city names\n",
    "-- from tied names, fetch the one that comes first alphabetically\n"
   ]
  },
  {
   "cell_type": "code",
   "execution_count": null,
   "metadata": {},
   "outputs": [],
   "source": [
    "--city name starting with vowels\n",
    "SELECT DISTINCT CITY FROM STATION WHERE CITY LIKE '[a,e,i,o,u]%';"
   ]
  },
  {
   "cell_type": "code",
   "execution_count": null,
   "metadata": {},
   "outputs": [],
   "source": [
    "-- city names ending with vowels\n",
    "SELECT DISTINCT CITY FROM STATION WHERE CITY LIKE '%[a,e,i,o,u]';"
   ]
  },
  {
   "cell_type": "code",
   "execution_count": null,
   "metadata": {},
   "outputs": [],
   "source": [
    "--city not ending with vowels\n",
    "SELECT DISTINCT CITY FROM STATION WHERE CITY NOT LIKE '[a,e,i,o,u]%';"
   ]
  },
  {
   "cell_type": "code",
   "execution_count": null,
   "metadata": {},
   "outputs": [],
   "source": [
    "--city names starting and ending with vowels\n",
    "SELECT DISTINCT CITY FROM STATION WHERE CITY LIKE '%[a,e,i,o,u]' AND CITY LIKE '[a,e,i,o,u]%'"
   ]
  },
  {
   "cell_type": "code",
   "execution_count": null,
   "metadata": {},
   "outputs": [],
   "source": [
    "-- students who scored higher than 75 order by last 3 digits, then by id\n",
    "SELECT Name FROM STUDENTS WHERE Marks > 75 ORDER BY RIGHT(Name,3) ASC, ID ASC"
   ]
  },
  {
   "cell_type": "markdown",
   "metadata": {},
   "source": [
    "### Day 5-7 - Joins"
   ]
  },
  {
   "cell_type": "markdown",
   "metadata": {},
   "source": [
    "#### Notes"
   ]
  },
  {
   "cell_type": "markdown",
   "metadata": {},
   "source": [
    "Joins\n",
    "- **Types**\n",
    "  - `INNER`: only matching records. this is default join\n",
    "  - `FULL OUTER`: all records from both tables including non-matching\n",
    "  - `RIGHT/LEFT`: all records from right/left side and matching/null counterparts from other side\n",
    "    - Use cases: see every instance of an entity regardless whether they have a match in another table\n",
    "  - `CROSS`: cartesian join; also happens when you do not define join conditions\n",
    "  - Self: join a table with itself using a col and 2 aliases for table\n",
    "  - Anti: check where second table's records are null\n",
    "- **Best Practices**\n",
    "  - Include table names when listing columns esp in large queries\n",
    "  - Multiple Databases: use `JOIN` database.table for tables not in current db\n",
    "  - Use `LEFT JOIN` for all columns queried for code readability by positioning those columns on the left to fetch all records\n",
    "\n",
    "Unions\n",
    "- `UNION`: distinct append to table 1 from table 2\n",
    "- `UNION ALL`: general append"
   ]
  },
  {
   "cell_type": "markdown",
   "metadata": {},
   "source": [
    "#### HackerRank"
   ]
  },
  {
   "cell_type": "code",
   "execution_count": null,
   "metadata": {},
   "outputs": [],
   "source": [
    "-- query city population with condition in continent (country table)\n",
    "SELECT \n",
    "    SUM(CITY.POPULATION)\n",
    "FROM CITY \n",
    "    JOIN COUNTRY ON CITY.CountryCode = COUNTRY.Code\n",
    "WHERE CONTINENT = 'Asia'"
   ]
  },
  {
   "cell_type": "code",
   "execution_count": null,
   "metadata": {},
   "outputs": [],
   "source": [
    "-- query african cities\n",
    "SELECT \n",
    "    CITY.NAME\n",
    "FROM CITY \n",
    "    JOIN COUNTRY ON CITY.CountryCode = COUNTRY.Code\n",
    "WHERE CONTINENT = 'Africa'"
   ]
  },
  {
   "cell_type": "code",
   "execution_count": null,
   "metadata": {},
   "outputs": [],
   "source": [
    "-- avg populations of cities in continents\n",
    "SELECT \n",
    "    COUNTRY.Continent,\n",
    "    ROUND(AVG(CITY.Population),0)\n",
    "FROM CITY \n",
    "    JOIN COUNTRY ON CITY.CountryCode = COUNTRY.Code\n",
    "GROUP BY COUNTRY.Continent"
   ]
  },
  {
   "cell_type": "markdown",
   "metadata": {},
   "source": [
    "### Day 8-9 - Advanced SELECT"
   ]
  },
  {
   "cell_type": "markdown",
   "metadata": {},
   "source": [
    "#### Notes"
   ]
  },
  {
   "cell_type": "markdown",
   "metadata": {},
   "source": [
    "**Clauses**\n",
    "- `CASE`: can use as an if-then in SELECT or `ORDER BY` clause to return the first true statement\n",
    "- `ANY/ALL`: validation t/f to check if any/all records match criteria\n",
    "- `HAVING`: comes after group by, used for filtering aggregate columns since you cannot use aggregate in `WHERE`\n",
    "**Concatenate**\n",
    "- SQL Server: `col1 + col2`\n",
    "- MySQL: `CONCAT(col1, col2, col ...)`\n",
    "**Regexp (Advanced LIKE)**: Used in MySQL where you cannot use brackets from previous lesson\n",
    "- `WHERE col1 REGEXP`: These allow for advanced pattern matching\n",
    "- `^`: beginning of string\n",
    "- `$`: end of string\n",
    "- `|`: or \n",
    "- `[]`: can hold characters (abcd) or range (a-f)\n",
    "\n",
    "**Missing Values**\n",
    "- `NULL`: used to fetch or filter based on missing values\n",
    "  - Useful for anti joins\n",
    "\n",
    "**Offsetting Records**\n",
    "- `LIMIT n1, n2`: Skip n1 rows, then fetch n2 rows"
   ]
  },
  {
   "cell_type": "code",
   "execution_count": null,
   "metadata": {},
   "outputs": [],
   "source": [
    "-- classify triangle based on its side lengths\n",
    "SELECT\n",
    "    CASE\n",
    "        WHEN A + B <= C OR A + C <= B OR C + B <= A  THEN \"Not A Triangle\"    --if any 2 sides do not add up to 3rd side\n",
    "        WHEN A = B AND B = C THEN \"Equilateral\"                               -- all 3 match\n",
    "        WHEN A = B OR B = C OR C = A THEN \"Isosceles\"                         -- 2 sides match\n",
    "        ELSE \"Scalene\"                                                        -- no sides match\n",
    "    END\n",
    "FROM TRIANGLES"
   ]
  },
  {
   "cell_type": "markdown",
   "metadata": {},
   "source": [
    "### Day 10-11"
   ]
  },
  {
   "cell_type": "markdown",
   "metadata": {},
   "source": [
    "**Aggregation**: need to be used with group by, and can use expressions here.\n",
    "- `MIN/MAX/COUNT/SUM/AVG() [OVER (PARTITION BY )]`:\n",
    "  - can be used with `DISTINCT` in the clause to only count unique values\n",
    "  - `COUNT()` using wildcard will include columns with null values, count by specific col to avoid this\n",
    "  - These can be used in subqueries for comparisons\n",
    "- `ROUND(val, decimal)`\n",
    "- `FLOOR()/CEILING()`: rounds down/up to whole int \n",
    "- `ABS()`: gives abs vaL\n",
    "\n",
    "**Notes**:\n",
    "- `ROUND()`: rounds number, but may not trim ending zeroes.\n",
    "  - In this case, use `CAST(val AS DECIMAL(len, precision))`\n",
    "- `PERCENTILE_DISC(%ile) WITHIN GROUP (ORDER BY col) OVER()`: calculates percentile of discrete values\n",
    "  - Can be used to find median\n",
    "  - SQL SERVER\n",
    "  - This results the median x n records, so use `DISTINCT` keyword"
   ]
  },
  {
   "cell_type": "code",
   "execution_count": null,
   "metadata": {},
   "outputs": [],
   "source": [
    "-- sum\n",
    "SELECT SUM(POPULATION) FROM CITY WHERE DISTRICT = \"California\""
   ]
  },
  {
   "cell_type": "code",
   "execution_count": null,
   "metadata": {},
   "outputs": [],
   "source": [
    "--avg\n",
    "SELECT AVG(POPULATION) FROM CITY WHERE DISTRICT = \"California\""
   ]
  },
  {
   "cell_type": "code",
   "execution_count": null,
   "metadata": {},
   "outputs": [],
   "source": [
    "--count\n",
    "SELECT COUNT(*) FROM CITY WHERE POPULATION > 100000"
   ]
  },
  {
   "cell_type": "code",
   "execution_count": null,
   "metadata": {},
   "outputs": [],
   "source": [
    "--floor (round down)\n",
    "SELECT FLOOR(AVG(POPULATION)) FROM CITY"
   ]
  },
  {
   "cell_type": "code",
   "execution_count": null,
   "metadata": {},
   "outputs": [],
   "source": [
    "--sum 2\n",
    "SELECT SUM(POPULATION) FROM CITY WHERE COUNTRYCODE = \"JPN\""
   ]
  },
  {
   "cell_type": "code",
   "execution_count": null,
   "metadata": {},
   "outputs": [],
   "source": [
    "--difference (max - min)\n",
    "SELECT MAX(POPULATION) - MIN(POPULATION) FROM CITY"
   ]
  },
  {
   "cell_type": "code",
   "execution_count": null,
   "metadata": {},
   "outputs": [],
   "source": [
    "-- top earners\n",
    "SELECT TOP 1\n",
    "    salary*months,\n",
    "    COUNT(*)\n",
    "FROM Employee\n",
    "GROUP BY salary*months\n",
    "ORDER BY salary*months DESC"
   ]
  },
  {
   "cell_type": "code",
   "execution_count": null,
   "metadata": {},
   "outputs": [],
   "source": [
    "-- manhattan distance\n",
    "-- |A-C| + |B-D|\n",
    "WITH temp as \n",
    "(\n",
    "   SELECT\n",
    "    ABS(MIN(LAT_N) - MAX(LAT_N)) as p1,\n",
    "    ABS(MIN(LONG_W) - MAX(LONG_W)) as p2\n",
    "   FROM STATION\n",
    ")\n",
    "\n",
    "SELECT CAST(p1 + p2 AS DECIMAL(18,4)) FROM temp"
   ]
  },
  {
   "cell_type": "code",
   "execution_count": null,
   "metadata": {},
   "outputs": [],
   "source": [
    "-- find median\n",
    "-- max top half + min bottom half / 2 aka 50th percentile\n",
    "-- 144 + 25\n",
    "\n",
    "SELECT DISTINCT\n",
    "    CAST(PERCENTILE_DISC (.5) WITHIN GROUP (order by lat_n) OVER() AS DECIMAL(18,4))\n",
    "FROM STATION\n",
    "\n"
   ]
  },
  {
   "cell_type": "markdown",
   "metadata": {},
   "source": [
    "### Day 12-14"
   ]
  },
  {
   "cell_type": "markdown",
   "metadata": {
    "vscode": {
     "languageId": "sql"
    }
   },
   "source": [
    "#### Notes"
   ]
  },
  {
   "cell_type": "markdown",
   "metadata": {},
   "source": [
    "**Bitwise Operators**\n",
    "- `&, |, ^`: and, or, exclusive or (exclusive to following chars)\n",
    "\n",
    "**Cast**\n",
    "- `CAST(val as type)`: changes data type\n",
    "  - date, d/t, decimal, time, char, nchar, signed, unsigned, binary\n",
    "  - `CONVERT(type, val, [style])` also can be used in Microsoft\n",
    "**Notes**:\n",
    "- When doing self joins, you can use comparison operator in WHERE clause\n",
    "  - Leave JOIN and ON for equalities, and comparing 2 subsets in WHERE"
   ]
  },
  {
   "cell_type": "code",
   "execution_count": null,
   "metadata": {},
   "outputs": [],
   "source": [
    "Select \n",
    "    S.Name\n",
    "FROM  Students S JOIN Friends F ON S.ID = F.ID\n",
    "       JOIN Packages offer ON S.ID=offer.ID\n",
    "       JOIN Packages friend_offer ON F.Friend_ID=friend_offer.ID\n",
    "WHERE friend_offer.Salary > offer.Salary\n",
    "ORDER BY friend_offer.Salary;"
   ]
  },
  {
   "cell_type": "code",
   "execution_count": null,
   "metadata": {},
   "outputs": [],
   "source": [
    "--use advanced select aka no joins, make joins using = operator in where clause\n",
    "select \n",
    "    c.company_code, \n",
    "    c.founder, \n",
    "    count(distinct l.lead_manager_code), \n",
    "    count(distinct s.senior_manager_code), \n",
    "    count(distinct m.manager_code),\n",
    "    count(distinct e.employee_code) \n",
    "from \n",
    "    Company c, \n",
    "    Lead_Manager l,\n",
    "    Senior_Manager s, \n",
    "    Manager m, \n",
    "    Employee e \n",
    "where \n",
    "    c.company_code = l.company_code \n",
    "    and l.lead_manager_code=s.lead_manager_code \n",
    "    and s.senior_manager_code=m.senior_manager_code \n",
    "    and m.manager_code=e.manager_code \n",
    "group by c.company_code, c.founder \n",
    "order by c.company_code"
   ]
  },
  {
   "cell_type": "markdown",
   "metadata": {},
   "source": [
    "### Medium"
   ]
  },
  {
   "cell_type": "code",
   "execution_count": null,
   "metadata": {},
   "outputs": [],
   "source": []
  },
  {
   "cell_type": "markdown",
   "metadata": {},
   "source": [
    "#### Notes"
   ]
  },
  {
   "cell_type": "markdown",
   "metadata": {},
   "source": [
    "**Pivoting Rows to Columns**:\n",
    "- Can use CTE's for enumerated rows for each column that matches its criteria, then join columns using LEFT JOIN (largest one first) on row number\n",
    "\n",
    "**Conditional Joins**\n",
    "- If a second table contains bins for a column in the first table, you can join `ON` table `BETWEEN` both columns, or set `<>` operators\n",
    "\n",
    "**Rounding in SQL Server**\n",
    "- `CAST` works better than `ROUND` and is more reliable to not see trailing values\n",
    "- `SQRT` takes in 1 arg so better to do your operation in CTE then square root that value"
   ]
  },
  {
   "cell_type": "code",
   "execution_count": null,
   "metadata": {},
   "outputs": [],
   "source": [
    "-- The PADS\n",
    "-- two SELECT queries, concat strings, group/order by\n",
    "\n",
    "SELECT \n",
    "    CONCAT(Name, \"(\", LEFT(Occupation, 1), \")\")\n",
    "FROM OCCUPATIONS\n",
    "ORDER BY Name\n",
    "\n",
    "SELECT\n",
    "    CONCAT(\"There are a total of \", COUNT(*), \" \", LOWER(Occupation), \"s.\")\n",
    "FROM OCCUPATIONS\n",
    "GROUP BY Occupation\n",
    "ORDER BY COUNT(*), Occupation\n",
    "\n",
    "-- time 16 min"
   ]
  },
  {
   "cell_type": "code",
   "execution_count": null,
   "metadata": {},
   "outputs": [],
   "source": [
    "-- find column with highest name count for left join\n",
    "-- SELECT Occupation, COUNT(*) FROM OCCUPATIONS GROUP BY Occupation\n",
    "-- professor has 7, this goes first in left join order to return 7 rows\n",
    "-- use row number to find highest count\n",
    "\n",
    "\n",
    "WITH Doctors AS (SELECT Name, ROW_NUMBER() OVER (ORDER BY Name) AS rn FROM OCCUPATIONS WHERE Occupation = \"Doctor\"),\n",
    "    Professors AS (SELECT Name, ROW_NUMBER() OVER (ORDER BY Name) AS rn FROM OCCUPATIONS WHERE Occupation = \"Professor\"),\n",
    "    Singers AS (SELECT Name, ROW_NUMBER() OVER (ORDER BY Name) AS rn FROM OCCUPATIONS WHERE Occupation = \"Singer\"),\n",
    "    Actor AS (SELECT Name, ROW_NUMBER() OVER (ORDER BY Name) AS rn FROM OCCUPATIONS WHERE Occupation = \"Actor\")\n",
    "    \n",
    "SELECT\n",
    "    d.Name,\n",
    "    p.Name,\n",
    "    s.Name,\n",
    "    a.Name\n",
    "FROM Professors p\n",
    "    LEFT JOIN Doctors d ON d.rn = p.rn\n",
    "    LEFT JOIN Singers s ON s.rn = p.rn\n",
    "    LEFT JOIN Actor a ON a.rn = p.rn \n",
    "\n",
    "-- time 36 min"
   ]
  },
  {
   "cell_type": "code",
   "execution_count": null,
   "metadata": {},
   "outputs": [],
   "source": [
    "-- fetch students with grade >= 8, aka mark >= 80\n",
    "-- order by grade\n",
    "-- then by name, marks\n",
    "-- case statement\n",
    "-- join using between for comparison with 2 columns\n",
    "SELECT\n",
    "    CASE WHEN g.Grade >= 8 THEN s.Name ELSE NULL END AS Name,\n",
    "    g.Grade AS Grade,\n",
    "    s.Marks as Mark\n",
    "FROM Students s \n",
    "    JOIN Grades g ON s.Marks BETWEEN g.Min_Mark AND g.Max_Mark\n",
    "ORDER BY \n",
    "    g.Grade DESC, \n",
    "    s.Name ASC,\n",
    "    s.Marks ASC\n",
    "\n",
    "-- time 46 min"
   ]
  },
  {
   "cell_type": "code",
   "execution_count": null,
   "metadata": {},
   "outputs": [],
   "source": [
    "-- weather station 19\n",
    "-- cast as decimal, square root, cte, power\n",
    "-- use cte to do formula then final select clause for formatting\n",
    "\n",
    "WITH t1 as (\n",
    "SELECT POWER(MIN(LAT_N) - MAX(LAT_N),2) + POWER(MIN(LONG_W) - MAX(LONG_W),2) as difference\n",
    "FROM STATION\n",
    ")\n",
    "\n",
    "SELECT CAST(SQRT(difference) AS DECIMAL(10,4))\n",
    "FROM t1\n",
    "\n",
    "-- time 23 min"
   ]
  },
  {
   "cell_type": "code",
   "execution_count": null,
   "metadata": {},
   "outputs": [],
   "source": [
    "-- top competitors\n",
    "-- lots of joins\n",
    "-- using aggregation in having and order by\n",
    "SELECT\n",
    "    h.hacker_id, name\n",
    "FROM Submissions s\n",
    "    JOIN Challenges c ON s.challenge_id = c.challenge_id    -- to join submissions w difficulty lvl\n",
    "    JOIN Difficulty d ON d.difficulty_level = c.difficulty_level\n",
    "    JOIN Hackers h ON h.hacker_id = s.hacker_id\n",
    "WHERE s.score = d.score\n",
    "GROUP BY h.hacker_id, name\n",
    "HAVING COUNT(*) > 1\n",
    "ORDER BY COUNT(*) DESC, h.hacker_id ASC"
   ]
  },
  {
   "cell_type": "code",
   "execution_count": null,
   "metadata": {},
   "outputs": [],
   "source": [
    "-- print prime numbers\n",
    "-- uses CTEs and correlated subqueries (referencing outer tables in subquery)\n",
    "\n",
    "-- numbers 2-1000 from db table\n",
    "WITH t1 AS\n",
    "(\n",
    "    SELECT number \n",
    "    FROM master.dbo.spt_values \n",
    "    WHERE number BETWEEN 2 AND 1000 \n",
    "        AND type = \"P\"\n",
    "),\n",
    "\n",
    "-- new set of numbers, sqrt of numbers\n",
    "t2 AS \n",
    "(\n",
    "    SELECT \n",
    "        number, \n",
    "        CAST(SQRT(number) AS INTEGER) AS root\n",
    "    FROM numbers\n",
    ")\n",
    "\n",
    "-- int --> chars to concat with & in a string\n",
    "SELECT STRING_AGG(CAST(number AS VARCHAR(5)), '&')\n",
    "FROM t2\n",
    "WHERE NOT EXISTS (\n",
    "    SELECT 'true'\n",
    "    FROM t1\n",
    "    -- shortcut: check for divisibility in range 2 - sqrt(number)\n",
    "    WHERE number <= root AND t2.number % t1.number = 0\n",
    ")"
   ]
  },
  {
   "cell_type": "markdown",
   "metadata": {},
   "source": [
    "### LeetCode Hard"
   ]
  },
  {
   "cell_type": "code",
   "execution_count": null,
   "metadata": {},
   "outputs": [],
   "source": []
  },
  {
   "cell_type": "markdown",
   "metadata": {},
   "source": [
    "# 1 Month Prep - Python"
   ]
  },
  {
   "cell_type": "markdown",
   "metadata": {},
   "source": [
    "### Week 1"
   ]
  },
  {
   "cell_type": "markdown",
   "metadata": {},
   "source": [
    "Notes:\n",
    "- Counter(list): returns a dict of element and its count\n",
    "  - Access counts using list[element]\n",
    "- XOR `^`: for each unique element records 1 and a recurring element stores 0\n",
    "  - Useful for finding unique and duplicate elements by seeing their corresponding xor value\n",
    "- For i in range(len(list)): this is used to make i the index of the list\n",
    "- **Sliding Window**: For solving subarray problems\n",
    "  - Compute operation on first subset\n",
    "  - For loop: \n",
    "    - Compute every subsequent subsets by subtracting i that left\n",
    "    - add i that entered in for loop\n",
    "- **Nested Loops**\n",
    "  - Make sure that final `return` is in outer loop, or else it will return wrong value"
   ]
  },
  {
   "cell_type": "code",
   "execution_count": null,
   "metadata": {},
   "outputs": [],
   "source": [
    "#plus minus concise code\n",
    "def plusMinus(arr):\n",
    "    # for denominator\n",
    "    total = len(arr)\n",
    "    \n",
    "    # list comprehensions: add 1 to new list for every number which meets condition in arr\n",
    "    pos = sum(1 for num in arr if num > 0)\n",
    "    neg = sum(1 for num in arr if num < 0)\n",
    "    zero = sum(1 for num in arr if num == 0)\n",
    "    \n",
    "    # f string for 6 decimal place format\n",
    "    print(f\"{pos/total:.6f}\")\n",
    "    print(f\"{neg/total:.6f}\")\n",
    "    print(f\"{zero/total:.6f}\")"
   ]
  },
  {
   "cell_type": "code",
   "execution_count": null,
   "metadata": {},
   "outputs": [],
   "source": [
    "# mini max sum\n",
    "def miniMaxSum(arr):\n",
    "    print(sum(arr)-max(arr), sum(arr)-min(arr))\n",
    "    \n",
    "#largest total of 4 numbers is total sum - smallest number, and vice versa\n",
    "#time 15 min"
   ]
  },
  {
   "cell_type": "code",
   "execution_count": null,
   "metadata": {},
   "outputs": [],
   "source": [
    "def timeConversion(s):\n",
    "    if s[8:] == \"AM\":\n",
    "        if s[:2] == \"12\":\n",
    "            return \"00\"+s[2:-2]\n",
    "        else:\n",
    "            return s[:-2]\n",
    "    else:\n",
    "        h = int(s[:2])\n",
    "        if h<12:\n",
    "            h+=12\n",
    "        return str(h)+s[2:-2]\n",
    "        \n",
    "# first block deals with AM: convert 12 am to 00\n",
    "# second block deals with PM:\n",
    "# convert hr to int and add 12 and concat back as str"
   ]
  },
  {
   "cell_type": "code",
   "execution_count": null,
   "metadata": {},
   "outputs": [],
   "source": [
    "#leap year function\n",
    "def is_leap(year):\n",
    "    leap = False\n",
    "    \n",
    "    if year % 4 == 0:               #if year div/4\n",
    "        if year % 100 == 0:         #and if year div/100\n",
    "            if year % 400 == 0:     #and if year div/400\n",
    "                leap = True\n",
    "            else:\n",
    "                leap = False\n",
    "        else:                       #if year div/4 and year ! div/100\n",
    "            leap = True\n",
    "    \n",
    "    \n",
    "    return leap\n",
    "\n",
    "#time 9 min"
   ]
  },
  {
   "cell_type": "code",
   "execution_count": null,
   "metadata": {},
   "outputs": [],
   "source": [
    "def is_leap(year):\n",
    "    leap = False\n",
    "    \n",
    "    if year % 4 == 0:\n",
    "        if year % 100 == 0:\n",
    "            if year % 400 == 0:\n",
    "                leap = True\n",
    "            else:\n",
    "                leap = False\n",
    "        else:\n",
    "            leap = True\n",
    "    \n",
    "    \n",
    "    return leap"
   ]
  },
  {
   "cell_type": "code",
   "execution_count": null,
   "metadata": {},
   "outputs": [],
   "source": [
    "#takes in str list and query list\n",
    "from collections import Counter\n",
    "def matchingStrings(strings, queries):\n",
    "    stringdict = Counter(strings)  # dict {str:count} where str is key. remember, dict[key] --> value\n",
    "    \n",
    "    result = []\n",
    "    for query in queries:\n",
    "        result.append(stringdict[query])   #for each query in query list, fetch count by passing in query as key of stringdict\n",
    "        \n",
    "    return result"
   ]
  },
  {
   "cell_type": "code",
   "execution_count": null,
   "metadata": {},
   "outputs": [],
   "source": [
    "#lonely integer: find unique element in list\n",
    "#inputs: array of ints\n",
    "\n",
    "#xor operation ^ records a 1 for every unique user input, and 0 for a duplicate input\n",
    "#xor all elements and append results\n",
    "#loop xor over user array and append results to result var\n",
    "#how this works: every integer is added\n",
    "\n",
    "def lonelyinteger(a):\n",
    "    result = 0\n",
    "    for num in a:\n",
    "        result ^= num\n",
    "    return result"
   ]
  },
  {
   "cell_type": "code",
   "execution_count": null,
   "metadata": {},
   "outputs": [],
   "source": [
    "# n = 32 bit unsigned int (long int)\n",
    "# return unsigned decimal int\n",
    "# negation operator flips bits, and 0->-1, -1-> -2\n",
    "# max value is 2^32\n",
    "def flippingBits(n):\n",
    "    return 2**32 + ~n\n",
    "\n",
    "#bitwise operation"
   ]
  },
  {
   "cell_type": "code",
   "execution_count": null,
   "metadata": {},
   "outputs": [],
   "source": [
    "# find abs diagonal difference of both sums\n",
    "# n = list size\n",
    "# left diag starts at [row,col] = 0,0 and adds 1 to both indices, fetches and adds that number (i= 0-->1-->2)\n",
    "# right diag starts at [row,col] = 0,0 and adds 1 to row, [listsize - 1 - current index], fetches and adds that number (i= 2-->1-->0)\n",
    "def diagonalDifference(arr):\n",
    "    leftdiagonal = rightdiagonal = 0\n",
    "    for i in range(n):\n",
    "        leftdiagonal += arr[i][i]\n",
    "        rightdiagonal += arr[i][n-1-i]\n",
    "    return abs(leftdiagonal - rightdiagonal)"
   ]
  },
  {
   "cell_type": "code",
   "execution_count": null,
   "metadata": {},
   "outputs": [],
   "source": [
    "# input is n (arr size) and array of ints\n",
    "# make a frequency array for elements in list to sort them using improved time complexity vs quicksort\n",
    "def countingSort(arr):\n",
    "    result = [0] * 100  #init counting list for 100 numbers\n",
    "    \n",
    "    for i in arr:\n",
    "        result[i] += 1  #increment count for all elements using index\n",
    "    \n",
    "    return result"
   ]
  },
  {
   "cell_type": "code",
   "execution_count": null,
   "metadata": {},
   "outputs": [],
   "source": [
    "def pangrams(s):\n",
    "    mySet = set(s.lower()) - set(' ')     #store only unique letters and remove spaces\n",
    "    \n",
    "    if len(mySet) == 26:                    #26 = all alphabets, else 1 is missing\n",
    "        return \"pangram\"\n",
    "    else:\n",
    "        return \"not pangram\""
   ]
  },
  {
   "cell_type": "code",
   "execution_count": null,
   "metadata": {},
   "outputs": [],
   "source": [
    "# permuting 2 arrays: find permutations of 2 arrays (A,B) of size q which sum up to k\n",
    "# input 1: q (int) --> number of array pairs\n",
    "# foreach array pair:\n",
    "# input 2: n (size of arrays) and k (sum >= this int)\n",
    "# input 3: arr1\n",
    "# input 4: arr 2\n",
    "\n",
    "#general working algo: one array has to be reversed for the condition to be met at least once\n",
    "def twoArrays(k, A, B):\n",
    "    A.sort()\n",
    "    B.sort(reverse=True)\n",
    "    \n",
    "    for i in range(len(A)):     #both same length so can use either arr to set loop count\n",
    "        if A[i] + B[i] < k:     #this is exception\n",
    "            return \"NO\"\n",
    "    \n",
    "    return \"YES\"                #this is normal condition\n"
   ]
  },
  {
   "cell_type": "code",
   "execution_count": null,
   "metadata": {},
   "outputs": [],
   "source": [
    "# subarray div 1: match chocolate integer segment to month and day\n",
    "# s = numbers in array\n",
    "# d = bday\n",
    "#m = birth month\n",
    "# goal: find subarrays whose length = m, sum = bday\n",
    "\n",
    "def birthday(s, d, m):\n",
    "    count = 0                       #init counter of arrays\n",
    "    total = sum(s[:m])              #total of first subset (of len(m))\n",
    "    \n",
    "    if total == d:  \n",
    "        count+=1                    #count if sum of 1st subset = bday\n",
    "    \n",
    "    for i in range(m, len(s)):      #sliding window using index, to validate subsequent subsets\n",
    "        total += s[i]               #add each element to total using index\n",
    "        total -= s[i-m]             #subtract last element\n",
    "        if total == d:\n",
    "            count+= 1               #count if sum of subset = bday\n",
    "    return count\n",
    "\n"
   ]
  },
  {
   "cell_type": "code",
   "execution_count": null,
   "metadata": {},
   "outputs": [],
   "source": [
    "#xor strings 2\n",
    "#xor: records unique items from list 2 which do not appear in list 1 by denoting with 1 in new list\n",
    "def strings_xor(s, t):\n",
    "    res = \"\"\n",
    "    for i in range(len(s)):\n",
    "        if s[i] == t[i]:\n",
    "            res += '0'  #== does not do anything, += appends\n",
    "        else:\n",
    "            res += '1'\n",
    "\n",
    "    return res\n",
    "\n",
    "strings_xor('10101','00101')\n"
   ]
  },
  {
   "cell_type": "code",
   "execution_count": null,
   "metadata": {},
   "outputs": [],
   "source": [
    "# mock test problem 2\n",
    "# store len of matrix\n",
    "# init sum variable\n",
    "# visualize matrix as mirror value subsets: a = corners, b = top/bottom middle, c = left/right middle, d = inner square\n",
    "\n",
    "# for loop 1 (row loop): go thru half rows using index (range is half of length of matrix): make sure floor division for int\n",
    "# for loop 2 (col loop): go thru half cols using index (range is half of length of matrix): make sure floor division for int\n",
    "# this leaves you with length = 4 (len of mirror value subsets)\n",
    "\n",
    "# run inner loop thru each mirror value set and fetch max value of each 4 number subset\n",
    "# remember, length is 4, and row/col counters start at 0\n",
    "\n",
    "#return max value in outer loop block\n"
   ]
  },
  {
   "cell_type": "markdown",
   "metadata": {},
   "source": [
    "### Week 2"
   ]
  },
  {
   "cell_type": "markdown",
   "metadata": {},
   "source": [
    "**Char Positions**\n",
    "   - `ord()`: returns unicode value of character\n",
    "   - `chr()`: returns character of unicode value\n",
    "   - Uppercase starts from 65\n",
    "   - Lowercase starts from 97\n",
    "  \n",
    "**Modulo**\n",
    "   - Modulo `%` operator returns remainder of operation\n",
    "     - If dividend is less than divisor, it will return dividend\n",
    "     - `3 % 10` will return 3\n",
    "\n",
    "**Other**\n",
    "- Var _ is used in a for loop to indicate that the counter is not relevant, aka loop variable os not needed as ur not doing transformations on every item."
   ]
  },
  {
   "cell_type": "code",
   "execution_count": null,
   "metadata": {},
   "outputs": [],
   "source": [
    "#uses list count and floor division\n",
    "def sockMerchant(n, ar):\n",
    "    mySet = set(ar)     #leave distinct values\n",
    "    \n",
    "    pairs = [ar.count(i)//2 for i in mySet]  #each pair of 2 counts as 1 pair, 1 sock returns 0\n",
    "    \n",
    "    return sum(pairs)"
   ]
  },
  {
   "cell_type": "code",
   "execution_count": null,
   "metadata": {},
   "outputs": [],
   "source": [
    "#debug this functionw which returns smallest zigzag array permutation (pyramid)\n",
    "\n",
    "def findZigZagSequence(a, n):\n",
    "    a.sort()\n",
    "    mid = int(n//2)\n",
    "    a[mid], a[n-1] = a[n-1], a[mid]\n",
    "    print(a)\n",
    "\n",
    "    st = mid + 1  #starts at 5\n",
    "    ed = n - 2 #should swap second element now (6)\n",
    "    while(st <= ed):\n",
    "        a[st], a[ed] = a[ed], a[st] #swaps 5 and 6\n",
    "        st = st + 1\n",
    "        ed = ed - 1\n",
    "\n",
    "    for i in range (n):\n",
    "        if i == n-1:\n",
    "            print(a[i])\n",
    "        else:\n",
    "            print(a[i], end = ' ')\n",
    "    return\n",
    "\n",
    "test_cases = 1\n",
    "for cs in range (test_cases):\n",
    "    n = 7\n",
    "    a = [1,2,3,4,5,6,7]\n",
    "    findZigZagSequence(a, n)"
   ]
  },
  {
   "cell_type": "code",
   "execution_count": null,
   "metadata": {},
   "outputs": [],
   "source": [
    "def pageCount(n, p):\n",
    "    front = p//2        # 2 pages per view\n",
    "    \n",
    "    if n % 2 == 1:      # if even, just reverse and no need to flip page\n",
    "        back = (n-p)//2\n",
    "    else:               # if odd, you need to flip the page as its on the right side\n",
    "        back = (n-p+1)//2\n",
    "        \n",
    "    return min(front, back)\n",
    "\n",
    "#drawing book\n",
    "        "
   ]
  },
  {
   "cell_type": "code",
   "execution_count": null,
   "metadata": {},
   "outputs": [],
   "source": [
    "\n",
    "def towerBreakers(n, m):\n",
    "    if n % 2 == 0 or m == 1:    #p2 wins if theres an even # of towers, or height is at 1 (p1 got no moves)\n",
    "        return 2\n",
    "    return 1\n",
    "        \n",
    "#tower breakers"
   ]
  },
  {
   "cell_type": "code",
   "execution_count": null,
   "metadata": {},
   "outputs": [],
   "source": [
    "#caesar cipher\n",
    "\n",
    "def caesarCipher(s, k):\n",
    "    encrypted = \"\"   # empty string\n",
    "    \n",
    "    for i in range(len(s)):\n",
    "        letter = s[i]       # tokenize letters of string\n",
    "        \n",
    "        # see if each letter is upper or lowercase\n",
    "        # subtracting start of ascii and adding back to remainder takes care of edge values\n",
    "        # % 26 will always return k-65 unless its 26 or > 26, where it will give remainder\n",
    "        if letter.isupper():\n",
    "            encrypted += chr((ord(letter) + k-65) % 26 + 65)\n",
    "                \n",
    "        elif letter.islower():\n",
    "            encrypted += chr((ord(letter) + k-97) % 26 + 97)\n",
    "        \n",
    "        else:\n",
    "            encrypted += letter\n",
    "            \n",
    "    return encrypted\n",
    "\n",
    "caesarCipher(\"Yasin\", 1)\n",
    "    \n"
   ]
  },
  {
   "cell_type": "code",
   "execution_count": null,
   "metadata": {},
   "outputs": [],
   "source": [
    "#maxmin: find minimum unfairness\n",
    "#1 find all combinations of arr with length k\n",
    "\n",
    "def maxMin(k, arr):\n",
    "    \n",
    "    arr.sort()                #sort in asc order\n",
    "    min_diff = sys.maxsize    #max int from list\n",
    "\n",
    "    for i in range(n-k+1):    #range: ints - subset size + 1 (to not go above limit)\n",
    "        min_diff = min(min_diff, arr[i+k-1] - arr[i])    #find min of (max, traversed int - previous int)\n",
    "\n",
    "   return min_diff"
   ]
  },
  {
   "cell_type": "code",
   "execution_count": null,
   "metadata": {},
   "outputs": [],
   "source": [
    "# dynamic array\n",
    "# input 1: n (size) and q (#queries)\n",
    "# input 2: user input queries\n",
    "\n",
    "def dynamicArray(n, queries):\n",
    "    #array of empty arrays\n",
    "    arr = [[] for _ in range(n)]\n",
    "    lastAnswer = 0\n",
    "    answers = []\n",
    "    \n",
    "    for q, x, y in queries:\n",
    "        if q == 1:\n",
    "            idx = ((x ^ lastAnswer) % n)\n",
    "            arr[idx].append(y)\n",
    "        else:\n",
    "            idx = ((x ^ lastAnswer) % n)\n",
    "            lastAnswer = arr[idx][y % len(arr[idx])]\n",
    "            answers.append(lastAnswer)\n",
    "        \n",
    "    return answers"
   ]
  },
  {
   "cell_type": "code",
   "execution_count": null,
   "metadata": {},
   "outputs": [],
   "source": [
    "# sherlock and array\n",
    "# sum of arr[:i] = sum of arr[i:]\n",
    "# if an index like that exists, returns yes\n",
    "# steps:\n",
    "#  1. right subset = sum of array\n",
    "#  2. left subset = 0\n",
    "#  3. for each iteration thru arr, subtract elements from sum (right), check condition, then add to left (0)\n",
    "\n",
    "def balancedSums(arr):\n",
    "    right = sum(arr)\n",
    "    left = 0\n",
    "\n",
    "    for num in arr:\n",
    "        right -= num\n",
    "        if left == right:\n",
    "            return \"YES\"\n",
    "        left += num\n",
    "    return \"NO\"\n",
    "\n",
    "balancedSums([1,2,3,3])\n",
    "\n",
    "\n",
    "#logic: for traversing thru array to check each index for condition, you start with sum in right --> decrement and 0 in left --> increment\n",
    "# if there is a match in values it will return yes"
   ]
  },
  {
   "cell_type": "code",
   "execution_count": null,
   "metadata": {},
   "outputs": [],
   "source": [
    "# logic:\n",
    "\n",
    "# initialize an empty dict which will check columns for condition\n",
    "# traverse through each string using i counter and sort their alphabets --> store each in var(sorted_str)\n",
    "# traverse through each letter in the string using j index counter --> store each letter in var(item)\n",
    "# append new letters to the dict if their keys do not exist\n",
    "# if the item is less than the existing item in dict, then return no (since now we know its not ordered)\n",
    "# else append new item\n",
    "\n",
    "def gridChallenge(grid):\n",
    "    dic = {}\n",
    "    \n",
    "    for i in range(len(grid)):\n",
    "        sorted_str = sorted(grid[i])\n",
    "        \n",
    "        for j in range(len(sorted_str)):\n",
    "            item = sorted_str[j]\n",
    "            \n",
    "            if j not in dic:\n",
    "                dic[j] = item\n",
    "            else:\n",
    "                if item < dic[j]:\n",
    "                    return \"NO\"\n",
    "                else:\n",
    "                    dic[j] = item\n",
    "    return \"YES\"\n"
   ]
  },
  {
   "cell_type": "code",
   "execution_count": null,
   "metadata": {},
   "outputs": [],
   "source": [
    "# super digit\n",
    "# logic\n",
    "# input = string\n",
    "# initialize function (to repeat later), convert each element in string to int --> increment sum var\n",
    "# convert sum back to str to perform len() function\n",
    "# single digit = answer\n",
    "# > 1 digit = repeat helper function (to int --> sum numbers --> to str --> check length --> ...)\n",
    "# multiply resulting string by concatenation number and then sum together\n",
    "\n",
    "def superDigit(n, k):\n",
    "    def helper(n):\n",
    "        sum = 0   #init sum var\n",
    "        for num in n:\n",
    "            sum += int(num) #convert each char to int and add\n",
    "        sum = str(sum)      #convert sum back to str\n",
    "        if len(sum) == 1:\n",
    "            return sum    #no digits to add\n",
    "        else:\n",
    "            return helper(sum)  #as long as you have multi digit numbers keep summing them (recursion)\n",
    "    \n",
    "    p = str(helper(n)*k)    #multiplies sum by concatenation multiplier\n",
    "    return helper(p)    #sum result of all sums\n",
    "\n",
    "\n",
    "superDigit('9875',3)\n"
   ]
  },
  {
   "cell_type": "code",
   "execution_count": null,
   "metadata": {},
   "outputs": [],
   "source": [
    "# if n = 1, richard\n",
    "# 6 bin = 110\n",
    "# 6 - 1 = 5 bin = 101\n",
    "# bin end 1 = odd, bin end 0 = even\n",
    "\n",
    "\n",
    "def counterGame(n):\n",
    "    #count binary strings (1/0) of numbers\n",
    "    setbits = bin(n-1).count('1')\n",
    "    \n",
    "    if setbits % 2 == 1:    #odd\n",
    "        return 'Louise'\n",
    "    else:\n",
    "        return 'Richard'"
   ]
  },
  {
   "cell_type": "code",
   "execution_count": null,
   "metadata": {},
   "outputs": [],
   "source": [
    "# sum xor\n",
    "# logic - 2* num 0's\n",
    "# odd ends in 1 binary, even ends in 0\n",
    "# study with vaibhav\n",
    "# study bomberman example with vaibhav"
   ]
  },
  {
   "cell_type": "code",
   "execution_count": null,
   "metadata": {},
   "outputs": [],
   "source": [
    "#prime dates: find mistakes\n",
    "\n",
    "# gregorian calendar rules for leap year\n",
    "# year % 4 = 0 and year % 100 != 0\n",
    "# year % 400 = 0\n",
    "\n",
    "import re\n",
    "month = []\n",
    "\n",
    "# conditions for leapyear\n",
    "def updateLeapYear(year):\n",
    "    if year % 400 == 0:\n",
    "        month[2] = 29   #28 --> 29: this is leap year mistake 1\n",
    "    elif year % 100 == 0:   #not leap year, cannot be %100=0\n",
    "        month[2] = 29   #29-28 mistake 2\n",
    "    elif year % 4 == 0:\n",
    "        month[2] = 29\n",
    "    else:\n",
    "        month[2] = 28\n",
    "\n",
    "def storeMonth():\n",
    "    month[1] = 31\n",
    "    month[2] = 28\n",
    "    month[3] = 31\n",
    "    month[4] = 30\n",
    "    month[5] = 31\n",
    "    month[6] = 30\n",
    "    month[7] = 31\n",
    "    month[8] = 31\n",
    "    month[9] = 30\n",
    "    month[10] = 31\n",
    "    month[11] = 30\n",
    "    month[12] = 31\n",
    "\n",
    "# function:\n",
    "# input = two dates in day,month,year format and gets processed as dd-mm-yyyy\n",
    "# output = number of lucky(prime) dates inclusive between those dates\n",
    "def findPrimeDates(d1, m1, y1, d2, m2, y2):\n",
    "    storeMonth()    #list of months\n",
    "    result = 0      #init result var\n",
    "\n",
    "    #runs until break is met\n",
    "    #x = concatinated date and leading 0's erased\n",
    "    while(True):\n",
    "        x = d1                                      #ex. 02\n",
    "        x = x * 100 + m1                            #ex. 02*100 --> 200, + 8 = 208\n",
    "        x = x * 10000 + y1                          #ex. 208*1000 --> 208000, +2024 = 210,024. mistake 3\n",
    "        if x % 4 == 0 or x % 7 == 0:               #or condition not and, mistake 4\n",
    "            result = result + 1\n",
    "        if d1 == d2 and m1 == m2 and y1 == y2:\n",
    "            break\n",
    "        updateLeapYear(y1)\n",
    "        d1 = d1 + 1\n",
    "        if d1 > month[m1]:\n",
    "            m1 = m1 + 1\n",
    "            d1 = 1\n",
    "            if m1 > 12:\n",
    "                y1 =  y1 + 1\n",
    "                m1 = 1     #if new year reset month to 1 not increment to 13, mistake 5\n",
    "    return result;\n",
    "\n",
    "for i in range(1, 15):\n",
    "    month.append(31)\n",
    "\n",
    "line = input()\n",
    "date = re.split('-| ', line)\n",
    "d1 = int(date[0])\n",
    "m1 = int(date[1])\n",
    "y1 = int(date[2])\n",
    "d2 = int(date[3])\n",
    "m2 = int(date[4])\n",
    "y2 = int(date[5])\n",
    "\n",
    "result = findPrimeDates(d1, m1, y1, d2, m2, y2)\n",
    "print(result)\n",
    "\n",
    "\n",
    "\n"
   ]
  },
  {
   "cell_type": "code",
   "execution_count": null,
   "metadata": {},
   "outputs": [],
   "source": [
    "# new day chaos, go over this w vaibhav\n",
    "\n",
    "# input = array q (current line situation)\n",
    "# 1 swap = 1\n",
    "# 2 swaps = 2\n",
    "# >2 swaps = too chaotic\n",
    "# output = swap # + [\"too chaotic\"] if true\n",
    "# note: original index starts at 1\n",
    "# can also \n",
    "\n",
    "def minimumBribes(q):\n",
    "    # init bribe counter\n",
    "    bribes = 0\n",
    "    \n",
    "    # i = current index, o = original index\n",
    "    for i, o in enumerate(q):\n",
    "        # line starts from position 1\n",
    "        current = i+1\n",
    "        \n",
    "        # if origin - current index > 2, too chaotic\n",
    "        if o - current > 2:\n",
    "            print(\"Too chaotic\")\n",
    "            return\n",
    "        \n",
    "        # for 1-2 bribes\n",
    "        # window: (original - 2, or 0): current\n",
    "        for k in q[max(o-2, 0):i]:\n",
    "            if k > 0:\n",
    "                bribes +=1\n",
    "                \n",
    "    print(bribes)\n",
    "        "
   ]
  },
  {
   "cell_type": "markdown",
   "metadata": {},
   "source": [
    "# NeetCode Blind 75 DSA (Easy & Medium)"
   ]
  },
  {
   "cell_type": "markdown",
   "metadata": {},
   "source": [
    "### Arrays & Hashing"
   ]
  },
  {
   "cell_type": "markdown",
   "metadata": {},
   "source": [
    "Terms and Concepts Used:\n",
    "- Nested Loop: Runs until condition is met, repeated according to outer for loop\n",
    "- Hashing: can assign values to keys using for loop with `dict[key]` = **val** syntac to empty dict  `myDict = {}`\n",
    "- Matching: usually done by sorting a string and comparing to original, either by checking hash map or with equality"
   ]
  },
  {
   "cell_type": "markdown",
   "metadata": {},
   "source": [
    "#### Easy"
   ]
  },
  {
   "cell_type": "code",
   "execution_count": null,
   "metadata": {},
   "outputs": [],
   "source": [
    "# Two Sum\n",
    "# Time: 12:20 - 12:32 12 min\n",
    "\n",
    "# Brute Force Method: Nested For Loop (idx, idx + 1), check for equality. Quadratic Time Complexity O(n^2)\n",
    "# Optimized: Hash Map {num: ind, num: ind, ...}, search hash map for compliment which adds up to target. Time Complexity: Linear O(n)\n",
    "\n",
    "class Solution:\n",
    "    def twoSumBrute(nums: list, target: int) -> list:\n",
    "        # indexes of ints\n",
    "        for i in range(len(nums)):\n",
    "            # indexes of next int\n",
    "            for j in range(i+1, len(nums)):\n",
    "                # if values 1 and 2 = target\n",
    "                if nums[i] + nums[j] == target:\n",
    "                    # return indices\n",
    "                    return [i, j]\n",
    "        # else empty list if conditions not met\n",
    "        return []\n",
    "\n",
    "    def twoSumOpt(self, nums: List[int], target: int) -> List[int]:\n",
    "         #init hash map: 'number': index\n",
    "         num_index = {}\n",
    "\n",
    "         for i, num in enumerate(nums):\n",
    "               # find the number needed to be added to = target\n",
    "               # target = 7, num = 3, complement = 4\n",
    "               num2 = target - num1\n",
    "\n",
    "               if num2 in num_index:\n",
    "                  # return idx of both nums\n",
    "                  return [num_index[num2], i]\n",
    "\n",
    "            #if not in dict: then dict[key] = value\n",
    "            #add number as key, index as value\n",
    "            num_index[num1] = i\n",
    "      \n",
    "         #no solution = blank\n",
    "         return []\n",
    "    \n",
    "\n",
    "Solution.twoSumBrute(nums = [3,4,5,6], target = 8)"
   ]
  },
  {
   "cell_type": "markdown",
   "metadata": {},
   "source": [
    "#### Medium"
   ]
  },
  {
   "cell_type": "code",
   "execution_count": null,
   "metadata": {},
   "outputs": [],
   "source": [
    "# anagram groups (medium)\n",
    "# time 12:42 - 1:09 - 27 min\n",
    "\n",
    "#brute force: dictionary: keys = sorted string, values = anagrams, return sublists as .values(). T complexity = O(n * k log k)\n",
    "\n",
    "class Solution:\n",
    "    def groupAnagramsBruteForce(self, strs: List[str]) -> List[List[str]]:\n",
    "        #empty dict\n",
    "        anagrams  = {}\n",
    "\n",
    "        for str in strs:\n",
    "            #sorted strings used as anagrams{} keys\n",
    "            str2 = ''.join(sorted(str))\n",
    "\n",
    "            if str2 not in anagrams:\n",
    "                #anagrams{} key:[empty list]\n",
    "                anagrams[str2] = []\n",
    "\n",
    "            #set [empty list] to all matching anagrams\n",
    "            anagrams[str2].append(str)\n",
    "\n",
    "        #return all []'s\n",
    "        return list(anagrams.values())\n"
   ]
  },
  {
   "cell_type": "markdown",
   "metadata": {},
   "source": [
    "### Two Pointers"
   ]
  },
  {
   "cell_type": "markdown",
   "metadata": {},
   "source": [
    "Algorithm: Used on sorted array of ints\n",
    "\n",
    "- First Element index i = 0 (element 1)\n",
    "- Secont Element index j = n - 1 (last element)\n",
    "- while second element > first element\n",
    "  - if sum of both elements (array[i] + array [j]) = target, then true\n",
    "  - if less than target, keep moving up element 1\n",
    "  - if more than target, keep moving down element 2\n",
    "  - if target not met return false"
   ]
  },
  {
   "cell_type": "markdown",
   "metadata": {},
   "source": [
    "#### Easy"
   ]
  },
  {
   "cell_type": "code",
   "execution_count": 1,
   "metadata": {},
   "outputs": [],
   "source": [
    "# valid palindrome\n",
    "# time: 9:15 - 9:34 19 min\n",
    "# optimized approach. time complexity (O(n))\n",
    "\n",
    "class Solution:\n",
    "    def isPalindrome(self, s: str) -> bool:\n",
    "        # new list: lowercase, -strings -special chars --> newstr\n",
    "        newstr = ''.join(char for char in s.lower() if char.isalnum())\n",
    "        \n",
    "        # check if new str = reversed str\n",
    "        return newstr == newstr[::-1]"
   ]
  },
  {
   "cell_type": "markdown",
   "metadata": {},
   "source": [
    "# LeetCode SQL 45 Free Questions"
   ]
  },
  {
   "cell_type": "code",
   "execution_count": null,
   "metadata": {},
   "outputs": [],
   "source": [
    "-- 590. classes with more than 5 students\n",
    "-- time 1:27 seconds\n",
    "\n",
    "WITH t1 as (SELECT class, COUNT(student) as count FROM Courses GROUP BY class)\n",
    "\n",
    "SELECT class FROM t1 WHERE count >= 5;"
   ]
  },
  {
   "cell_type": "code",
   "execution_count": null,
   "metadata": {},
   "outputs": [],
   "source": []
  }
 ],
 "metadata": {
  "kernelspec": {
   "display_name": "base",
   "language": "python",
   "name": "python3"
  },
  "language_info": {
   "codemirror_mode": {
    "name": "ipython",
    "version": 3
   },
   "file_extension": ".py",
   "mimetype": "text/x-python",
   "name": "python",
   "nbconvert_exporter": "python",
   "pygments_lexer": "ipython3",
   "version": "3.9.12"
  },
  "polyglot_notebook": {
   "kernelInfo": {
    "defaultKernelName": "csharp",
    "items": [
     {
      "aliases": [],
      "name": "csharp"
     }
    ]
   }
  }
 },
 "nbformat": 4,
 "nbformat_minor": 2
}
