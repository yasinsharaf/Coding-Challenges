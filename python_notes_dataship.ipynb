{
 "cells": [
  {
   "cell_type": "markdown",
   "metadata": {},
   "source": [
    "# DataCamp: Coding Assessment\n",
    "### Conditionals & Control Structures\n",
    "- `enumerate(list,startValue)` iterates and indexes over elements in a collection\n",
    "  - 1 Variable in for loop returns tuple `(index, element)`\n",
    "  - 2 Variables in for loop returns index and element seperately\n",
    "- `iter(list)` converts list/string into iterable\n",
    "  - Each element can be printed using `next(list)`\n",
    "  \n",
    "### Data Structures\n",
    "Data Collections\n",
    "- Casting any data collection to a **set** will only keep distinct values\n",
    "  - The length of `set([1,1,2,3,3,3,4])` will be 4\n",
    "\n",
    "### Functions\n",
    "Special Keywords\n",
    "- `*args` allows you to pass in any number of arguments as an iterable collection\n",
    "- `**kwargs` allows for user defined keyword arguments\n",
    "  - Use Cases: Creating your own dictionary\n",
    "\n",
    "### OOP\n",
    "Classes\n",
    "- A class is like an object factory which has methods and constructors\n",
    "- `__init__(self, ...)` is not a constructor, but a default method which initializes and sets up the class\n",
    "  - Any objects given values under this is going to set their default value until argument is passed in when calling function\n",
    "Inheritance\n",
    "- `class myClass(parentClass)` is used to inherit parent attributes\n",
    "  - Can use `pass` keyword in child class if you do not wish to add any more attributes"
   ]
  },
  {
   "cell_type": "code",
   "execution_count": 1,
   "metadata": {},
   "outputs": [
    {
     "name": "stdout",
     "output_type": "stream",
     "text": [
      "(5, 'eat')\n",
      "(6, 'sleep')\n",
      "(7, 'repeat')\n",
      "100 eat\n",
      "101 sleep\n",
      "102 repeat\n"
     ]
    }
   ],
   "source": [
    "#enumerate example\n",
    "l1 = [\"eat\", \"sleep\", \"repeat\"]\n",
    "for ele in enumerate(l1, 5):\n",
    "    print(ele)\n",
    "\n",
    "for count, ele in enumerate(l1, 100):\n",
    "    print(count, ele)"
   ]
  },
  {
   "cell_type": "code",
   "execution_count": 2,
   "metadata": {},
   "outputs": [
    {
     "data": {
      "text/plain": [
       "{'a': 1, 'b': 2, 'c': 3}"
      ]
     },
     "execution_count": 2,
     "metadata": {},
     "output_type": "execute_result"
    }
   ],
   "source": [
    "#making a dictionary using **kwargs\n",
    "def make_dict(**kwargs):\n",
    "  return kwargs\n",
    "\n",
    "make_dict(a=1,b=2,c=3)"
   ]
  },
  {
   "cell_type": "code",
   "execution_count": null,
   "metadata": {},
   "outputs": [],
   "source": []
  }
 ],
 "metadata": {
  "kernelspec": {
   "display_name": "base",
   "language": "python",
   "name": "python3"
  },
  "language_info": {
   "codemirror_mode": {
    "name": "ipython",
    "version": 3
   },
   "file_extension": ".py",
   "mimetype": "text/x-python",
   "name": "python",
   "nbconvert_exporter": "python",
   "pygments_lexer": "ipython3",
   "version": "3.9.12"
  }
 },
 "nbformat": 4,
 "nbformat_minor": 2
}
