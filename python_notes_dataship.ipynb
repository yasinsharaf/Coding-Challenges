{
 "cells": [
  {
   "cell_type": "markdown",
   "metadata": {},
   "source": [
    "# DataCamp: Coding Assessment\n",
    "### Conditionals & Control Structures\n",
    "- `enumerate(list,startValue)` iterates and indexes over elements in a collection\n",
    "  - 1 Variable in for loop returns tuple `(index, element)`\n",
    "  - 2 Variables in for loop returns index and element seperately\n",
    "- `iter(list)` converts list/string into iterable\n",
    "  - Each element can be printed using `next(list)`\n",
    "  \n",
    "### Data Structures\n",
    "Data Collections\n",
    "- Casting any data collection to a **set** will only keep distinct values\n",
    "  - The length of `set([1,1,2,3,3,3,4])` will be 4\n",
    "\n",
    "### Functions\n",
    "Special Keywords\n",
    "- `*args` allows you to pass in any number of arguments as an iterable collection\n",
    "- `**kwargs` allows for user defined keyword arguments\n",
    "  - Use Cases: Creating your own dictionary\n",
    "- `*`: unpacks data collection\n",
    "- `range()` returns a sequence of numbers starting from 0 until 1 less than input. `range(4)` = 0-3.\n",
    "\n",
    "### OOP\n",
    "Classes\n",
    "- A class is like an object factory which has methods and constructors\n",
    "- `__init__(self, ...)` is not a constructor, but a default method which initializes and sets up the class\n",
    "  - Any objects given values under this is going to set their default value until argument is passed in when calling function\n",
    "Inheritance\n",
    "- `class myClass(parentClass)` is used to inherit parent attributes\n",
    "  - Can use `pass` keyword in child class if you do not wish to add any more attributes"
   ]
  },
  {
   "cell_type": "code",
   "execution_count": null,
   "metadata": {},
   "outputs": [],
   "source": [
    "#enumerate example\n",
    "l1 = [\"eat\", \"sleep\", \"repeat\"]\n",
    "for ele in enumerate(l1, 5):\n",
    "    print(ele)\n",
    "\n",
    "for count, ele in enumerate(l1, 100):\n",
    "    print(count, ele)"
   ]
  },
  {
   "cell_type": "code",
   "execution_count": null,
   "metadata": {},
   "outputs": [],
   "source": [
    "#making a dictionary using **kwargs\n",
    "def make_dict(**kwargs):\n",
    "  return kwargs\n",
    "\n",
    "make_dict(a=1,b=2,c=3)"
   ]
  },
  {
   "cell_type": "markdown",
   "metadata": {},
   "source": [
    "# Rapid Foundations: Python"
   ]
  },
  {
   "cell_type": "markdown",
   "metadata": {},
   "source": [
    "### Day 1\n",
    "Video - Intro (15 Min)\n",
    "- Setup and install Python/PyCharm Text Editor\n",
    "- print Hello World\n",
    "- Drawing a shape\n",
    "\n",
    "W3Schools\n",
    "- **For Loops**: iterates over a sequence (list/tuple/dict/set/string)\n",
    "  - Does not need iterator like while loop\n",
    "  - **Control statements**: directs flow of execution\n",
    "    - `break`: stops loop based on condition in body\n",
    "    - `continue`: skip an element of the sequence\n",
    "    - `pass`: when you do not want a block of code in for loop\n",
    "  - `range(start, stop, increment)`: starts @ start, ends @ end-1, increments by #\n",
    "  - `else`: block which executes after final loop\n",
    "    - Does not execute if `break` is used in loop body\n",
    "  - **Nested Loops**: inner loop executes 1x for each iteration of outer loop (cartesian product)\n",
    "    - If only inner loop is in `print()`, then it will print for each iteration of outer loop\n",
    "- **Conditions/If Statements**: uses logical conditions from math\n",
    "  - `if`\n",
    "    - nested if: if yes(a) and if yes(b) else\n",
    "  - `elif`\n",
    "  - `else`\n",
    "  - `and`\\ `or` \\ `not` operators within if\n",
    "  - **Shorthands (Conditional Expressions)**: for one-liner statements\n",
    "    - if: `if` [condition] `print()`\n",
    "    - if-else: `print() if` [expression] `else print()`\n",
    "    - Multiple Else: `print() if` [expression] `else print() if` [expression] `else print()`"
   ]
  },
  {
   "cell_type": "code",
   "execution_count": null,
   "metadata": {},
   "outputs": [],
   "source": [
    "#draw basic shape (triangle)\n",
    "print(\"   /|\")\n",
    "print(\"  / |\")\n",
    "print(\" /  |\")\n",
    "print(\"/___|\")"
   ]
  },
  {
   "cell_type": "markdown",
   "metadata": {},
   "source": [
    "### Day 2\n",
    "Video - Variables and Data Types\n",
    "\n",
    "W3Schools\n",
    "- **Variables:**\n",
    "  - **Text**: \n",
    "    - str\n",
    "  - **Numeric**:\n",
    "    - int: `12`\n",
    "    - float: `1.5` or scientific/power of 10 `10E3`\n",
    "    - complex: imaginary number `1j`\n",
    "      - cannot convert\n",
    "    - random: has its own module `random` with function `randrange()`\n",
    "  - **Sequence**:\n",
    "    - list: `[1,2]`\n",
    "    - tuple (immutable): `(1,2)`\n",
    "    - range: `range(start,stop)`\n",
    "  - **Mapping**:\n",
    "    - dictionary: `{a:1,b:2}`\n",
    "  - **Set**:\n",
    "    - set (distinct): `{1,2}`\n",
    "    - frozenset (immutable): `frozenset({1,2})`\n",
    "  - **Bool**: \n",
    "    - `True,False`\n",
    "  - **Binary**:\n",
    "    - bytes (immutable 0 - 256): `b\"Hello\"`\n",
    "    - bytearray (mutable 0 - 256): returns elements which can be changed `bytearray(5)`\n",
    "    - memoryview: returns object how its stored in memory\n",
    "  - **None**"
   ]
  },
  {
   "cell_type": "markdown",
   "metadata": {},
   "source": [
    "# HackerRank Challenges"
   ]
  },
  {
   "cell_type": "markdown",
   "metadata": {},
   "source": [
    "### Day 1 - Intro (Easy)\n",
    "- if-else\n",
    "- arithmetic\n",
    "- division\n",
    "  - Floor division(whole num): `a\\\\b` returns int\n",
    "- loops\n",
    "- print\n",
    "\n",
    "Notes:\n",
    "- Python files are called modules (.py) which define functions, classes, variables\n",
    "- `__main__`: special variable which indicates the module in use is called \"main\", or the main module.\n",
    "  - If you would like to use a different module, you can import\n",
    "  - HackerRank uses the main module for its exercises\n",
    "- STDIN (standard input): used for I/O programming to accepts standard input methods\n",
    "  - accepts input from user, file, and data streams"
   ]
  },
  {
   "cell_type": "code",
   "execution_count": null,
   "metadata": {},
   "outputs": [],
   "source": [
    "#1: print\n",
    "if __name__ == '__main__':\n",
    "    print(\"Hello, World!\")"
   ]
  },
  {
   "cell_type": "code",
   "execution_count": null,
   "metadata": {},
   "outputs": [],
   "source": [
    "#2: if-else\n",
    "import math\n",
    "import os\n",
    "import random\n",
    "import re\n",
    "import sys\n",
    "\n",
    "if __name__ == '__main__':\n",
    "    n = int(input().strip())\n",
    "    if n % 2 != 0 and n >= 1:\n",
    "        print(\"Weird\")\n",
    "    elif n >= 2 and n <= 5:\n",
    "        print(\"Not Weird\")\n",
    "    elif n >= 6 and n <= 20:\n",
    "        print(\"Weird\")\n",
    "    elif n % 2 == 0 and n > 20:\n",
    "        print(\"Not Weird\")\n",
    "\n",
    "#can also use range(2,6) etc"
   ]
  },
  {
   "cell_type": "code",
   "execution_count": null,
   "metadata": {},
   "outputs": [],
   "source": [
    "#3: arithmetic operators\n",
    "if __name__ == '__main__':\n",
    "    a = int(input())\n",
    "    b = int(input())\n",
    "    print(a+b)\n",
    "    print(a-b)\n",
    "    print(a*b)"
   ]
  },
  {
   "cell_type": "code",
   "execution_count": null,
   "metadata": {},
   "outputs": [],
   "source": [
    "#4: division\n",
    "if __name__ == '__main__':\n",
    "    a = int(input())\n",
    "    b = int(input())\n",
    "    print(a//b)\n",
    "    print(a/b)\n",
    "\n",
    "#output: division result int, division result float"
   ]
  },
  {
   "cell_type": "code",
   "execution_count": null,
   "metadata": {},
   "outputs": [],
   "source": [
    "#5: loops\n",
    "if __name__ == '__main__':\n",
    "    n = int(input())\n",
    "    for i in range(0,n):\n",
    "        print(i*i)\n",
    "\n",
    "#output: square of non-negative numbers less than input"
   ]
  },
  {
   "cell_type": "markdown",
   "metadata": {},
   "source": [
    "### Day 2 - Basic Data Types (Easy)"
   ]
  },
  {
   "cell_type": "markdown",
   "metadata": {},
   "source": [
    "List Comprehension\n",
    "- creates new list based on values of existing list: `new list = [x for x in fruits if \"a\" in x] `\n",
    "- Permutations: all possible combinations of a list of elements"
   ]
  },
  {
   "cell_type": "code",
   "execution_count": null,
   "metadata": {},
   "outputs": [],
   "source": [
    "if __name__ == '__main__':\n",
    "    x = int(input())    #sets end of range 1\n",
    "    y = int(input())    #sets end of range 2\n",
    "    z = int(input())    #sets end of range 3\n",
    "    n = int(input())    #sum of values in each range cannot = this number\n",
    "    \n",
    "    perms = [[i,j,k] for i in range(x+1) for j in range(y+1) for k in range(z+1) if i+j+k != n]\n",
    "    print(perms)\n",
    "\n",
    "#output: all combinations of the numbers between each range which do not add up to n"
   ]
  },
  {
   "cell_type": "markdown",
   "metadata": {},
   "source": [
    "Find the Runner-Up\n",
    "\n",
    "Task: print second highest number from given list\n",
    "- n: user input --> int\n",
    "- arr: user input (sequence of # spaced out) --> split nums by space -->  map `int()` conversion to each number = map object\n",
    "\n",
    "Steps:\n",
    "- sort input into asc order\n",
    "  - `sorted()` can be used on a set, but to call `.sort()` off object it needs to be a list\n",
    "  - can also use `reverse=True` kwarg to use positive index\n",
    "- convert arr to set to avoid fetching a duplicate max\n",
    "- fetch second to last number using index"
   ]
  },
  {
   "cell_type": "code",
   "execution_count": null,
   "metadata": {},
   "outputs": [],
   "source": [
    "if __name__ == '__main__':\n",
    "    n = int(input())\n",
    "    arr = map(int, input().split())\n",
    "    arr = sorted(set(arr))              #convert into set and sort asc\n",
    "    print(arr[-2])                      #print second to last number"
   ]
  },
  {
   "cell_type": "markdown",
   "metadata": {},
   "source": [
    "Nested Lists\n",
    "\n",
    "Task: Print name of student from list who scored second-lowest. List tied students alphabetically\n",
    "- Input 1: # of students(int) --> range()\n",
    "- Input 2: name (str)\n",
    "- Input 3: score --> float\n",
    "\n",
    "Steps:\n",
    "- Make 3 empty lists: names, scores, and records (nested list)\n",
    "- Loop 1:\n",
    "  - Append names to names list\n",
    "  - Append scores to scores list\n",
    "  - Append names + scores to records list\n",
    "- Remove duplicate scores from list and sort asc\n",
    "- Store target score (2nd Lowest)\n",
    "- Make a list of students who match target score using records list\n",
    "  - Sort this list alphabetically\n",
    "- Loop 2: Print names"
   ]
  },
  {
   "cell_type": "code",
   "execution_count": null,
   "metadata": {},
   "outputs": [],
   "source": [
    "if __name__ == '__main__':\n",
    "    names = []\n",
    "    scores = []\n",
    "    records = []\n",
    "    for _ in range(int(input())):\n",
    "        name = input()\n",
    "        score = float(input())\n",
    "        \n",
    "        names.append(name)\n",
    "        scores.append(score)\n",
    "        records.append([name,score])\n",
    "        \n",
    "    scores = sorted(set(scores))\n",
    "    target_score = scores[1]\n",
    "    target_students = sorted([i[0] for i in records if i[1] == target_score])\n",
    "    \n",
    "    for student in target_students:\n",
    "        print(student)"
   ]
  },
  {
   "cell_type": "markdown",
   "metadata": {},
   "source": [
    "Dictionaries\n",
    "\n",
    "Task: Find average score of students whose grades are listed in dictionary.\n",
    "- Input 1: # of records\n",
    "- Input 2: name and scores \n",
    "  - name is split from from scores (can be multiple)\n",
    "  - `*`: splat operator, unpacks multiple input values from list\n",
    "  - scores --> floats --> list\n",
    "  - dictionary: key = name, value = scores\n",
    "- Input 3: name of desired student\n",
    "\n",
    "Steps:\n",
    "- Pull scores from dictionary by name key\n",
    "- sum scores and divide by length\n",
    "- format to 2 dec places"
   ]
  },
  {
   "cell_type": "code",
   "execution_count": null,
   "metadata": {},
   "outputs": [],
   "source": [
    "if __name__ == '__main__':\n",
    "    n = int(input())\n",
    "    student_marks = {}\n",
    "    for _ in range(n):\n",
    "        name, *line = input().split()\n",
    "        scores = list(map(float, line))\n",
    "        student_marks[name] = scores\n",
    "    query_name = input()\n",
    "    \n",
    "    scores = student_marks[query_name]\n",
    "    avg = sum(scores)/len(scores)\n",
    "    print(format(avg, \".2F\"))"
   ]
  },
  {
   "cell_type": "markdown",
   "metadata": {},
   "source": [
    "Tuples\n",
    "\n",
    "Task: Create tuple t from ints and find hash\n",
    "- Input 1: int\n",
    "- Input 2: list of nums --> split --> map `int()`\n",
    "\n",
    "Steps:\n",
    "- Convert map object --> tuple\n",
    "- hash tuple\n",
    "  - `hash()`: returns hash value (int) of tuple, which is used to compare dict keys"
   ]
  },
  {
   "cell_type": "code",
   "execution_count": null,
   "metadata": {},
   "outputs": [],
   "source": [
    "if __name__ == '__main__':\n",
    "    n = int(input())\n",
    "    integer_list = map(int, input().split())\n",
    "    \n",
    "    myTuple = tuple(integer_list)\n",
    "    print(hash(myTuple))"
   ]
  },
  {
   "cell_type": "markdown",
   "metadata": {},
   "source": [
    "Lists\n",
    "\n",
    "Task: Update list based on functions passed in\n",
    "- Input 1: int (# of commands)\n",
    "- Input *N: lines containing commands\n",
    "\n",
    "Steps:\n",
    "- For Loop:\n",
    "  - Fetch Commands: split input --> map `str()` to convert type --> list\n",
    "  - each if statement corresponds to command, and body executes command which matches user string\n",
    "  - numbers inserted/removed/appended must be of `int` data type"
   ]
  },
  {
   "cell_type": "code",
   "execution_count": null,
   "metadata": {},
   "outputs": [],
   "source": [
    "if __name__ == '__main__':\n",
    "    N = int(input())\n",
    "    myList = []\n",
    "    for _ in range(N):\n",
    "        commands = list(map(str, input().split()))\n",
    "        if commands[0] == 'insert':\n",
    "            myList.insert(int(commands[1]), int(commands[2]))\n",
    "        elif commands[0] == 'print':\n",
    "            print(myList)\n",
    "        elif commands[0] == 'remove':\n",
    "            myList.remove(int(commands[1]))\n",
    "        elif commands[0] == 'append':\n",
    "            myList.append(int(commands[1]))\n",
    "        elif commands[0] == 'sort':\n",
    "            myList.sort()\n",
    "        elif commands[0] == 'pop':\n",
    "            myList.pop()\n",
    "        elif commands[0] == 'reverse':\n",
    "            myList.reverse()"
   ]
  }
 ],
 "metadata": {
  "kernelspec": {
   "display_name": "base",
   "language": "python",
   "name": "python3"
  },
  "language_info": {
   "codemirror_mode": {
    "name": "ipython",
    "version": 3
   },
   "file_extension": ".py",
   "mimetype": "text/x-python",
   "name": "python",
   "nbconvert_exporter": "python",
   "pygments_lexer": "ipython3",
   "version": "3.9.12"
  }
 },
 "nbformat": 4,
 "nbformat_minor": 2
}
