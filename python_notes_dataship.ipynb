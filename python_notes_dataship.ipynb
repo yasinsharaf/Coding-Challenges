{
 "cells": [
  {
   "cell_type": "markdown",
   "metadata": {},
   "source": [
    "# DataCamp: Coding Assessment\n",
    "### Conditionals & Control Structures\n",
    "- `enumerate(list,startValue)` iterates and indexes over elements in a collection\n",
    "  - 1 Variable in for loop returns tuple `(index, element)`\n",
    "  - 2 Variables in for loop returns index and element seperately\n",
    "- `iter(list)` converts list/string into iterable\n",
    "  - Each element can be printed using `next(list)`\n",
    "  \n",
    "### Data Structures\n",
    "Data Collections\n",
    "- Casting any data collection to a **set** will only keep distinct values\n",
    "  - The length of `set([1,1,2,3,3,3,4])` will be 4\n",
    "\n",
    "### Functions\n",
    "Special Keywords\n",
    "- `*args` allows you to pass in any number of arguments as an iterable collection\n",
    "- `**kwargs` allows for user defined keyword arguments\n",
    "  - Use Cases: Creating your own dictionary\n",
    "- `*`: unpacks data collection\n",
    "- `range()` returns a sequence of numbers starting from 0 until 1 less than input. `range(4)` = 0-3.\n",
    "\n",
    "### OOP\n",
    "Classes\n",
    "- A class is like an object factory which has methods and constructors\n",
    "- `__init__(self, ...)` is not a constructor, but a default method which initializes and sets up the class\n",
    "  - Any objects given values under this is going to set their default value until argument is passed in when calling function\n",
    "Inheritance\n",
    "- `class myClass(parentClass)` is used to inherit parent attributes\n",
    "  - Can use `pass` keyword in child class if you do not wish to add any more attributes"
   ]
  },
  {
   "cell_type": "code",
   "execution_count": null,
   "metadata": {},
   "outputs": [],
   "source": [
    "#enumerate example\n",
    "l1 = [\"eat\", \"sleep\", \"repeat\"]\n",
    "for ele in enumerate(l1, 5):\n",
    "    print(ele)\n",
    "\n",
    "for count, ele in enumerate(l1, 100):\n",
    "    print(count, ele)"
   ]
  },
  {
   "cell_type": "code",
   "execution_count": null,
   "metadata": {},
   "outputs": [],
   "source": [
    "#making a dictionary using **kwargs\n",
    "def make_dict(**kwargs):\n",
    "  return kwargs\n",
    "\n",
    "make_dict(a=1,b=2,c=3)"
   ]
  },
  {
   "cell_type": "markdown",
   "metadata": {},
   "source": [
    "# Rapid Foundations: Python"
   ]
  },
  {
   "cell_type": "markdown",
   "metadata": {},
   "source": [
    "### Intro\n",
    "Video - Intro (15 Min)\n",
    "- Setup and install Python/PyCharm Text Editor\n",
    "- print Hello World\n",
    "- Drawing a shape\n",
    "\n",
    "W3Schools\n",
    "- **For Loops**: iterates over a sequence (list/tuple/dict/set/string)\n",
    "  - Does not need iterator like while loop\n",
    "  - **Control statements**: directs flow of execution\n",
    "    - `break`: stops loop based on condition in body\n",
    "    - `continue`: skip an element of the sequence\n",
    "    - `pass`: when you do not want a block of code in for loop\n",
    "  - `range(start, stop, increment)`: starts @ start, ends @ end-1, increments by #\n",
    "  - `else`: block which executes after final loop\n",
    "    - Does not execute if `break` is used in loop body\n",
    "  - **Nested Loops**: inner loop executes 1x for each iteration of outer loop (cartesian product)\n",
    "    - If only inner loop is in `print()`, then it will print for each iteration of outer loop\n",
    "- **Conditions/If Statements**: uses logical conditions from math\n",
    "  - `if`\n",
    "    - nested if: if yes(a) and if yes(b) else\n",
    "  - `elif`\n",
    "  - `else`\n",
    "  - `and`\\ `or` \\ `not` operators within if\n",
    "  - **Shorthands (Conditional Expressions)**: for one-liner statements\n",
    "    - if: `if` [condition] `print()`\n",
    "    - if-else: `print() if` [expression] `else print()`\n",
    "    - Multiple Else: `print() if` [expression] `else print() if` [expression] `else print()`"
   ]
  },
  {
   "cell_type": "code",
   "execution_count": null,
   "metadata": {},
   "outputs": [],
   "source": [
    "#draw basic shape (triangle)\n",
    "print(\"   /|\")\n",
    "print(\"  / |\")\n",
    "print(\" /  |\")\n",
    "print(\"/___|\")"
   ]
  },
  {
   "cell_type": "markdown",
   "metadata": {},
   "source": [
    "# HackerRank Challenges"
   ]
  },
  {
   "cell_type": "markdown",
   "metadata": {},
   "source": [
    "### Subdomain (Easy)\n",
    "- if-else\n",
    "- arithmetic\n",
    "- division\n",
    "  - Floor division(whole num): `a\\\\b` returns int\n",
    "- loops\n",
    "- print\n",
    "\n",
    "Notes:\n",
    "- Python files are called modules (.py) which define functions, classes, variables\n",
    "- `__main__`: special variable which indicates the module in use is called \"main\", or the main module.\n",
    "  - If you would like to use a different module, you can import\n",
    "  - HackerRank uses the main module for its exercises\n",
    "- STDIN (standard input): used for I/O programming to accepts standard input methods\n",
    "  - accepts input from user, file, and data streams"
   ]
  },
  {
   "cell_type": "code",
   "execution_count": null,
   "metadata": {},
   "outputs": [],
   "source": [
    "#1: print\n",
    "if __name__ == '__main__':\n",
    "    print(\"Hello, World!\")"
   ]
  },
  {
   "cell_type": "code",
   "execution_count": null,
   "metadata": {},
   "outputs": [],
   "source": [
    "#2: if-else\n",
    "import math\n",
    "import os\n",
    "import random\n",
    "import re\n",
    "import sys\n",
    "\n",
    "if __name__ == '__main__':\n",
    "    n = int(input().strip())\n",
    "    if n % 2 != 0 and n >= 1:\n",
    "        print(\"Weird\")\n",
    "    elif n >= 2 and n <= 5:\n",
    "        print(\"Not Weird\")\n",
    "    elif n >= 6 and n <= 20:\n",
    "        print(\"Weird\")\n",
    "    elif n % 2 == 0 and n > 20:\n",
    "        print(\"Not Weird\")\n",
    "\n",
    "#can also use range(2,6) etc"
   ]
  },
  {
   "cell_type": "code",
   "execution_count": null,
   "metadata": {},
   "outputs": [],
   "source": [
    "#3: arithmetic operators\n",
    "if __name__ == '__main__':\n",
    "    a = int(input())\n",
    "    b = int(input())\n",
    "    print(a+b)\n",
    "    print(a-b)\n",
    "    print(a*b)"
   ]
  },
  {
   "cell_type": "code",
   "execution_count": null,
   "metadata": {},
   "outputs": [],
   "source": [
    "#4: division\n",
    "if __name__ == '__main__':\n",
    "    a = int(input())\n",
    "    b = int(input())\n",
    "    print(a//b)\n",
    "    print(a/b)\n",
    "\n",
    "#output: division result int, division result float"
   ]
  },
  {
   "cell_type": "code",
   "execution_count": null,
   "metadata": {},
   "outputs": [],
   "source": [
    "#5: loops\n",
    "if __name__ == '__main__':\n",
    "    n = int(input())\n",
    "    for i in range(0,n):\n",
    "        print(i*i)\n",
    "\n",
    "#output: square of non-negative numbers less than input"
   ]
  }
 ],
 "metadata": {
  "kernelspec": {
   "display_name": "base",
   "language": "python",
   "name": "python3"
  },
  "language_info": {
   "codemirror_mode": {
    "name": "ipython",
    "version": 3
   },
   "file_extension": ".py",
   "mimetype": "text/x-python",
   "name": "python",
   "nbconvert_exporter": "python",
   "pygments_lexer": "ipython3",
   "version": "3.9.12"
  }
 },
 "nbformat": 4,
 "nbformat_minor": 2
}
